{
  "nbformat": 4,
  "nbformat_minor": 0,
  "metadata": {
    "colab": {
      "name": "amazone-recommender-system-final.ipynb",
      "provenance": [],
      "collapsed_sections": [],
      "machine_shape": "hm",
      "authorship_tag": "ABX9TyPrOg0bjBHH78slIfcgdN+g",
      "include_colab_link": true
    },
    "kernelspec": {
      "name": "python3",
      "display_name": "Python 3"
    },
    "language_info": {
      "name": "python"
    },
    "accelerator": "GPU",
    "widgets": {
      "application/vnd.jupyter.widget-state+json": {
        "2fae59913ce944939dbaa3a5fec46a95": {
          "model_module": "@jupyter-widgets/controls",
          "model_name": "HBoxModel",
          "state": {
            "_view_name": "HBoxView",
            "_dom_classes": [],
            "_model_name": "HBoxModel",
            "_view_module": "@jupyter-widgets/controls",
            "_model_module_version": "1.5.0",
            "_view_count": null,
            "_view_module_version": "1.5.0",
            "box_style": "",
            "layout": "IPY_MODEL_03de1a43866641499b60ebbcc75b5aca",
            "_model_module": "@jupyter-widgets/controls",
            "children": [
              "IPY_MODEL_c0f4c42dd5c649909a54f5374ab32e50",
              "IPY_MODEL_86d60438c2524b88aa1d91fa944d4d71"
            ]
          }
        },
        "03de1a43866641499b60ebbcc75b5aca": {
          "model_module": "@jupyter-widgets/base",
          "model_name": "LayoutModel",
          "state": {
            "_view_name": "LayoutView",
            "grid_template_rows": null,
            "right": null,
            "justify_content": null,
            "_view_module": "@jupyter-widgets/base",
            "overflow": null,
            "_model_module_version": "1.2.0",
            "_view_count": null,
            "flex_flow": null,
            "width": null,
            "min_width": null,
            "border": null,
            "align_items": null,
            "bottom": null,
            "_model_module": "@jupyter-widgets/base",
            "top": null,
            "grid_column": null,
            "overflow_y": null,
            "overflow_x": null,
            "grid_auto_flow": null,
            "grid_area": null,
            "grid_template_columns": null,
            "flex": null,
            "_model_name": "LayoutModel",
            "justify_items": null,
            "grid_row": null,
            "max_height": null,
            "align_content": null,
            "visibility": null,
            "align_self": null,
            "height": null,
            "min_height": null,
            "padding": null,
            "grid_auto_rows": null,
            "grid_gap": null,
            "max_width": null,
            "order": null,
            "_view_module_version": "1.2.0",
            "grid_template_areas": null,
            "object_position": null,
            "object_fit": null,
            "grid_auto_columns": null,
            "margin": null,
            "display": null,
            "left": null
          }
        },
        "c0f4c42dd5c649909a54f5374ab32e50": {
          "model_module": "@jupyter-widgets/controls",
          "model_name": "FloatProgressModel",
          "state": {
            "_view_name": "ProgressView",
            "style": "IPY_MODEL_0704c01387f04ce9a3efd70f669f77e9",
            "_dom_classes": [],
            "description": "100%",
            "_model_name": "FloatProgressModel",
            "bar_style": "success",
            "max": 5,
            "_view_module": "@jupyter-widgets/controls",
            "_model_module_version": "1.5.0",
            "value": 5,
            "_view_count": null,
            "_view_module_version": "1.5.0",
            "orientation": "horizontal",
            "min": 0,
            "description_tooltip": null,
            "_model_module": "@jupyter-widgets/controls",
            "layout": "IPY_MODEL_b335a91b9de040908666c18d35782b5c"
          }
        },
        "86d60438c2524b88aa1d91fa944d4d71": {
          "model_module": "@jupyter-widgets/controls",
          "model_name": "HTMLModel",
          "state": {
            "_view_name": "HTMLView",
            "style": "IPY_MODEL_ea124a7ad6c84893a9f3b2206815c1de",
            "_dom_classes": [],
            "description": "",
            "_model_name": "HTMLModel",
            "placeholder": "​",
            "_view_module": "@jupyter-widgets/controls",
            "_model_module_version": "1.5.0",
            "value": " 5/5 [05:41&lt;00:00, 68.38s/it]",
            "_view_count": null,
            "_view_module_version": "1.5.0",
            "description_tooltip": null,
            "_model_module": "@jupyter-widgets/controls",
            "layout": "IPY_MODEL_d186fd157b4240aa94cbca62a7f9c2f1"
          }
        },
        "0704c01387f04ce9a3efd70f669f77e9": {
          "model_module": "@jupyter-widgets/controls",
          "model_name": "ProgressStyleModel",
          "state": {
            "_view_name": "StyleView",
            "_model_name": "ProgressStyleModel",
            "description_width": "initial",
            "_view_module": "@jupyter-widgets/base",
            "_model_module_version": "1.5.0",
            "_view_count": null,
            "_view_module_version": "1.2.0",
            "bar_color": null,
            "_model_module": "@jupyter-widgets/controls"
          }
        },
        "b335a91b9de040908666c18d35782b5c": {
          "model_module": "@jupyter-widgets/base",
          "model_name": "LayoutModel",
          "state": {
            "_view_name": "LayoutView",
            "grid_template_rows": null,
            "right": null,
            "justify_content": null,
            "_view_module": "@jupyter-widgets/base",
            "overflow": null,
            "_model_module_version": "1.2.0",
            "_view_count": null,
            "flex_flow": null,
            "width": null,
            "min_width": null,
            "border": null,
            "align_items": null,
            "bottom": null,
            "_model_module": "@jupyter-widgets/base",
            "top": null,
            "grid_column": null,
            "overflow_y": null,
            "overflow_x": null,
            "grid_auto_flow": null,
            "grid_area": null,
            "grid_template_columns": null,
            "flex": null,
            "_model_name": "LayoutModel",
            "justify_items": null,
            "grid_row": null,
            "max_height": null,
            "align_content": null,
            "visibility": null,
            "align_self": null,
            "height": null,
            "min_height": null,
            "padding": null,
            "grid_auto_rows": null,
            "grid_gap": null,
            "max_width": null,
            "order": null,
            "_view_module_version": "1.2.0",
            "grid_template_areas": null,
            "object_position": null,
            "object_fit": null,
            "grid_auto_columns": null,
            "margin": null,
            "display": null,
            "left": null
          }
        },
        "ea124a7ad6c84893a9f3b2206815c1de": {
          "model_module": "@jupyter-widgets/controls",
          "model_name": "DescriptionStyleModel",
          "state": {
            "_view_name": "StyleView",
            "_model_name": "DescriptionStyleModel",
            "description_width": "",
            "_view_module": "@jupyter-widgets/base",
            "_model_module_version": "1.5.0",
            "_view_count": null,
            "_view_module_version": "1.2.0",
            "_model_module": "@jupyter-widgets/controls"
          }
        },
        "d186fd157b4240aa94cbca62a7f9c2f1": {
          "model_module": "@jupyter-widgets/base",
          "model_name": "LayoutModel",
          "state": {
            "_view_name": "LayoutView",
            "grid_template_rows": null,
            "right": null,
            "justify_content": null,
            "_view_module": "@jupyter-widgets/base",
            "overflow": null,
            "_model_module_version": "1.2.0",
            "_view_count": null,
            "flex_flow": null,
            "width": null,
            "min_width": null,
            "border": null,
            "align_items": null,
            "bottom": null,
            "_model_module": "@jupyter-widgets/base",
            "top": null,
            "grid_column": null,
            "overflow_y": null,
            "overflow_x": null,
            "grid_auto_flow": null,
            "grid_area": null,
            "grid_template_columns": null,
            "flex": null,
            "_model_name": "LayoutModel",
            "justify_items": null,
            "grid_row": null,
            "max_height": null,
            "align_content": null,
            "visibility": null,
            "align_self": null,
            "height": null,
            "min_height": null,
            "padding": null,
            "grid_auto_rows": null,
            "grid_gap": null,
            "max_width": null,
            "order": null,
            "_view_module_version": "1.2.0",
            "grid_template_areas": null,
            "object_position": null,
            "object_fit": null,
            "grid_auto_columns": null,
            "margin": null,
            "display": null,
            "left": null
          }
        }
      }
    }
  },
  "cells": [
    {
      "cell_type": "markdown",
      "metadata": {
        "id": "view-in-github",
        "colab_type": "text"
      },
      "source": [
        "<a href=\"https://colab.research.google.com/github/Mino94/amazon-recommender-system/blob/main/amazone_recommender_system_final.ipynb\" target=\"_parent\"><img src=\"https://colab.research.google.com/assets/colab-badge.svg\" alt=\"Open In Colab\"/></a>"
      ]
    },
    {
      "cell_type": "markdown",
      "metadata": {
        "id": "cJznHdWuut8U"
      },
      "source": [
        "# 추천 시스템(Recoomender Systems)\n",
        "\n",
        "- 컨텐츠 기반 필터링(content-based filtering)\n",
        " - 사용자의 이전 행동과 명시적 피드백을 통해 사용자가 좋아하는 것과 유사한 항목을 추천\n",
        "- 협업 필터링 (collaborative filtering)\n",
        " - 사용자와 항목간의 유사성을 동시에 사용해 추천"
      ]
    },
    {
      "cell_type": "markdown",
      "metadata": {
        "id": "NDmS18gP9rwn"
      },
      "source": [
        "# EDA(탐색적 데이터 분석)\n",
        "\n",
        "- Fashion Item Info Data\n",
        "- User Review Info Data\n"
      ]
    },
    {
      "cell_type": "code",
      "metadata": {
        "colab": {
          "base_uri": "https://localhost:8080/"
        },
        "id": "a2lxBmiYqKVS",
        "outputId": "ad294dc8-7eb9-412e-b501-b25304053274"
      },
      "source": [
        "!wget http://deepyeti.ucsd.edu/jianmo/amazon/categoryFiles/AMAZON_FASHION.json.gz"
      ],
      "execution_count": 1,
      "outputs": [
        {
          "output_type": "stream",
          "text": [
            "--2021-06-09 04:15:53--  http://deepyeti.ucsd.edu/jianmo/amazon/categoryFiles/AMAZON_FASHION.json.gz\n",
            "Resolving deepyeti.ucsd.edu (deepyeti.ucsd.edu)... 169.228.63.50\n",
            "Connecting to deepyeti.ucsd.edu (deepyeti.ucsd.edu)|169.228.63.50|:80... connected.\n",
            "HTTP request sent, awaiting response... 200 OK\n",
            "Length: 93185167 (89M) [application/octet-stream]\n",
            "Saving to: ‘AMAZON_FASHION.json.gz’\n",
            "\n",
            "AMAZON_FASHION.json 100%[===================>]  88.87M  19.8MB/s    in 5.5s    \n",
            "\n",
            "2021-06-09 04:15:59 (16.3 MB/s) - ‘AMAZON_FASHION.json.gz’ saved [93185167/93185167]\n",
            "\n"
          ],
          "name": "stdout"
        }
      ]
    },
    {
      "cell_type": "code",
      "metadata": {
        "colab": {
          "base_uri": "https://localhost:8080/"
        },
        "id": "5dpoeuuAqL31",
        "outputId": "d2c89a75-d186-48e0-bc48-a5e61e8cdd25"
      },
      "source": [
        "!wget http://deepyeti.ucsd.edu/jianmo/amazon/metaFiles/meta_AMAZON_FASHION.json.gz"
      ],
      "execution_count": 2,
      "outputs": [
        {
          "output_type": "stream",
          "text": [
            "--2021-06-09 04:15:59--  http://deepyeti.ucsd.edu/jianmo/amazon/metaFiles/meta_AMAZON_FASHION.json.gz\n",
            "Resolving deepyeti.ucsd.edu (deepyeti.ucsd.edu)... 169.228.63.50\n",
            "Connecting to deepyeti.ucsd.edu (deepyeti.ucsd.edu)|169.228.63.50|:80... connected.\n",
            "HTTP request sent, awaiting response... 200 OK\n",
            "Length: 31372500 (30M) [application/octet-stream]\n",
            "Saving to: ‘meta_AMAZON_FASHION.json.gz’\n",
            "\n",
            "meta_AMAZON_FASHION 100%[===================>]  29.92M  11.8MB/s    in 2.5s    \n",
            "\n",
            "2021-06-09 04:16:02 (11.8 MB/s) - ‘meta_AMAZON_FASHION.json.gz’ saved [31372500/31372500]\n",
            "\n"
          ],
          "name": "stdout"
        }
      ]
    },
    {
      "cell_type": "code",
      "metadata": {
        "colab": {
          "base_uri": "https://localhost:8080/"
        },
        "id": "WpstwUGW9qUu",
        "outputId": "5aa95cc2-3adf-4737-8587-affdfb5e84d4"
      },
      "source": [
        "import numpy as np # linear algebra\n",
        "import pandas as pd # data processing, CSV file I/O (e.g. pd.read_csv)\n",
        "import os\n",
        "from IPython.core.interactiveshell import InteractiveShell\n",
        "InteractiveShell.ast_node_interactivity = \"all\"\n",
        "import math\n",
        "import json\n",
        "import time\n",
        "import matplotlib.pyplot as plt\n",
        "import seaborn as sns\n",
        "from sklearn.metrics.pairwise import cosine_similarity\n",
        "from sklearn.model_selection import train_test_split\n",
        "from sklearn.neighbors import NearestNeighbors\n",
        "from sklearn.externals import joblib\n",
        "import scipy.sparse\n",
        "from scipy.sparse import csr_matrix\n",
        "from scipy.sparse.linalg import svds\n",
        "import warnings; warnings.simplefilter('ignore')\n",
        "%matplotlib inline"
      ],
      "execution_count": 3,
      "outputs": [
        {
          "output_type": "stream",
          "text": [
            "/usr/local/lib/python3.7/dist-packages/sklearn/externals/joblib/__init__.py:15: FutureWarning: sklearn.externals.joblib is deprecated in 0.21 and will be removed in 0.23. Please import this functionality directly from joblib, which can be installed with: pip install joblib. If this warning is raised when loading pickled models, you may need to re-serialize those models with scikit-learn 0.21+.\n",
            "  warnings.warn(msg, category=FutureWarning)\n"
          ],
          "name": "stderr"
        }
      ]
    },
    {
      "cell_type": "code",
      "metadata": {
        "id": "9ymcIae8yQ6T"
      },
      "source": [
        "import json\n",
        "import gzip\n",
        "from urllib.request import urlopen\n",
        "\n",
        "import random\n",
        "from collections import defaultdict"
      ],
      "execution_count": 4,
      "outputs": []
    },
    {
      "cell_type": "markdown",
      "metadata": {
        "id": "094CM6wP-Opy"
      },
      "source": [
        "## Fashion Item Data"
      ]
    },
    {
      "cell_type": "code",
      "metadata": {
        "colab": {
          "base_uri": "https://localhost:8080/"
        },
        "id": "SZtgLsBMqOis",
        "outputId": "aeda182c-d91a-4e9b-ac0a-e6451e6eabba"
      },
      "source": [
        "### load the meta data\n",
        "\n",
        "data = []\n",
        "with gzip.open('meta_AMAZON_FASHION.json.gz') as f:\n",
        "    for l in f:\n",
        "        data.append(json.loads(l.strip()))\n",
        "    \n",
        "# total length of list, this number equals total number of products\n",
        "print(len(data))\n",
        "\n",
        "# first row of the list\n",
        "print(data[0])"
      ],
      "execution_count": 5,
      "outputs": [
        {
          "output_type": "stream",
          "text": [
            "186637\n",
            "{'title': 'Slime Time Fall Fest [With CDROM and Collector Cards and Neutron Balls, Incredi-Ball and Glow Stick Necklace, Paper Fram', 'image': ['https://images-na.ssl-images-amazon.com/images/I/51bSrINiWpL._US40_.jpg'], 'brand': 'Group Publishing (CO)', 'feature': ['Product Dimensions:\\n                    \\n8.7 x 3.6 x 11.4 inches', 'Shipping Weight:\\n                    \\n2.4 pounds'], 'rank': '13,052,976inClothing,Shoesamp;Jewelry(', 'date': '8.70 inches', 'asin': '0764443682'}\n"
          ],
          "name": "stdout"
        }
      ]
    },
    {
      "cell_type": "code",
      "metadata": {
        "colab": {
          "base_uri": "https://localhost:8080/",
          "height": 632
        },
        "id": "ApdZ_w5mqq6o",
        "outputId": "441abf3b-d771-4f02-b704-c808a1bb5a4c"
      },
      "source": [
        "df = pd.DataFrame.from_dict(data)\n",
        "\n",
        "df.head()"
      ],
      "execution_count": 6,
      "outputs": [
        {
          "output_type": "execute_result",
          "data": {
            "text/html": [
              "<div>\n",
              "<style scoped>\n",
              "    .dataframe tbody tr th:only-of-type {\n",
              "        vertical-align: middle;\n",
              "    }\n",
              "\n",
              "    .dataframe tbody tr th {\n",
              "        vertical-align: top;\n",
              "    }\n",
              "\n",
              "    .dataframe thead th {\n",
              "        text-align: right;\n",
              "    }\n",
              "</style>\n",
              "<table border=\"1\" class=\"dataframe\">\n",
              "  <thead>\n",
              "    <tr style=\"text-align: right;\">\n",
              "      <th></th>\n",
              "      <th>title</th>\n",
              "      <th>image</th>\n",
              "      <th>brand</th>\n",
              "      <th>feature</th>\n",
              "      <th>rank</th>\n",
              "      <th>date</th>\n",
              "      <th>asin</th>\n",
              "      <th>description</th>\n",
              "      <th>price</th>\n",
              "      <th>also_view</th>\n",
              "      <th>also_buy</th>\n",
              "      <th>fit</th>\n",
              "      <th>details</th>\n",
              "      <th>similar_item</th>\n",
              "      <th>tech1</th>\n",
              "    </tr>\n",
              "  </thead>\n",
              "  <tbody>\n",
              "    <tr>\n",
              "      <th>0</th>\n",
              "      <td>Slime Time Fall Fest [With CDROM and Collector...</td>\n",
              "      <td>[https://images-na.ssl-images-amazon.com/image...</td>\n",
              "      <td>Group Publishing (CO)</td>\n",
              "      <td>[Product Dimensions:\\n                    \\n8....</td>\n",
              "      <td>13,052,976inClothing,Shoesamp;Jewelry(</td>\n",
              "      <td>8.70 inches</td>\n",
              "      <td>0764443682</td>\n",
              "      <td>NaN</td>\n",
              "      <td>NaN</td>\n",
              "      <td>NaN</td>\n",
              "      <td>NaN</td>\n",
              "      <td>NaN</td>\n",
              "      <td>NaN</td>\n",
              "      <td>NaN</td>\n",
              "      <td>NaN</td>\n",
              "    </tr>\n",
              "    <tr>\n",
              "      <th>1</th>\n",
              "      <td>XCC Qi promise new spider snake preparing men'...</td>\n",
              "      <td>[https://images-na.ssl-images-amazon.com/image...</td>\n",
              "      <td>NaN</td>\n",
              "      <td>NaN</td>\n",
              "      <td>11,654,581inClothing,Shoesamp;Jewelry(</td>\n",
              "      <td>5 star</td>\n",
              "      <td>1291691480</td>\n",
              "      <td>NaN</td>\n",
              "      <td>NaN</td>\n",
              "      <td>NaN</td>\n",
              "      <td>NaN</td>\n",
              "      <td>NaN</td>\n",
              "      <td>NaN</td>\n",
              "      <td>NaN</td>\n",
              "      <td>NaN</td>\n",
              "    </tr>\n",
              "    <tr>\n",
              "      <th>2</th>\n",
              "      <td>Magical Things I Really Do Do Too!</td>\n",
              "      <td>[https://images-na.ssl-images-amazon.com/image...</td>\n",
              "      <td>Christopher Manos</td>\n",
              "      <td>[Package Dimensions:\\n                    \\n8....</td>\n",
              "      <td>19,308,073inClothing,ShoesJewelry(</td>\n",
              "      <td>5 star</td>\n",
              "      <td>1940280001</td>\n",
              "      <td>[For the professional or amateur magician.  Ro...</td>\n",
              "      <td>NaN</td>\n",
              "      <td>NaN</td>\n",
              "      <td>NaN</td>\n",
              "      <td>NaN</td>\n",
              "      <td>NaN</td>\n",
              "      <td>NaN</td>\n",
              "      <td>NaN</td>\n",
              "    </tr>\n",
              "    <tr>\n",
              "      <th>3</th>\n",
              "      <td>Ashes to Ashes, Oranges to Oranges</td>\n",
              "      <td>[https://images-na.ssl-images-amazon.com/image...</td>\n",
              "      <td>Flickerlamp Publishing</td>\n",
              "      <td>[Package Dimensions:\\n                    \\n8....</td>\n",
              "      <td>19,734,184inClothing,ShoesJewelry(</td>\n",
              "      <td>5 star</td>\n",
              "      <td>1940735033</td>\n",
              "      <td>NaN</td>\n",
              "      <td>NaN</td>\n",
              "      <td>NaN</td>\n",
              "      <td>NaN</td>\n",
              "      <td>NaN</td>\n",
              "      <td>NaN</td>\n",
              "      <td>NaN</td>\n",
              "      <td>NaN</td>\n",
              "    </tr>\n",
              "    <tr>\n",
              "      <th>4</th>\n",
              "      <td>Aether &amp; Empire #1 - 2016 First Printing Comic...</td>\n",
              "      <td>[https://images-na.ssl-images-amazon.com/image...</td>\n",
              "      <td>NaN</td>\n",
              "      <td>[Package Dimensions:\\n                    \\n10...</td>\n",
              "      <td>10,558,646inClothing,Shoesamp;Jewelry(</td>\n",
              "      <td>5 star</td>\n",
              "      <td>1940967805</td>\n",
              "      <td>NaN</td>\n",
              "      <td>$4.50</td>\n",
              "      <td>NaN</td>\n",
              "      <td>NaN</td>\n",
              "      <td>NaN</td>\n",
              "      <td>NaN</td>\n",
              "      <td>NaN</td>\n",
              "      <td>NaN</td>\n",
              "    </tr>\n",
              "  </tbody>\n",
              "</table>\n",
              "</div>"
            ],
            "text/plain": [
              "                                               title  ... tech1\n",
              "0  Slime Time Fall Fest [With CDROM and Collector...  ...   NaN\n",
              "1  XCC Qi promise new spider snake preparing men'...  ...   NaN\n",
              "2                 Magical Things I Really Do Do Too!  ...   NaN\n",
              "3                 Ashes to Ashes, Oranges to Oranges  ...   NaN\n",
              "4  Aether & Empire #1 - 2016 First Printing Comic...  ...   NaN\n",
              "\n",
              "[5 rows x 15 columns]"
            ]
          },
          "metadata": {
            "tags": []
          },
          "execution_count": 6
        }
      ]
    },
    {
      "cell_type": "code",
      "metadata": {
        "colab": {
          "base_uri": "https://localhost:8080/"
        },
        "id": "Lw-dCw779k6o",
        "outputId": "f00cdfcf-8d52-4a02-fd95-eaad08c772a7"
      },
      "source": [
        "df3 = df.fillna('')\n",
        "df4 = df3[df3.title.str.contains('getTime')] # unformatted rows\n",
        "item_info_df = df3[~df3.title.str.contains('getTime')] # filter those unformatted rows\n",
        "print(len(df4))\n",
        "print(len(item_info_df))"
      ],
      "execution_count": 7,
      "outputs": [
        {
          "output_type": "stream",
          "text": [
            "430\n",
            "186207\n"
          ],
          "name": "stdout"
        }
      ]
    },
    {
      "cell_type": "code",
      "metadata": {
        "colab": {
          "base_uri": "https://localhost:8080/"
        },
        "id": "cfTfKOtqxE9w",
        "outputId": "f6e4d864-5fcd-4b73-b5da-80595eda314b"
      },
      "source": [
        "item_info_df.info()"
      ],
      "execution_count": 8,
      "outputs": [
        {
          "output_type": "stream",
          "text": [
            "<class 'pandas.core.frame.DataFrame'>\n",
            "Int64Index: 186207 entries, 0 to 186636\n",
            "Data columns (total 15 columns):\n",
            " #   Column        Non-Null Count   Dtype \n",
            "---  ------        --------------   ----- \n",
            " 0   title         186207 non-null  object\n",
            " 1   image         186207 non-null  object\n",
            " 2   brand         186207 non-null  object\n",
            " 3   feature       186207 non-null  object\n",
            " 4   rank          186207 non-null  object\n",
            " 5   date          186207 non-null  object\n",
            " 6   asin          186207 non-null  object\n",
            " 7   description   186207 non-null  object\n",
            " 8   price         186207 non-null  object\n",
            " 9   also_view     186207 non-null  object\n",
            " 10  also_buy      186207 non-null  object\n",
            " 11  fit           186207 non-null  object\n",
            " 12  details       186207 non-null  object\n",
            " 13  similar_item  186207 non-null  object\n",
            " 14  tech1         186207 non-null  object\n",
            "dtypes: object(15)\n",
            "memory usage: 22.7+ MB\n"
          ],
          "name": "stdout"
        }
      ]
    },
    {
      "cell_type": "markdown",
      "metadata": {
        "id": "_fB-YY3F-HqR"
      },
      "source": [
        "## User Review data "
      ]
    },
    {
      "cell_type": "code",
      "metadata": {
        "colab": {
          "base_uri": "https://localhost:8080/"
        },
        "id": "xMH7-Mho695D",
        "outputId": "8e4cc749-37b9-4c46-b7d7-5045877d6cd2"
      },
      "source": [
        "data = []\n",
        "with gzip.open('AMAZON_FASHION.json.gz') as f:\n",
        "    for l in f:\n",
        "        data.append(json.loads(l.strip()))\n",
        "\n",
        "print(len(data))\n",
        "print(data[0])"
      ],
      "execution_count": 103,
      "outputs": [
        {
          "output_type": "stream",
          "text": [
            "883636\n",
            "{'overall': 5.0, 'verified': True, 'reviewTime': '10 20, 2014', 'reviewerID': 'A1D4G1SNUZWQOT', 'asin': '7106116521', 'reviewerName': 'Tracy', 'reviewText': 'Exactly what I needed.', 'summary': 'perfect replacements!!', 'unixReviewTime': 1413763200}\n"
          ],
          "name": "stdout"
        }
      ]
    },
    {
      "cell_type": "code",
      "metadata": {
        "colab": {
          "base_uri": "https://localhost:8080/"
        },
        "id": "QNLEng8N-kU9",
        "outputId": "f78c3a13-2e68-4dbc-ae86-6ebf4c907fb4"
      },
      "source": [
        "df = pd.DataFrame.from_dict(data)\n",
        "\n",
        "print(len(df))"
      ],
      "execution_count": 104,
      "outputs": [
        {
          "output_type": "stream",
          "text": [
            "883636\n"
          ],
          "name": "stdout"
        }
      ]
    },
    {
      "cell_type": "code",
      "metadata": {
        "colab": {
          "base_uri": "https://localhost:8080/",
          "height": 514
        },
        "id": "uSQhnzME-nnA",
        "outputId": "ec5d0df8-a1ef-4339-d379-3d9a9a4ac0a6"
      },
      "source": [
        "df_fashion_review = df[(df.verified == True)]\n",
        "df_fashion_review = df_fashion_review.sort_values(by=['unixReviewTime'], ignore_index=True)\n",
        "df_fashion_review = df_fashion_review[(df_fashion_review.unixReviewTime >= 1483196400)] # 2017년 이후 리뷰\n",
        "\n",
        "print(len(df_fashion_review))\n",
        "df_fashion_review.head()"
      ],
      "execution_count": 105,
      "outputs": [
        {
          "output_type": "stream",
          "text": [
            "225339\n"
          ],
          "name": "stdout"
        },
        {
          "output_type": "execute_result",
          "data": {
            "text/html": [
              "<div>\n",
              "<style scoped>\n",
              "    .dataframe tbody tr th:only-of-type {\n",
              "        vertical-align: middle;\n",
              "    }\n",
              "\n",
              "    .dataframe tbody tr th {\n",
              "        vertical-align: top;\n",
              "    }\n",
              "\n",
              "    .dataframe thead th {\n",
              "        text-align: right;\n",
              "    }\n",
              "</style>\n",
              "<table border=\"1\" class=\"dataframe\">\n",
              "  <thead>\n",
              "    <tr style=\"text-align: right;\">\n",
              "      <th></th>\n",
              "      <th>overall</th>\n",
              "      <th>verified</th>\n",
              "      <th>reviewTime</th>\n",
              "      <th>reviewerID</th>\n",
              "      <th>asin</th>\n",
              "      <th>reviewerName</th>\n",
              "      <th>reviewText</th>\n",
              "      <th>summary</th>\n",
              "      <th>unixReviewTime</th>\n",
              "      <th>vote</th>\n",
              "      <th>style</th>\n",
              "      <th>image</th>\n",
              "    </tr>\n",
              "  </thead>\n",
              "  <tbody>\n",
              "    <tr>\n",
              "      <th>603360</th>\n",
              "      <td>1.0</td>\n",
              "      <td>True</td>\n",
              "      <td>01 1, 2017</td>\n",
              "      <td>A2D9XU6VBGO4HU</td>\n",
              "      <td>B01DBMTFA4</td>\n",
              "      <td>Amazon Customer</td>\n",
              "      <td>Sad</td>\n",
              "      <td>One Star</td>\n",
              "      <td>1483228800</td>\n",
              "      <td>NaN</td>\n",
              "      <td>{'Color:': ' Grey'}</td>\n",
              "      <td>NaN</td>\n",
              "    </tr>\n",
              "    <tr>\n",
              "      <th>603361</th>\n",
              "      <td>5.0</td>\n",
              "      <td>True</td>\n",
              "      <td>01 1, 2017</td>\n",
              "      <td>A1TQIXB48V40T7</td>\n",
              "      <td>B019NQ5Q14</td>\n",
              "      <td>Kait</td>\n",
              "      <td>Thick and cozy, just as pictured. The tag is m...</td>\n",
              "      <td>Thick and cozy, just as pictured. The tag ...</td>\n",
              "      <td>1483228800</td>\n",
              "      <td>NaN</td>\n",
              "      <td>NaN</td>\n",
              "      <td>NaN</td>\n",
              "    </tr>\n",
              "    <tr>\n",
              "      <th>603362</th>\n",
              "      <td>1.0</td>\n",
              "      <td>True</td>\n",
              "      <td>01 1, 2017</td>\n",
              "      <td>AF7241JYDTI8A</td>\n",
              "      <td>B01HD1C7PY</td>\n",
              "      <td>Rhonda</td>\n",
              "      <td>I ordered a 2xx and it was soooooo small it fi...</td>\n",
              "      <td>What a rip off!</td>\n",
              "      <td>1483228800</td>\n",
              "      <td>NaN</td>\n",
              "      <td>NaN</td>\n",
              "      <td>NaN</td>\n",
              "    </tr>\n",
              "    <tr>\n",
              "      <th>603363</th>\n",
              "      <td>5.0</td>\n",
              "      <td>True</td>\n",
              "      <td>01 1, 2017</td>\n",
              "      <td>AKHU2R9PJP22D</td>\n",
              "      <td>B017UVT3F4</td>\n",
              "      <td>J Cole</td>\n",
              "      <td>Granddaughter loves it.</td>\n",
              "      <td>Five Stars</td>\n",
              "      <td>1483228800</td>\n",
              "      <td>NaN</td>\n",
              "      <td>{'Size:': ' 5', 'Color:': ' Grey Multi'}</td>\n",
              "      <td>NaN</td>\n",
              "    </tr>\n",
              "    <tr>\n",
              "      <th>603364</th>\n",
              "      <td>5.0</td>\n",
              "      <td>True</td>\n",
              "      <td>01 1, 2017</td>\n",
              "      <td>A3BJHX7M023ZBI</td>\n",
              "      <td>B018W8N7EW</td>\n",
              "      <td>Moroccomom</td>\n",
              "      <td>Nice tee for shorts and capris.</td>\n",
              "      <td>Great tee shirt</td>\n",
              "      <td>1483228800</td>\n",
              "      <td>NaN</td>\n",
              "      <td>NaN</td>\n",
              "      <td>NaN</td>\n",
              "    </tr>\n",
              "  </tbody>\n",
              "</table>\n",
              "</div>"
            ],
            "text/plain": [
              "        overall  verified  reviewTime      reviewerID        asin  \\\n",
              "603360      1.0      True  01 1, 2017  A2D9XU6VBGO4HU  B01DBMTFA4   \n",
              "603361      5.0      True  01 1, 2017  A1TQIXB48V40T7  B019NQ5Q14   \n",
              "603362      1.0      True  01 1, 2017   AF7241JYDTI8A  B01HD1C7PY   \n",
              "603363      5.0      True  01 1, 2017   AKHU2R9PJP22D  B017UVT3F4   \n",
              "603364      5.0      True  01 1, 2017  A3BJHX7M023ZBI  B018W8N7EW   \n",
              "\n",
              "           reviewerName                                         reviewText  \\\n",
              "603360  Amazon Customer                                                Sad   \n",
              "603361             Kait  Thick and cozy, just as pictured. The tag is m...   \n",
              "603362           Rhonda  I ordered a 2xx and it was soooooo small it fi...   \n",
              "603363           J Cole                            Granddaughter loves it.   \n",
              "603364       Moroccomom                    Nice tee for shorts and capris.   \n",
              "\n",
              "                                              summary  unixReviewTime vote  \\\n",
              "603360                                       One Star      1483228800  NaN   \n",
              "603361  Thick and cozy, just as pictured. The tag ...      1483228800  NaN   \n",
              "603362                                What a rip off!      1483228800  NaN   \n",
              "603363                                     Five Stars      1483228800  NaN   \n",
              "603364                                Great tee shirt      1483228800  NaN   \n",
              "\n",
              "                                           style image  \n",
              "603360                       {'Color:': ' Grey'}   NaN  \n",
              "603361                                       NaN   NaN  \n",
              "603362                                       NaN   NaN  \n",
              "603363  {'Size:': ' 5', 'Color:': ' Grey Multi'}   NaN  \n",
              "603364                                       NaN   NaN  "
            ]
          },
          "metadata": {
            "tags": []
          },
          "execution_count": 105
        }
      ]
    },
    {
      "cell_type": "code",
      "metadata": {
        "colab": {
          "base_uri": "https://localhost:8080/",
          "height": 428
        },
        "id": "IGTbkGLR981U",
        "outputId": "e45a6f2a-8693-4a86-c3fa-848cca8b98e8"
      },
      "source": [
        "review_columns = ['overall', 'reviewerID', 'asin', 'reviewText', 'summary','unixReviewTime']\n",
        "\n",
        "df_fashion_review = df_fashion_review[review_columns]\n",
        "df_fashion_review.head()"
      ],
      "execution_count": 106,
      "outputs": [
        {
          "output_type": "execute_result",
          "data": {
            "text/html": [
              "<div>\n",
              "<style scoped>\n",
              "    .dataframe tbody tr th:only-of-type {\n",
              "        vertical-align: middle;\n",
              "    }\n",
              "\n",
              "    .dataframe tbody tr th {\n",
              "        vertical-align: top;\n",
              "    }\n",
              "\n",
              "    .dataframe thead th {\n",
              "        text-align: right;\n",
              "    }\n",
              "</style>\n",
              "<table border=\"1\" class=\"dataframe\">\n",
              "  <thead>\n",
              "    <tr style=\"text-align: right;\">\n",
              "      <th></th>\n",
              "      <th>overall</th>\n",
              "      <th>reviewerID</th>\n",
              "      <th>asin</th>\n",
              "      <th>reviewText</th>\n",
              "      <th>summary</th>\n",
              "      <th>unixReviewTime</th>\n",
              "    </tr>\n",
              "  </thead>\n",
              "  <tbody>\n",
              "    <tr>\n",
              "      <th>603360</th>\n",
              "      <td>1.0</td>\n",
              "      <td>A2D9XU6VBGO4HU</td>\n",
              "      <td>B01DBMTFA4</td>\n",
              "      <td>Sad</td>\n",
              "      <td>One Star</td>\n",
              "      <td>1483228800</td>\n",
              "    </tr>\n",
              "    <tr>\n",
              "      <th>603361</th>\n",
              "      <td>5.0</td>\n",
              "      <td>A1TQIXB48V40T7</td>\n",
              "      <td>B019NQ5Q14</td>\n",
              "      <td>Thick and cozy, just as pictured. The tag is m...</td>\n",
              "      <td>Thick and cozy, just as pictured. The tag ...</td>\n",
              "      <td>1483228800</td>\n",
              "    </tr>\n",
              "    <tr>\n",
              "      <th>603362</th>\n",
              "      <td>1.0</td>\n",
              "      <td>AF7241JYDTI8A</td>\n",
              "      <td>B01HD1C7PY</td>\n",
              "      <td>I ordered a 2xx and it was soooooo small it fi...</td>\n",
              "      <td>What a rip off!</td>\n",
              "      <td>1483228800</td>\n",
              "    </tr>\n",
              "    <tr>\n",
              "      <th>603363</th>\n",
              "      <td>5.0</td>\n",
              "      <td>AKHU2R9PJP22D</td>\n",
              "      <td>B017UVT3F4</td>\n",
              "      <td>Granddaughter loves it.</td>\n",
              "      <td>Five Stars</td>\n",
              "      <td>1483228800</td>\n",
              "    </tr>\n",
              "    <tr>\n",
              "      <th>603364</th>\n",
              "      <td>5.0</td>\n",
              "      <td>A3BJHX7M023ZBI</td>\n",
              "      <td>B018W8N7EW</td>\n",
              "      <td>Nice tee for shorts and capris.</td>\n",
              "      <td>Great tee shirt</td>\n",
              "      <td>1483228800</td>\n",
              "    </tr>\n",
              "  </tbody>\n",
              "</table>\n",
              "</div>"
            ],
            "text/plain": [
              "        overall      reviewerID        asin  \\\n",
              "603360      1.0  A2D9XU6VBGO4HU  B01DBMTFA4   \n",
              "603361      5.0  A1TQIXB48V40T7  B019NQ5Q14   \n",
              "603362      1.0   AF7241JYDTI8A  B01HD1C7PY   \n",
              "603363      5.0   AKHU2R9PJP22D  B017UVT3F4   \n",
              "603364      5.0  A3BJHX7M023ZBI  B018W8N7EW   \n",
              "\n",
              "                                               reviewText  \\\n",
              "603360                                                Sad   \n",
              "603361  Thick and cozy, just as pictured. The tag is m...   \n",
              "603362  I ordered a 2xx and it was soooooo small it fi...   \n",
              "603363                            Granddaughter loves it.   \n",
              "603364                    Nice tee for shorts and capris.   \n",
              "\n",
              "                                              summary  unixReviewTime  \n",
              "603360                                       One Star      1483228800  \n",
              "603361  Thick and cozy, just as pictured. The tag ...      1483228800  \n",
              "603362                                What a rip off!      1483228800  \n",
              "603363                                     Five Stars      1483228800  \n",
              "603364                                Great tee shirt      1483228800  "
            ]
          },
          "metadata": {
            "tags": []
          },
          "execution_count": 106
        }
      ]
    },
    {
      "cell_type": "code",
      "metadata": {
        "colab": {
          "base_uri": "https://localhost:8080/",
          "height": 428
        },
        "id": "690Zd36H-wxn",
        "outputId": "bbd1a8b0-a477-4ba3-fc8b-9f4ae8c41795"
      },
      "source": [
        "# 컬럼명 변경\n",
        "df_fashion_review.rename(columns={\n",
        "    \"overall\": \"rating\",\n",
        "    \"reviewerID\": \"user_id\",\n",
        "    \"asin\": \"item_id\",\n",
        "    \"reviewText\": \"review\",\n",
        "    \"unixReviewTime\": \"timestamp\"\n",
        "}, inplace=True)\n",
        "\n",
        "df_fashion_review.head()"
      ],
      "execution_count": 107,
      "outputs": [
        {
          "output_type": "execute_result",
          "data": {
            "text/html": [
              "<div>\n",
              "<style scoped>\n",
              "    .dataframe tbody tr th:only-of-type {\n",
              "        vertical-align: middle;\n",
              "    }\n",
              "\n",
              "    .dataframe tbody tr th {\n",
              "        vertical-align: top;\n",
              "    }\n",
              "\n",
              "    .dataframe thead th {\n",
              "        text-align: right;\n",
              "    }\n",
              "</style>\n",
              "<table border=\"1\" class=\"dataframe\">\n",
              "  <thead>\n",
              "    <tr style=\"text-align: right;\">\n",
              "      <th></th>\n",
              "      <th>rating</th>\n",
              "      <th>user_id</th>\n",
              "      <th>item_id</th>\n",
              "      <th>review</th>\n",
              "      <th>summary</th>\n",
              "      <th>timestamp</th>\n",
              "    </tr>\n",
              "  </thead>\n",
              "  <tbody>\n",
              "    <tr>\n",
              "      <th>603360</th>\n",
              "      <td>1.0</td>\n",
              "      <td>A2D9XU6VBGO4HU</td>\n",
              "      <td>B01DBMTFA4</td>\n",
              "      <td>Sad</td>\n",
              "      <td>One Star</td>\n",
              "      <td>1483228800</td>\n",
              "    </tr>\n",
              "    <tr>\n",
              "      <th>603361</th>\n",
              "      <td>5.0</td>\n",
              "      <td>A1TQIXB48V40T7</td>\n",
              "      <td>B019NQ5Q14</td>\n",
              "      <td>Thick and cozy, just as pictured. The tag is m...</td>\n",
              "      <td>Thick and cozy, just as pictured. The tag ...</td>\n",
              "      <td>1483228800</td>\n",
              "    </tr>\n",
              "    <tr>\n",
              "      <th>603362</th>\n",
              "      <td>1.0</td>\n",
              "      <td>AF7241JYDTI8A</td>\n",
              "      <td>B01HD1C7PY</td>\n",
              "      <td>I ordered a 2xx and it was soooooo small it fi...</td>\n",
              "      <td>What a rip off!</td>\n",
              "      <td>1483228800</td>\n",
              "    </tr>\n",
              "    <tr>\n",
              "      <th>603363</th>\n",
              "      <td>5.0</td>\n",
              "      <td>AKHU2R9PJP22D</td>\n",
              "      <td>B017UVT3F4</td>\n",
              "      <td>Granddaughter loves it.</td>\n",
              "      <td>Five Stars</td>\n",
              "      <td>1483228800</td>\n",
              "    </tr>\n",
              "    <tr>\n",
              "      <th>603364</th>\n",
              "      <td>5.0</td>\n",
              "      <td>A3BJHX7M023ZBI</td>\n",
              "      <td>B018W8N7EW</td>\n",
              "      <td>Nice tee for shorts and capris.</td>\n",
              "      <td>Great tee shirt</td>\n",
              "      <td>1483228800</td>\n",
              "    </tr>\n",
              "  </tbody>\n",
              "</table>\n",
              "</div>"
            ],
            "text/plain": [
              "        rating         user_id     item_id  \\\n",
              "603360     1.0  A2D9XU6VBGO4HU  B01DBMTFA4   \n",
              "603361     5.0  A1TQIXB48V40T7  B019NQ5Q14   \n",
              "603362     1.0   AF7241JYDTI8A  B01HD1C7PY   \n",
              "603363     5.0   AKHU2R9PJP22D  B017UVT3F4   \n",
              "603364     5.0  A3BJHX7M023ZBI  B018W8N7EW   \n",
              "\n",
              "                                                   review  \\\n",
              "603360                                                Sad   \n",
              "603361  Thick and cozy, just as pictured. The tag is m...   \n",
              "603362  I ordered a 2xx and it was soooooo small it fi...   \n",
              "603363                            Granddaughter loves it.   \n",
              "603364                    Nice tee for shorts and capris.   \n",
              "\n",
              "                                              summary   timestamp  \n",
              "603360                                       One Star  1483228800  \n",
              "603361  Thick and cozy, just as pictured. The tag ...  1483228800  \n",
              "603362                                What a rip off!  1483228800  \n",
              "603363                                     Five Stars  1483228800  \n",
              "603364                                Great tee shirt  1483228800  "
            ]
          },
          "metadata": {
            "tags": []
          },
          "execution_count": 107
        }
      ]
    },
    {
      "cell_type": "code",
      "metadata": {
        "colab": {
          "base_uri": "https://localhost:8080/"
        },
        "id": "Hetxlazl_Cpn",
        "outputId": "37114737-9299-4eb0-fae3-d573a613e858"
      },
      "source": [
        "df_fashion_review.shape"
      ],
      "execution_count": 108,
      "outputs": [
        {
          "output_type": "execute_result",
          "data": {
            "text/plain": [
              "(225339, 6)"
            ]
          },
          "metadata": {
            "tags": []
          },
          "execution_count": 108
        }
      ]
    },
    {
      "cell_type": "code",
      "metadata": {
        "colab": {
          "base_uri": "https://localhost:8080/"
        },
        "id": "kfTbUqye_KB4",
        "outputId": "fa51c825-c240-4cef-9a2e-63040235207e"
      },
      "source": [
        "df_fashion_review.info()"
      ],
      "execution_count": 109,
      "outputs": [
        {
          "output_type": "stream",
          "text": [
            "<class 'pandas.core.frame.DataFrame'>\n",
            "Int64Index: 225339 entries, 603360 to 828698\n",
            "Data columns (total 6 columns):\n",
            " #   Column     Non-Null Count   Dtype  \n",
            "---  ------     --------------   -----  \n",
            " 0   rating     225339 non-null  float64\n",
            " 1   user_id    225339 non-null  object \n",
            " 2   item_id    225339 non-null  object \n",
            " 3   review     224899 non-null  object \n",
            " 4   summary    225153 non-null  object \n",
            " 5   timestamp  225339 non-null  int64  \n",
            "dtypes: float64(1), int64(1), object(4)\n",
            "memory usage: 12.0+ MB\n"
          ],
          "name": "stdout"
        }
      ]
    },
    {
      "cell_type": "code",
      "metadata": {
        "colab": {
          "base_uri": "https://localhost:8080/"
        },
        "id": "Z0umiWmU_Vmk",
        "outputId": "e250db9f-7e36-4f9e-c06d-203dee62724b"
      },
      "source": [
        "df_fashion_review.describe()['rating'].T"
      ],
      "execution_count": 110,
      "outputs": [
        {
          "output_type": "execute_result",
          "data": {
            "text/plain": [
              "count    225339.000000\n",
              "mean          3.981659\n",
              "std           1.398888\n",
              "min           1.000000\n",
              "25%           3.000000\n",
              "50%           5.000000\n",
              "75%           5.000000\n",
              "max           5.000000\n",
              "Name: rating, dtype: float64"
            ]
          },
          "metadata": {
            "tags": []
          },
          "execution_count": 110
        }
      ]
    },
    {
      "cell_type": "code",
      "metadata": {
        "colab": {
          "base_uri": "https://localhost:8080/"
        },
        "id": "d69c0weZ_a8s",
        "outputId": "80ebf230-221c-42f2-d3d1-3f13400c54c1"
      },
      "source": [
        "#Find the minimum and maximum ratings\n",
        "print('Minimum rating is: %d' %(df_fashion_review.rating.min()))\n",
        "print('Maximum rating is: %d' %(df_fashion_review.rating.max()))"
      ],
      "execution_count": 111,
      "outputs": [
        {
          "output_type": "stream",
          "text": [
            "Minimum rating is: 1\n",
            "Maximum rating is: 5\n"
          ],
          "name": "stdout"
        }
      ]
    },
    {
      "cell_type": "markdown",
      "metadata": {
        "id": "tx0LLGAa_iz8"
      },
      "source": [
        "The rating of the product range from 0 to 1"
      ]
    },
    {
      "cell_type": "markdown",
      "metadata": {
        "id": "4zJ4TN5O_k2q"
      },
      "source": [
        "## 결측치 처리"
      ]
    },
    {
      "cell_type": "code",
      "metadata": {
        "colab": {
          "base_uri": "https://localhost:8080/"
        },
        "id": "MRqeWFgc_eRm",
        "outputId": "e178ae4f-773c-46ea-d6f5-875a74d47983"
      },
      "source": [
        "print('Number of missing values across columns: \\n',df_fashion_review.isnull().sum())"
      ],
      "execution_count": 112,
      "outputs": [
        {
          "output_type": "stream",
          "text": [
            "Number of missing values across columns: \n",
            " rating         0\n",
            "user_id        0\n",
            "item_id        0\n",
            "review       440\n",
            "summary      186\n",
            "timestamp      0\n",
            "dtype: int64\n"
          ],
          "name": "stdout"
        }
      ]
    },
    {
      "cell_type": "code",
      "metadata": {
        "colab": {
          "base_uri": "https://localhost:8080/",
          "height": 352
        },
        "id": "2uoZcM9C_plQ",
        "outputId": "02978c89-57e4-4bf1-f092-839c4891cdea"
      },
      "source": [
        "# Check the distribution of the rating\n",
        "with sns.axes_style('white'):\n",
        "    g = sns.factorplot(\"rating\", data=df_fashion_review, aspect=2.0,kind='count')\n",
        "    g.set_ylabels(\"Total number of ratings\")"
      ],
      "execution_count": 113,
      "outputs": [
        {
          "output_type": "execute_result",
          "data": {
            "text/plain": [
              "<seaborn.axisgrid.FacetGrid at 0x7fb86295fad0>"
            ]
          },
          "metadata": {
            "tags": []
          },
          "execution_count": 113
        },
        {
          "output_type": "display_data",
          "data": {
            "image/png": "[encoded data removed]",
            "text/plain": [
              "<Figure size 720x360 with 1 Axes>"
            ]
          },
          "metadata": {
            "tags": []
          }
        }
      ]
    },
    {
      "cell_type": "markdown",
      "metadata": {
        "id": "FPynuYoS_wzB"
      },
      "source": [
        "### User와 Item 유일한 값"
      ]
    },
    {
      "cell_type": "code",
      "metadata": {
        "colab": {
          "base_uri": "https://localhost:8080/"
        },
        "id": "fnAHglgx_zK_",
        "outputId": "0ffb242d-511d-41f1-913e-0c1d667c61ae"
      },
      "source": [
        "print(\"Total data \")\n",
        "print(\"-\"*50)\n",
        "print(\"\\nTotal no of ratings :\",df_fashion_review.shape[0])\n",
        "print(\"Total No of Users   :\", len(np.unique(df_fashion_review.user_id)))\n",
        "print(\"Total No of products  :\", len(np.unique(df_fashion_review.item_id)))"
      ],
      "execution_count": 114,
      "outputs": [
        {
          "output_type": "stream",
          "text": [
            "Total data \n",
            "--------------------------------------------------\n",
            "\n",
            "Total no of ratings : 225339\n",
            "Total No of Users   : 202923\n",
            "Total No of products  : 60820\n"
          ],
          "name": "stdout"
        }
      ]
    },
    {
      "cell_type": "markdown",
      "metadata": {
        "id": "dg_kbn25AMO1"
      },
      "source": [
        "## 불필요한 컬럼 제거\n",
        "\n",
        "- timestamp\n",
        "- summary"
      ]
    },
    {
      "cell_type": "code",
      "metadata": {
        "id": "qCkPlh2m_uW9"
      },
      "source": [
        "df_fashion_review.drop(['timestamp', 'summary'], axis=1, inplace=True)"
      ],
      "execution_count": 115,
      "outputs": []
    },
    {
      "cell_type": "code",
      "metadata": {
        "colab": {
          "base_uri": "https://localhost:8080/",
          "height": 238
        },
        "id": "4vPfFXllAjvy",
        "outputId": "382d0148-5366-4c70-ddc6-010eb98f6b47"
      },
      "source": [
        "df_fashion_review.head()"
      ],
      "execution_count": 116,
      "outputs": [
        {
          "output_type": "execute_result",
          "data": {
            "text/html": [
              "<div>\n",
              "<style scoped>\n",
              "    .dataframe tbody tr th:only-of-type {\n",
              "        vertical-align: middle;\n",
              "    }\n",
              "\n",
              "    .dataframe tbody tr th {\n",
              "        vertical-align: top;\n",
              "    }\n",
              "\n",
              "    .dataframe thead th {\n",
              "        text-align: right;\n",
              "    }\n",
              "</style>\n",
              "<table border=\"1\" class=\"dataframe\">\n",
              "  <thead>\n",
              "    <tr style=\"text-align: right;\">\n",
              "      <th></th>\n",
              "      <th>rating</th>\n",
              "      <th>user_id</th>\n",
              "      <th>item_id</th>\n",
              "      <th>review</th>\n",
              "    </tr>\n",
              "  </thead>\n",
              "  <tbody>\n",
              "    <tr>\n",
              "      <th>603360</th>\n",
              "      <td>1.0</td>\n",
              "      <td>A2D9XU6VBGO4HU</td>\n",
              "      <td>B01DBMTFA4</td>\n",
              "      <td>Sad</td>\n",
              "    </tr>\n",
              "    <tr>\n",
              "      <th>603361</th>\n",
              "      <td>5.0</td>\n",
              "      <td>A1TQIXB48V40T7</td>\n",
              "      <td>B019NQ5Q14</td>\n",
              "      <td>Thick and cozy, just as pictured. The tag is m...</td>\n",
              "    </tr>\n",
              "    <tr>\n",
              "      <th>603362</th>\n",
              "      <td>1.0</td>\n",
              "      <td>AF7241JYDTI8A</td>\n",
              "      <td>B01HD1C7PY</td>\n",
              "      <td>I ordered a 2xx and it was soooooo small it fi...</td>\n",
              "    </tr>\n",
              "    <tr>\n",
              "      <th>603363</th>\n",
              "      <td>5.0</td>\n",
              "      <td>AKHU2R9PJP22D</td>\n",
              "      <td>B017UVT3F4</td>\n",
              "      <td>Granddaughter loves it.</td>\n",
              "    </tr>\n",
              "    <tr>\n",
              "      <th>603364</th>\n",
              "      <td>5.0</td>\n",
              "      <td>A3BJHX7M023ZBI</td>\n",
              "      <td>B018W8N7EW</td>\n",
              "      <td>Nice tee for shorts and capris.</td>\n",
              "    </tr>\n",
              "  </tbody>\n",
              "</table>\n",
              "</div>"
            ],
            "text/plain": [
              "        rating         user_id     item_id  \\\n",
              "603360     1.0  A2D9XU6VBGO4HU  B01DBMTFA4   \n",
              "603361     5.0  A1TQIXB48V40T7  B019NQ5Q14   \n",
              "603362     1.0   AF7241JYDTI8A  B01HD1C7PY   \n",
              "603363     5.0   AKHU2R9PJP22D  B017UVT3F4   \n",
              "603364     5.0  A3BJHX7M023ZBI  B018W8N7EW   \n",
              "\n",
              "                                                   review  \n",
              "603360                                                Sad  \n",
              "603361  Thick and cozy, just as pictured. The tag is m...  \n",
              "603362  I ordered a 2xx and it was soooooo small it fi...  \n",
              "603363                            Granddaughter loves it.  \n",
              "603364                    Nice tee for shorts and capris.  "
            ]
          },
          "metadata": {
            "tags": []
          },
          "execution_count": 116
        }
      ]
    },
    {
      "cell_type": "code",
      "metadata": {
        "id": "GuWb9umG3qp7"
      },
      "source": [
        "df_fashion_review = df_fashion_review[['user_id', 'item_id', 'rating']]\n",
        "df_fashion_review.columns = ['user', 'item', 'ratings']\n",
        "df_fashion_review = df_fashion_review.reset_index()"
      ],
      "execution_count": 117,
      "outputs": []
    },
    {
      "cell_type": "code",
      "metadata": {
        "colab": {
          "base_uri": "https://localhost:8080/",
          "height": 111
        },
        "id": "b_dLEaliF_Dc",
        "outputId": "d5fc28c9-337f-49e1-b408-192fc16fa7cb"
      },
      "source": [
        "df_fashion_review.head(2)"
      ],
      "execution_count": 118,
      "outputs": [
        {
          "output_type": "execute_result",
          "data": {
            "text/html": [
              "<div>\n",
              "<style scoped>\n",
              "    .dataframe tbody tr th:only-of-type {\n",
              "        vertical-align: middle;\n",
              "    }\n",
              "\n",
              "    .dataframe tbody tr th {\n",
              "        vertical-align: top;\n",
              "    }\n",
              "\n",
              "    .dataframe thead th {\n",
              "        text-align: right;\n",
              "    }\n",
              "</style>\n",
              "<table border=\"1\" class=\"dataframe\">\n",
              "  <thead>\n",
              "    <tr style=\"text-align: right;\">\n",
              "      <th></th>\n",
              "      <th>index</th>\n",
              "      <th>user</th>\n",
              "      <th>item</th>\n",
              "      <th>ratings</th>\n",
              "    </tr>\n",
              "  </thead>\n",
              "  <tbody>\n",
              "    <tr>\n",
              "      <th>0</th>\n",
              "      <td>603360</td>\n",
              "      <td>A2D9XU6VBGO4HU</td>\n",
              "      <td>B01DBMTFA4</td>\n",
              "      <td>1.0</td>\n",
              "    </tr>\n",
              "    <tr>\n",
              "      <th>1</th>\n",
              "      <td>603361</td>\n",
              "      <td>A1TQIXB48V40T7</td>\n",
              "      <td>B019NQ5Q14</td>\n",
              "      <td>5.0</td>\n",
              "    </tr>\n",
              "  </tbody>\n",
              "</table>\n",
              "</div>"
            ],
            "text/plain": [
              "    index            user        item  ratings\n",
              "0  603360  A2D9XU6VBGO4HU  B01DBMTFA4      1.0\n",
              "1  603361  A1TQIXB48V40T7  B019NQ5Q14      5.0"
            ]
          },
          "metadata": {
            "tags": []
          },
          "execution_count": 118
        }
      ]
    },
    {
      "cell_type": "code",
      "metadata": {
        "id": "rLX3iLxA4Dzn"
      },
      "source": [
        "df_fashion_review = df_fashion_review.drop(['index'], axis=1)\n"
      ],
      "execution_count": 119,
      "outputs": []
    },
    {
      "cell_type": "markdown",
      "metadata": {
        "id": "1mhiPBArzK_b"
      },
      "source": [
        "**어떤 사용자가 어떤 제품에 대해서 Rating을 몇 점을 주었는냐가 중요한 정보입니다.**"
      ]
    },
    {
      "cell_type": "code",
      "metadata": {
        "colab": {
          "base_uri": "https://localhost:8080/",
          "height": 204
        },
        "id": "5g9W-rjzGI3u",
        "outputId": "ed4f2c5d-fa15-42a8-8c0e-13e0611f3f59"
      },
      "source": [
        "df_fashion_review.head()"
      ],
      "execution_count": 120,
      "outputs": [
        {
          "output_type": "execute_result",
          "data": {
            "text/html": [
              "<div>\n",
              "<style scoped>\n",
              "    .dataframe tbody tr th:only-of-type {\n",
              "        vertical-align: middle;\n",
              "    }\n",
              "\n",
              "    .dataframe tbody tr th {\n",
              "        vertical-align: top;\n",
              "    }\n",
              "\n",
              "    .dataframe thead th {\n",
              "        text-align: right;\n",
              "    }\n",
              "</style>\n",
              "<table border=\"1\" class=\"dataframe\">\n",
              "  <thead>\n",
              "    <tr style=\"text-align: right;\">\n",
              "      <th></th>\n",
              "      <th>user</th>\n",
              "      <th>item</th>\n",
              "      <th>ratings</th>\n",
              "    </tr>\n",
              "  </thead>\n",
              "  <tbody>\n",
              "    <tr>\n",
              "      <th>0</th>\n",
              "      <td>A2D9XU6VBGO4HU</td>\n",
              "      <td>B01DBMTFA4</td>\n",
              "      <td>1.0</td>\n",
              "    </tr>\n",
              "    <tr>\n",
              "      <th>1</th>\n",
              "      <td>A1TQIXB48V40T7</td>\n",
              "      <td>B019NQ5Q14</td>\n",
              "      <td>5.0</td>\n",
              "    </tr>\n",
              "    <tr>\n",
              "      <th>2</th>\n",
              "      <td>AF7241JYDTI8A</td>\n",
              "      <td>B01HD1C7PY</td>\n",
              "      <td>1.0</td>\n",
              "    </tr>\n",
              "    <tr>\n",
              "      <th>3</th>\n",
              "      <td>AKHU2R9PJP22D</td>\n",
              "      <td>B017UVT3F4</td>\n",
              "      <td>5.0</td>\n",
              "    </tr>\n",
              "    <tr>\n",
              "      <th>4</th>\n",
              "      <td>A3BJHX7M023ZBI</td>\n",
              "      <td>B018W8N7EW</td>\n",
              "      <td>5.0</td>\n",
              "    </tr>\n",
              "  </tbody>\n",
              "</table>\n",
              "</div>"
            ],
            "text/plain": [
              "             user        item  ratings\n",
              "0  A2D9XU6VBGO4HU  B01DBMTFA4      1.0\n",
              "1  A1TQIXB48V40T7  B019NQ5Q14      5.0\n",
              "2   AF7241JYDTI8A  B01HD1C7PY      1.0\n",
              "3   AKHU2R9PJP22D  B017UVT3F4      5.0\n",
              "4  A3BJHX7M023ZBI  B018W8N7EW      5.0"
            ]
          },
          "metadata": {
            "tags": []
          },
          "execution_count": 120
        }
      ]
    },
    {
      "cell_type": "code",
      "metadata": {
        "colab": {
          "base_uri": "https://localhost:8080/",
          "height": 632
        },
        "id": "ObpUvtiwGW4C",
        "outputId": "10d47af4-305b-4394-bbed-7104b81e7090"
      },
      "source": [
        "item_meta = item_info_df.copy()\n",
        "item_meta.columns = ['title', 'image', 'brand', 'feature', 'rank', 'date', 'item',\n",
        "       'description', 'price', 'also_view', 'also_buy', 'fit', 'details',\n",
        "       'similar_item', 'tech1']\n",
        "\n",
        "item_meta.head()"
      ],
      "execution_count": 28,
      "outputs": [
        {
          "output_type": "execute_result",
          "data": {
            "text/html": [
              "<div>\n",
              "<style scoped>\n",
              "    .dataframe tbody tr th:only-of-type {\n",
              "        vertical-align: middle;\n",
              "    }\n",
              "\n",
              "    .dataframe tbody tr th {\n",
              "        vertical-align: top;\n",
              "    }\n",
              "\n",
              "    .dataframe thead th {\n",
              "        text-align: right;\n",
              "    }\n",
              "</style>\n",
              "<table border=\"1\" class=\"dataframe\">\n",
              "  <thead>\n",
              "    <tr style=\"text-align: right;\">\n",
              "      <th></th>\n",
              "      <th>title</th>\n",
              "      <th>image</th>\n",
              "      <th>brand</th>\n",
              "      <th>feature</th>\n",
              "      <th>rank</th>\n",
              "      <th>date</th>\n",
              "      <th>item</th>\n",
              "      <th>description</th>\n",
              "      <th>price</th>\n",
              "      <th>also_view</th>\n",
              "      <th>also_buy</th>\n",
              "      <th>fit</th>\n",
              "      <th>details</th>\n",
              "      <th>similar_item</th>\n",
              "      <th>tech1</th>\n",
              "    </tr>\n",
              "  </thead>\n",
              "  <tbody>\n",
              "    <tr>\n",
              "      <th>0</th>\n",
              "      <td>Slime Time Fall Fest [With CDROM and Collector...</td>\n",
              "      <td>[https://images-na.ssl-images-amazon.com/image...</td>\n",
              "      <td>Group Publishing (CO)</td>\n",
              "      <td>[Product Dimensions:\\n                    \\n8....</td>\n",
              "      <td>13,052,976inClothing,Shoesamp;Jewelry(</td>\n",
              "      <td>8.70 inches</td>\n",
              "      <td>0764443682</td>\n",
              "      <td></td>\n",
              "      <td></td>\n",
              "      <td></td>\n",
              "      <td></td>\n",
              "      <td></td>\n",
              "      <td></td>\n",
              "      <td></td>\n",
              "      <td></td>\n",
              "    </tr>\n",
              "    <tr>\n",
              "      <th>1</th>\n",
              "      <td>XCC Qi promise new spider snake preparing men'...</td>\n",
              "      <td>[https://images-na.ssl-images-amazon.com/image...</td>\n",
              "      <td></td>\n",
              "      <td></td>\n",
              "      <td>11,654,581inClothing,Shoesamp;Jewelry(</td>\n",
              "      <td>5 star</td>\n",
              "      <td>1291691480</td>\n",
              "      <td></td>\n",
              "      <td></td>\n",
              "      <td></td>\n",
              "      <td></td>\n",
              "      <td></td>\n",
              "      <td></td>\n",
              "      <td></td>\n",
              "      <td></td>\n",
              "    </tr>\n",
              "    <tr>\n",
              "      <th>2</th>\n",
              "      <td>Magical Things I Really Do Do Too!</td>\n",
              "      <td>[https://images-na.ssl-images-amazon.com/image...</td>\n",
              "      <td>Christopher Manos</td>\n",
              "      <td>[Package Dimensions:\\n                    \\n8....</td>\n",
              "      <td>19,308,073inClothing,ShoesJewelry(</td>\n",
              "      <td>5 star</td>\n",
              "      <td>1940280001</td>\n",
              "      <td>[For the professional or amateur magician.  Ro...</td>\n",
              "      <td></td>\n",
              "      <td></td>\n",
              "      <td></td>\n",
              "      <td></td>\n",
              "      <td></td>\n",
              "      <td></td>\n",
              "      <td></td>\n",
              "    </tr>\n",
              "    <tr>\n",
              "      <th>3</th>\n",
              "      <td>Ashes to Ashes, Oranges to Oranges</td>\n",
              "      <td>[https://images-na.ssl-images-amazon.com/image...</td>\n",
              "      <td>Flickerlamp Publishing</td>\n",
              "      <td>[Package Dimensions:\\n                    \\n8....</td>\n",
              "      <td>19,734,184inClothing,ShoesJewelry(</td>\n",
              "      <td>5 star</td>\n",
              "      <td>1940735033</td>\n",
              "      <td></td>\n",
              "      <td></td>\n",
              "      <td></td>\n",
              "      <td></td>\n",
              "      <td></td>\n",
              "      <td></td>\n",
              "      <td></td>\n",
              "      <td></td>\n",
              "    </tr>\n",
              "    <tr>\n",
              "      <th>4</th>\n",
              "      <td>Aether &amp; Empire #1 - 2016 First Printing Comic...</td>\n",
              "      <td>[https://images-na.ssl-images-amazon.com/image...</td>\n",
              "      <td></td>\n",
              "      <td>[Package Dimensions:\\n                    \\n10...</td>\n",
              "      <td>10,558,646inClothing,Shoesamp;Jewelry(</td>\n",
              "      <td>5 star</td>\n",
              "      <td>1940967805</td>\n",
              "      <td></td>\n",
              "      <td>$4.50</td>\n",
              "      <td></td>\n",
              "      <td></td>\n",
              "      <td></td>\n",
              "      <td></td>\n",
              "      <td></td>\n",
              "      <td></td>\n",
              "    </tr>\n",
              "  </tbody>\n",
              "</table>\n",
              "</div>"
            ],
            "text/plain": [
              "                                               title  ... tech1\n",
              "0  Slime Time Fall Fest [With CDROM and Collector...  ...      \n",
              "1  XCC Qi promise new spider snake preparing men'...  ...      \n",
              "2                 Magical Things I Really Do Do Too!  ...      \n",
              "3                 Ashes to Ashes, Oranges to Oranges  ...      \n",
              "4  Aether & Empire #1 - 2016 First Printing Comic...  ...      \n",
              "\n",
              "[5 rows x 15 columns]"
            ]
          },
          "metadata": {
            "tags": []
          },
          "execution_count": 28
        }
      ]
    },
    {
      "cell_type": "code",
      "metadata": {
        "colab": {
          "base_uri": "https://localhost:8080/",
          "height": 289
        },
        "id": "mzzcgxsAHX71",
        "outputId": "9341cbc2-4a41-46b7-f5a6-2b741f854b50"
      },
      "source": [
        "df_user_item_review = pd.merge(df_fashion_review, item_meta[['item', 'title']], on='item')\n",
        "\n",
        "df_user_item_review.head()"
      ],
      "execution_count": 29,
      "outputs": [
        {
          "output_type": "execute_result",
          "data": {
            "text/html": [
              "<div>\n",
              "<style scoped>\n",
              "    .dataframe tbody tr th:only-of-type {\n",
              "        vertical-align: middle;\n",
              "    }\n",
              "\n",
              "    .dataframe tbody tr th {\n",
              "        vertical-align: top;\n",
              "    }\n",
              "\n",
              "    .dataframe thead th {\n",
              "        text-align: right;\n",
              "    }\n",
              "</style>\n",
              "<table border=\"1\" class=\"dataframe\">\n",
              "  <thead>\n",
              "    <tr style=\"text-align: right;\">\n",
              "      <th></th>\n",
              "      <th>user</th>\n",
              "      <th>item</th>\n",
              "      <th>ratings</th>\n",
              "      <th>title</th>\n",
              "    </tr>\n",
              "  </thead>\n",
              "  <tbody>\n",
              "    <tr>\n",
              "      <th>0</th>\n",
              "      <td>A2D9XU6VBGO4HU</td>\n",
              "      <td>B01DBMTFA4</td>\n",
              "      <td>1.0</td>\n",
              "      <td>HIBROS Love Knot Cufflinks Stainless Steel Tux...</td>\n",
              "    </tr>\n",
              "    <tr>\n",
              "      <th>1</th>\n",
              "      <td>A3CRODW9YZRIOT</td>\n",
              "      <td>B01DBMTFA4</td>\n",
              "      <td>1.0</td>\n",
              "      <td>HIBROS Love Knot Cufflinks Stainless Steel Tux...</td>\n",
              "    </tr>\n",
              "    <tr>\n",
              "      <th>2</th>\n",
              "      <td>A3D3597E9WA3CU</td>\n",
              "      <td>B01DBMTFA4</td>\n",
              "      <td>4.0</td>\n",
              "      <td>HIBROS Love Knot Cufflinks Stainless Steel Tux...</td>\n",
              "    </tr>\n",
              "    <tr>\n",
              "      <th>3</th>\n",
              "      <td>A3IWS9RVTPLHNH</td>\n",
              "      <td>B01DBMTFA4</td>\n",
              "      <td>5.0</td>\n",
              "      <td>HIBROS Love Knot Cufflinks Stainless Steel Tux...</td>\n",
              "    </tr>\n",
              "    <tr>\n",
              "      <th>4</th>\n",
              "      <td>A2T52GTR58N1Y7</td>\n",
              "      <td>B01DBMTFA4</td>\n",
              "      <td>5.0</td>\n",
              "      <td>HIBROS Love Knot Cufflinks Stainless Steel Tux...</td>\n",
              "    </tr>\n",
              "  </tbody>\n",
              "</table>\n",
              "</div>"
            ],
            "text/plain": [
              "             user  ...                                              title\n",
              "0  A2D9XU6VBGO4HU  ...  HIBROS Love Knot Cufflinks Stainless Steel Tux...\n",
              "1  A3CRODW9YZRIOT  ...  HIBROS Love Knot Cufflinks Stainless Steel Tux...\n",
              "2  A3D3597E9WA3CU  ...  HIBROS Love Knot Cufflinks Stainless Steel Tux...\n",
              "3  A3IWS9RVTPLHNH  ...  HIBROS Love Knot Cufflinks Stainless Steel Tux...\n",
              "4  A2T52GTR58N1Y7  ...  HIBROS Love Knot Cufflinks Stainless Steel Tux...\n",
              "\n",
              "[5 rows x 4 columns]"
            ]
          },
          "metadata": {
            "tags": []
          },
          "execution_count": 29
        }
      ]
    },
    {
      "cell_type": "code",
      "metadata": {
        "colab": {
          "base_uri": "https://localhost:8080/",
          "height": 284
        },
        "id": "NC_EDuBcGPOO",
        "outputId": "8b179b92-cd9e-4a64-9504-874e6dd6ef49"
      },
      "source": [
        "# pandas version 문제 # Unstacked DataFrame is too big, causing int32 overflow\n",
        "# 입력데이터 축소\n",
        "df_user_item_review = df_user_item_review.head(50000) \n",
        "mf_df = df_user_item_review.pivot_table(index='user', columns = 'item', values = 'ratings').fillna(0)\n",
        "mf_df.head()"
      ],
      "execution_count": 30,
      "outputs": [
        {
          "output_type": "execute_result",
          "data": {
            "text/html": [
              "<div>\n",
              "<style scoped>\n",
              "    .dataframe tbody tr th:only-of-type {\n",
              "        vertical-align: middle;\n",
              "    }\n",
              "\n",
              "    .dataframe tbody tr th {\n",
              "        vertical-align: top;\n",
              "    }\n",
              "\n",
              "    .dataframe thead th {\n",
              "        text-align: right;\n",
              "    }\n",
              "</style>\n",
              "<table border=\"1\" class=\"dataframe\">\n",
              "  <thead>\n",
              "    <tr style=\"text-align: right;\">\n",
              "      <th>item</th>\n",
              "      <th>B00008JVTT</th>\n",
              "      <th>B00066G516</th>\n",
              "      <th>B000ER9V68</th>\n",
              "      <th>B000GHMRLW</th>\n",
              "      <th>B000GHRZN2</th>\n",
              "      <th>B000HQ4P9O</th>\n",
              "      <th>B000JOOR7O</th>\n",
              "      <th>B000KPIHQ4</th>\n",
              "      <th>B000PHANNM</th>\n",
              "      <th>B000PMNS3E</th>\n",
              "      <th>B000PMPTF4</th>\n",
              "      <th>B000PMPTGI</th>\n",
              "      <th>B000POJKMU</th>\n",
              "      <th>B000POL05U</th>\n",
              "      <th>B000PQJQUY</th>\n",
              "      <th>B000V0IBDM</th>\n",
              "      <th>B000V588EO</th>\n",
              "      <th>B000VIUJLG</th>\n",
              "      <th>B000YFSR5G</th>\n",
              "      <th>B0014F57YY</th>\n",
              "      <th>B0014F8TIU</th>\n",
              "      <th>B0017U1KBK</th>\n",
              "      <th>B0018N8CHQ</th>\n",
              "      <th>B001AXC4YG</th>\n",
              "      <th>B001F8LJ92</th>\n",
              "      <th>B001G7R0CC</th>\n",
              "      <th>B001GIO77C</th>\n",
              "      <th>B001IKJOLW</th>\n",
              "      <th>B001LFP0EO</th>\n",
              "      <th>B001T4MSU6</th>\n",
              "      <th>B0027L8RSW</th>\n",
              "      <th>B002B90VTI</th>\n",
              "      <th>B002RC6FWQ</th>\n",
              "      <th>B002Z3N1HE</th>\n",
              "      <th>B003950BDY</th>\n",
              "      <th>B003BRC73C</th>\n",
              "      <th>B003ESTRW2</th>\n",
              "      <th>B003GJZDGS</th>\n",
              "      <th>B003MWEIA6</th>\n",
              "      <th>B003N7NXXS</th>\n",
              "      <th>...</th>\n",
              "      <th>B01GZZOZ8G</th>\n",
              "      <th>B01H059U4Y</th>\n",
              "      <th>B01H0C5A9Q</th>\n",
              "      <th>B01H1LQMXO</th>\n",
              "      <th>B01H1P2YTG</th>\n",
              "      <th>B01H1WHBPG</th>\n",
              "      <th>B01H2WVHQO</th>\n",
              "      <th>B01H3D4MZK</th>\n",
              "      <th>B01H3DCZBI</th>\n",
              "      <th>B01H3H4EB8</th>\n",
              "      <th>B01H4DGICE</th>\n",
              "      <th>B01H4P97HA</th>\n",
              "      <th>B01H5A1WUO</th>\n",
              "      <th>B01H62UHX4</th>\n",
              "      <th>B01H6FTQRY</th>\n",
              "      <th>B01H6Z43A4</th>\n",
              "      <th>B01H79VTDS</th>\n",
              "      <th>B01H7KY678</th>\n",
              "      <th>B01H7N6240</th>\n",
              "      <th>B01H7RIHEO</th>\n",
              "      <th>B01HBI0KW6</th>\n",
              "      <th>B01HBJW7DU</th>\n",
              "      <th>B01HBLV3K6</th>\n",
              "      <th>B01HC7ZP1M</th>\n",
              "      <th>B01HCHY6AI</th>\n",
              "      <th>B01HCJMCU2</th>\n",
              "      <th>B01HCVAP5O</th>\n",
              "      <th>B01HCWVWF0</th>\n",
              "      <th>B01HD1C7PY</th>\n",
              "      <th>B01HE9KXKQ</th>\n",
              "      <th>B01HEGKFKM</th>\n",
              "      <th>B01HEISONU</th>\n",
              "      <th>B01HFKK1AG</th>\n",
              "      <th>B01HFKZ57K</th>\n",
              "      <th>B01HFZM5RS</th>\n",
              "      <th>B01HH5SFNO</th>\n",
              "      <th>B01HHUQEY6</th>\n",
              "      <th>B01HIA2Y80</th>\n",
              "      <th>B01HIVIU82</th>\n",
              "      <th>B01HJGJ9LS</th>\n",
              "    </tr>\n",
              "    <tr>\n",
              "      <th>user</th>\n",
              "      <th></th>\n",
              "      <th></th>\n",
              "      <th></th>\n",
              "      <th></th>\n",
              "      <th></th>\n",
              "      <th></th>\n",
              "      <th></th>\n",
              "      <th></th>\n",
              "      <th></th>\n",
              "      <th></th>\n",
              "      <th></th>\n",
              "      <th></th>\n",
              "      <th></th>\n",
              "      <th></th>\n",
              "      <th></th>\n",
              "      <th></th>\n",
              "      <th></th>\n",
              "      <th></th>\n",
              "      <th></th>\n",
              "      <th></th>\n",
              "      <th></th>\n",
              "      <th></th>\n",
              "      <th></th>\n",
              "      <th></th>\n",
              "      <th></th>\n",
              "      <th></th>\n",
              "      <th></th>\n",
              "      <th></th>\n",
              "      <th></th>\n",
              "      <th></th>\n",
              "      <th></th>\n",
              "      <th></th>\n",
              "      <th></th>\n",
              "      <th></th>\n",
              "      <th></th>\n",
              "      <th></th>\n",
              "      <th></th>\n",
              "      <th></th>\n",
              "      <th></th>\n",
              "      <th></th>\n",
              "      <th></th>\n",
              "      <th></th>\n",
              "      <th></th>\n",
              "      <th></th>\n",
              "      <th></th>\n",
              "      <th></th>\n",
              "      <th></th>\n",
              "      <th></th>\n",
              "      <th></th>\n",
              "      <th></th>\n",
              "      <th></th>\n",
              "      <th></th>\n",
              "      <th></th>\n",
              "      <th></th>\n",
              "      <th></th>\n",
              "      <th></th>\n",
              "      <th></th>\n",
              "      <th></th>\n",
              "      <th></th>\n",
              "      <th></th>\n",
              "      <th></th>\n",
              "      <th></th>\n",
              "      <th></th>\n",
              "      <th></th>\n",
              "      <th></th>\n",
              "      <th></th>\n",
              "      <th></th>\n",
              "      <th></th>\n",
              "      <th></th>\n",
              "      <th></th>\n",
              "      <th></th>\n",
              "      <th></th>\n",
              "      <th></th>\n",
              "      <th></th>\n",
              "      <th></th>\n",
              "      <th></th>\n",
              "      <th></th>\n",
              "      <th></th>\n",
              "      <th></th>\n",
              "      <th></th>\n",
              "      <th></th>\n",
              "    </tr>\n",
              "  </thead>\n",
              "  <tbody>\n",
              "    <tr>\n",
              "      <th>A0010606488RW7ZH6EP7</th>\n",
              "      <td>0.0</td>\n",
              "      <td>0.0</td>\n",
              "      <td>0.0</td>\n",
              "      <td>0.0</td>\n",
              "      <td>0.0</td>\n",
              "      <td>0.0</td>\n",
              "      <td>0.0</td>\n",
              "      <td>0.0</td>\n",
              "      <td>0.0</td>\n",
              "      <td>0.0</td>\n",
              "      <td>0.0</td>\n",
              "      <td>0.0</td>\n",
              "      <td>0.0</td>\n",
              "      <td>0.0</td>\n",
              "      <td>0.0</td>\n",
              "      <td>0.0</td>\n",
              "      <td>0.0</td>\n",
              "      <td>0.0</td>\n",
              "      <td>0.0</td>\n",
              "      <td>0.0</td>\n",
              "      <td>0.0</td>\n",
              "      <td>0.0</td>\n",
              "      <td>0.0</td>\n",
              "      <td>0.0</td>\n",
              "      <td>0.0</td>\n",
              "      <td>0.0</td>\n",
              "      <td>0.0</td>\n",
              "      <td>0.0</td>\n",
              "      <td>0.0</td>\n",
              "      <td>0.0</td>\n",
              "      <td>0.0</td>\n",
              "      <td>0.0</td>\n",
              "      <td>0.0</td>\n",
              "      <td>0.0</td>\n",
              "      <td>0.0</td>\n",
              "      <td>0.0</td>\n",
              "      <td>0.0</td>\n",
              "      <td>0.0</td>\n",
              "      <td>0.0</td>\n",
              "      <td>0.0</td>\n",
              "      <td>...</td>\n",
              "      <td>0.0</td>\n",
              "      <td>0.0</td>\n",
              "      <td>0.0</td>\n",
              "      <td>0.0</td>\n",
              "      <td>0.0</td>\n",
              "      <td>0.0</td>\n",
              "      <td>0.0</td>\n",
              "      <td>0.0</td>\n",
              "      <td>0.0</td>\n",
              "      <td>0.0</td>\n",
              "      <td>0.0</td>\n",
              "      <td>0.0</td>\n",
              "      <td>0.0</td>\n",
              "      <td>0.0</td>\n",
              "      <td>0.0</td>\n",
              "      <td>0.0</td>\n",
              "      <td>0.0</td>\n",
              "      <td>0.0</td>\n",
              "      <td>0.0</td>\n",
              "      <td>0.0</td>\n",
              "      <td>0.0</td>\n",
              "      <td>0.0</td>\n",
              "      <td>0.0</td>\n",
              "      <td>0.0</td>\n",
              "      <td>0.0</td>\n",
              "      <td>0.0</td>\n",
              "      <td>0.0</td>\n",
              "      <td>0.0</td>\n",
              "      <td>0.0</td>\n",
              "      <td>0.0</td>\n",
              "      <td>0.0</td>\n",
              "      <td>0.0</td>\n",
              "      <td>0.0</td>\n",
              "      <td>0.0</td>\n",
              "      <td>0.0</td>\n",
              "      <td>0.0</td>\n",
              "      <td>0.0</td>\n",
              "      <td>0.0</td>\n",
              "      <td>0.0</td>\n",
              "      <td>0.0</td>\n",
              "    </tr>\n",
              "    <tr>\n",
              "      <th>A0254933A6GXCEJ2WU0K</th>\n",
              "      <td>0.0</td>\n",
              "      <td>0.0</td>\n",
              "      <td>0.0</td>\n",
              "      <td>0.0</td>\n",
              "      <td>0.0</td>\n",
              "      <td>0.0</td>\n",
              "      <td>0.0</td>\n",
              "      <td>0.0</td>\n",
              "      <td>0.0</td>\n",
              "      <td>0.0</td>\n",
              "      <td>0.0</td>\n",
              "      <td>0.0</td>\n",
              "      <td>0.0</td>\n",
              "      <td>0.0</td>\n",
              "      <td>0.0</td>\n",
              "      <td>0.0</td>\n",
              "      <td>0.0</td>\n",
              "      <td>0.0</td>\n",
              "      <td>0.0</td>\n",
              "      <td>0.0</td>\n",
              "      <td>0.0</td>\n",
              "      <td>0.0</td>\n",
              "      <td>0.0</td>\n",
              "      <td>0.0</td>\n",
              "      <td>0.0</td>\n",
              "      <td>0.0</td>\n",
              "      <td>0.0</td>\n",
              "      <td>0.0</td>\n",
              "      <td>0.0</td>\n",
              "      <td>0.0</td>\n",
              "      <td>0.0</td>\n",
              "      <td>0.0</td>\n",
              "      <td>0.0</td>\n",
              "      <td>0.0</td>\n",
              "      <td>0.0</td>\n",
              "      <td>0.0</td>\n",
              "      <td>0.0</td>\n",
              "      <td>0.0</td>\n",
              "      <td>5.0</td>\n",
              "      <td>0.0</td>\n",
              "      <td>...</td>\n",
              "      <td>0.0</td>\n",
              "      <td>0.0</td>\n",
              "      <td>0.0</td>\n",
              "      <td>0.0</td>\n",
              "      <td>0.0</td>\n",
              "      <td>0.0</td>\n",
              "      <td>0.0</td>\n",
              "      <td>0.0</td>\n",
              "      <td>0.0</td>\n",
              "      <td>0.0</td>\n",
              "      <td>0.0</td>\n",
              "      <td>0.0</td>\n",
              "      <td>0.0</td>\n",
              "      <td>0.0</td>\n",
              "      <td>0.0</td>\n",
              "      <td>0.0</td>\n",
              "      <td>0.0</td>\n",
              "      <td>0.0</td>\n",
              "      <td>0.0</td>\n",
              "      <td>0.0</td>\n",
              "      <td>0.0</td>\n",
              "      <td>0.0</td>\n",
              "      <td>0.0</td>\n",
              "      <td>0.0</td>\n",
              "      <td>0.0</td>\n",
              "      <td>0.0</td>\n",
              "      <td>0.0</td>\n",
              "      <td>0.0</td>\n",
              "      <td>0.0</td>\n",
              "      <td>0.0</td>\n",
              "      <td>0.0</td>\n",
              "      <td>0.0</td>\n",
              "      <td>0.0</td>\n",
              "      <td>0.0</td>\n",
              "      <td>0.0</td>\n",
              "      <td>0.0</td>\n",
              "      <td>0.0</td>\n",
              "      <td>0.0</td>\n",
              "      <td>0.0</td>\n",
              "      <td>0.0</td>\n",
              "    </tr>\n",
              "    <tr>\n",
              "      <th>A02624829WK3PDCDC0XY</th>\n",
              "      <td>0.0</td>\n",
              "      <td>0.0</td>\n",
              "      <td>0.0</td>\n",
              "      <td>0.0</td>\n",
              "      <td>0.0</td>\n",
              "      <td>0.0</td>\n",
              "      <td>0.0</td>\n",
              "      <td>0.0</td>\n",
              "      <td>0.0</td>\n",
              "      <td>0.0</td>\n",
              "      <td>0.0</td>\n",
              "      <td>0.0</td>\n",
              "      <td>0.0</td>\n",
              "      <td>0.0</td>\n",
              "      <td>0.0</td>\n",
              "      <td>0.0</td>\n",
              "      <td>0.0</td>\n",
              "      <td>0.0</td>\n",
              "      <td>0.0</td>\n",
              "      <td>0.0</td>\n",
              "      <td>0.0</td>\n",
              "      <td>0.0</td>\n",
              "      <td>0.0</td>\n",
              "      <td>0.0</td>\n",
              "      <td>0.0</td>\n",
              "      <td>0.0</td>\n",
              "      <td>0.0</td>\n",
              "      <td>0.0</td>\n",
              "      <td>0.0</td>\n",
              "      <td>0.0</td>\n",
              "      <td>0.0</td>\n",
              "      <td>0.0</td>\n",
              "      <td>0.0</td>\n",
              "      <td>0.0</td>\n",
              "      <td>0.0</td>\n",
              "      <td>0.0</td>\n",
              "      <td>0.0</td>\n",
              "      <td>0.0</td>\n",
              "      <td>0.0</td>\n",
              "      <td>0.0</td>\n",
              "      <td>...</td>\n",
              "      <td>0.0</td>\n",
              "      <td>0.0</td>\n",
              "      <td>0.0</td>\n",
              "      <td>0.0</td>\n",
              "      <td>0.0</td>\n",
              "      <td>0.0</td>\n",
              "      <td>0.0</td>\n",
              "      <td>0.0</td>\n",
              "      <td>0.0</td>\n",
              "      <td>0.0</td>\n",
              "      <td>0.0</td>\n",
              "      <td>0.0</td>\n",
              "      <td>0.0</td>\n",
              "      <td>0.0</td>\n",
              "      <td>0.0</td>\n",
              "      <td>0.0</td>\n",
              "      <td>0.0</td>\n",
              "      <td>0.0</td>\n",
              "      <td>0.0</td>\n",
              "      <td>0.0</td>\n",
              "      <td>0.0</td>\n",
              "      <td>0.0</td>\n",
              "      <td>0.0</td>\n",
              "      <td>0.0</td>\n",
              "      <td>0.0</td>\n",
              "      <td>0.0</td>\n",
              "      <td>0.0</td>\n",
              "      <td>0.0</td>\n",
              "      <td>0.0</td>\n",
              "      <td>0.0</td>\n",
              "      <td>0.0</td>\n",
              "      <td>0.0</td>\n",
              "      <td>0.0</td>\n",
              "      <td>0.0</td>\n",
              "      <td>0.0</td>\n",
              "      <td>0.0</td>\n",
              "      <td>0.0</td>\n",
              "      <td>0.0</td>\n",
              "      <td>0.0</td>\n",
              "      <td>0.0</td>\n",
              "    </tr>\n",
              "    <tr>\n",
              "      <th>A0640431RJ4E56LR9NV5</th>\n",
              "      <td>0.0</td>\n",
              "      <td>0.0</td>\n",
              "      <td>0.0</td>\n",
              "      <td>0.0</td>\n",
              "      <td>0.0</td>\n",
              "      <td>0.0</td>\n",
              "      <td>0.0</td>\n",
              "      <td>0.0</td>\n",
              "      <td>0.0</td>\n",
              "      <td>0.0</td>\n",
              "      <td>0.0</td>\n",
              "      <td>0.0</td>\n",
              "      <td>0.0</td>\n",
              "      <td>0.0</td>\n",
              "      <td>0.0</td>\n",
              "      <td>0.0</td>\n",
              "      <td>0.0</td>\n",
              "      <td>0.0</td>\n",
              "      <td>0.0</td>\n",
              "      <td>0.0</td>\n",
              "      <td>0.0</td>\n",
              "      <td>0.0</td>\n",
              "      <td>0.0</td>\n",
              "      <td>0.0</td>\n",
              "      <td>0.0</td>\n",
              "      <td>0.0</td>\n",
              "      <td>0.0</td>\n",
              "      <td>0.0</td>\n",
              "      <td>0.0</td>\n",
              "      <td>0.0</td>\n",
              "      <td>0.0</td>\n",
              "      <td>0.0</td>\n",
              "      <td>0.0</td>\n",
              "      <td>0.0</td>\n",
              "      <td>0.0</td>\n",
              "      <td>0.0</td>\n",
              "      <td>0.0</td>\n",
              "      <td>0.0</td>\n",
              "      <td>0.0</td>\n",
              "      <td>0.0</td>\n",
              "      <td>...</td>\n",
              "      <td>0.0</td>\n",
              "      <td>0.0</td>\n",
              "      <td>0.0</td>\n",
              "      <td>0.0</td>\n",
              "      <td>0.0</td>\n",
              "      <td>0.0</td>\n",
              "      <td>0.0</td>\n",
              "      <td>0.0</td>\n",
              "      <td>0.0</td>\n",
              "      <td>0.0</td>\n",
              "      <td>0.0</td>\n",
              "      <td>0.0</td>\n",
              "      <td>0.0</td>\n",
              "      <td>0.0</td>\n",
              "      <td>0.0</td>\n",
              "      <td>0.0</td>\n",
              "      <td>0.0</td>\n",
              "      <td>0.0</td>\n",
              "      <td>0.0</td>\n",
              "      <td>0.0</td>\n",
              "      <td>0.0</td>\n",
              "      <td>0.0</td>\n",
              "      <td>0.0</td>\n",
              "      <td>0.0</td>\n",
              "      <td>0.0</td>\n",
              "      <td>0.0</td>\n",
              "      <td>0.0</td>\n",
              "      <td>0.0</td>\n",
              "      <td>0.0</td>\n",
              "      <td>0.0</td>\n",
              "      <td>0.0</td>\n",
              "      <td>0.0</td>\n",
              "      <td>0.0</td>\n",
              "      <td>0.0</td>\n",
              "      <td>0.0</td>\n",
              "      <td>0.0</td>\n",
              "      <td>0.0</td>\n",
              "      <td>0.0</td>\n",
              "      <td>0.0</td>\n",
              "      <td>0.0</td>\n",
              "    </tr>\n",
              "    <tr>\n",
              "      <th>A0650961HO7RGHL0IRPI</th>\n",
              "      <td>0.0</td>\n",
              "      <td>0.0</td>\n",
              "      <td>4.0</td>\n",
              "      <td>0.0</td>\n",
              "      <td>0.0</td>\n",
              "      <td>0.0</td>\n",
              "      <td>0.0</td>\n",
              "      <td>0.0</td>\n",
              "      <td>0.0</td>\n",
              "      <td>0.0</td>\n",
              "      <td>0.0</td>\n",
              "      <td>0.0</td>\n",
              "      <td>0.0</td>\n",
              "      <td>0.0</td>\n",
              "      <td>0.0</td>\n",
              "      <td>0.0</td>\n",
              "      <td>0.0</td>\n",
              "      <td>0.0</td>\n",
              "      <td>0.0</td>\n",
              "      <td>0.0</td>\n",
              "      <td>0.0</td>\n",
              "      <td>0.0</td>\n",
              "      <td>0.0</td>\n",
              "      <td>0.0</td>\n",
              "      <td>0.0</td>\n",
              "      <td>0.0</td>\n",
              "      <td>0.0</td>\n",
              "      <td>0.0</td>\n",
              "      <td>0.0</td>\n",
              "      <td>0.0</td>\n",
              "      <td>0.0</td>\n",
              "      <td>0.0</td>\n",
              "      <td>0.0</td>\n",
              "      <td>0.0</td>\n",
              "      <td>0.0</td>\n",
              "      <td>0.0</td>\n",
              "      <td>0.0</td>\n",
              "      <td>0.0</td>\n",
              "      <td>0.0</td>\n",
              "      <td>0.0</td>\n",
              "      <td>...</td>\n",
              "      <td>0.0</td>\n",
              "      <td>0.0</td>\n",
              "      <td>0.0</td>\n",
              "      <td>0.0</td>\n",
              "      <td>0.0</td>\n",
              "      <td>0.0</td>\n",
              "      <td>0.0</td>\n",
              "      <td>0.0</td>\n",
              "      <td>0.0</td>\n",
              "      <td>0.0</td>\n",
              "      <td>0.0</td>\n",
              "      <td>0.0</td>\n",
              "      <td>0.0</td>\n",
              "      <td>0.0</td>\n",
              "      <td>0.0</td>\n",
              "      <td>0.0</td>\n",
              "      <td>0.0</td>\n",
              "      <td>0.0</td>\n",
              "      <td>0.0</td>\n",
              "      <td>0.0</td>\n",
              "      <td>0.0</td>\n",
              "      <td>0.0</td>\n",
              "      <td>0.0</td>\n",
              "      <td>0.0</td>\n",
              "      <td>0.0</td>\n",
              "      <td>0.0</td>\n",
              "      <td>0.0</td>\n",
              "      <td>0.0</td>\n",
              "      <td>0.0</td>\n",
              "      <td>0.0</td>\n",
              "      <td>0.0</td>\n",
              "      <td>0.0</td>\n",
              "      <td>0.0</td>\n",
              "      <td>0.0</td>\n",
              "      <td>0.0</td>\n",
              "      <td>0.0</td>\n",
              "      <td>0.0</td>\n",
              "      <td>0.0</td>\n",
              "      <td>0.0</td>\n",
              "      <td>0.0</td>\n",
              "    </tr>\n",
              "  </tbody>\n",
              "</table>\n",
              "<p>5 rows × 1547 columns</p>\n",
              "</div>"
            ],
            "text/plain": [
              "item                  B00008JVTT  B00066G516  ...  B01HIVIU82  B01HJGJ9LS\n",
              "user                                          ...                        \n",
              "A0010606488RW7ZH6EP7         0.0         0.0  ...         0.0         0.0\n",
              "A0254933A6GXCEJ2WU0K         0.0         0.0  ...         0.0         0.0\n",
              "A02624829WK3PDCDC0XY         0.0         0.0  ...         0.0         0.0\n",
              "A0640431RJ4E56LR9NV5         0.0         0.0  ...         0.0         0.0\n",
              "A0650961HO7RGHL0IRPI         0.0         0.0  ...         0.0         0.0\n",
              "\n",
              "[5 rows x 1547 columns]"
            ]
          },
          "metadata": {
            "tags": []
          },
          "execution_count": 30
        }
      ]
    },
    {
      "cell_type": "code",
      "metadata": {
        "colab": {
          "base_uri": "https://localhost:8080/"
        },
        "id": "LkgbFJMZIJqd",
        "outputId": "c723cc24-0a00-4465-af06-e84dd841b4cb"
      },
      "source": [
        "R = mf_df.iloc[:, : ].values\n",
        "R"
      ],
      "execution_count": 31,
      "outputs": [
        {
          "output_type": "execute_result",
          "data": {
            "text/plain": [
              "array([[0., 0., 0., ..., 0., 0., 0.],\n",
              "       [0., 0., 0., ..., 0., 0., 0.],\n",
              "       [0., 0., 0., ..., 0., 0., 0.],\n",
              "       ...,\n",
              "       [0., 0., 0., ..., 0., 0., 0.],\n",
              "       [0., 0., 0., ..., 0., 0., 0.],\n",
              "       [0., 0., 0., ..., 0., 0., 0.]])"
            ]
          },
          "metadata": {
            "tags": []
          },
          "execution_count": 31
        }
      ]
    },
    {
      "cell_type": "markdown",
      "metadata": {
        "id": "aYXRZhVw9OOi"
      },
      "source": [
        "## Matrix Factorization\n",
        "\n",
        "행렬을 분해하고 분해한 형렬을 변수로써 학습하는 것이다.\n",
        "\n",
        "batch를 조정하지 않은 gradient descent를 사용하였고, 변수들은 numpy를 이용하여 보정하지 않은 완전한 랜덤 변수로 초기화하였다. \n"
      ]
    },
    {
      "cell_type": "code",
      "metadata": {
        "id": "O7iZ_37e-Vmw"
      },
      "source": [
        "import numpy as np\n",
        "from tqdm import tqdm_notebook as tqdm\n",
        "\n",
        "class  MatrixFactorization():\n",
        "    def __init__(self, R, k, learning_rate, reg_param, epochs, verbose=False):\n",
        "        \"\"\"\n",
        "        :param R: rating matrix\n",
        "        :param k: latent parameter\n",
        "        :param learning_rate: alpha on weight update\n",
        "        :param reg_param: beta on weight update\n",
        "        :param epochs: training epochs\n",
        "        :param verbose: print status\n",
        "        \"\"\"\n",
        "        self._R = R\n",
        "        self._num_users, self._num_items = R.shape\n",
        "        self._k = k\n",
        "        self._learning_rate = learning_rate\n",
        "        self._reg_param = reg_param\n",
        "        self._epochs = epochs\n",
        "        self._verbose = verbose\n",
        "\n",
        "    def fit(self):\n",
        "        \"\"\"\n",
        "        training Matrix Factorization : Update matrix latent weight and bias\n",
        "\n",
        "        참고: self._b에 대한 설명\n",
        "        - global bias: input R에서 평가가 매겨진 rating의 평균값을 global bias로 사용\n",
        "        - 정규화 기능. 최종 rating에 음수가 들어가는 것 대신 latent feature에 음수가 포함되도록 해줌.\n",
        "\n",
        "        :return: training_process\n",
        "        \"\"\"\n",
        "\n",
        "        # init latent features\n",
        "        self._P = np.random.normal(size=(self._num_users, self._k))\n",
        "        self._Q = np.random.normal(size=(self._num_items, self._k))\n",
        "\n",
        "        # init biases\n",
        "        self._b_P = np.zeros(self._num_users)\n",
        "        self._b_Q = np.zeros(self._num_items)\n",
        "        self._b = np.mean(self._R[np.where(self._R != 0)])\n",
        "\n",
        "        # train while epochs\n",
        "        self._training_process = []\n",
        "        for epoch in range(self._epochs):\n",
        "\n",
        "            # rating이 존재하는 index를 기준으로 training\n",
        "            for i in range(self._num_users):\n",
        "                for j in range(self._num_items):\n",
        "                    if self._R[i, j] > 0:\n",
        "                        self.gradient_descent(i, j, self._R[i, j])\n",
        "            cost = self.cost()\n",
        "            self._training_process.append((epoch, cost))\n",
        "\n",
        "            # print status\n",
        "            if self._verbose == True and ((epoch + 1) % 10 == 0):\n",
        "                print(\"Iteration: %d ; cost = %.4f\" % (epoch + 1, cost))\n",
        "\n",
        "    def cost(self):\n",
        "        \"\"\"\n",
        "        compute root mean square error\n",
        "        :return: rmse cost\n",
        "        \"\"\"\n",
        "\n",
        "        # xi, yi: R[xi, yi]는 nonzero인 value를 의미한다.\n",
        "        # 참고: http://codepractice.tistory.com/90\n",
        "        xi, yi = self._R.nonzero()\n",
        "        predicted = self.get_complete_matrix()\n",
        "        cost = 0\n",
        "        for x, y in zip(xi, yi):\n",
        "            cost += pow(self._R[x, y] - predicted[x, y], 2)\n",
        "        return np.sqrt(cost) / len(xi)\n",
        "\n",
        "\n",
        "    def gradient(self, error, i, j):\n",
        "        \"\"\"\n",
        "        gradient of latent feature for GD\n",
        "\n",
        "        :param error: rating - prediction error\n",
        "        :param i: user index\n",
        "        :param j: item index\n",
        "        :return: gradient of latent feature tuple\n",
        "        \"\"\"\n",
        "\n",
        "        dp = (error * self._Q[j, :]) - (self._reg_param * self._P[i, :])\n",
        "        dq = (error * self._P[i, :]) - (self._reg_param * self._Q[j, :])\n",
        "        return dp, dq\n",
        "\n",
        "\n",
        "    def gradient_descent(self, i, j, rating):\n",
        "        \"\"\"\n",
        "        graident descent function\n",
        "\n",
        "        :param i: user index of matrix\n",
        "        :param j: item index of matrix\n",
        "        :param rating: rating of (i,j)\n",
        "        \"\"\"\n",
        "\n",
        "        # get error\n",
        "        prediction = self.get_prediction(i, j)\n",
        "        error = rating - prediction\n",
        "\n",
        "        # update biases\n",
        "        self._b_P[i] += self._learning_rate * (error - self._reg_param * self._b_P[i])\n",
        "        self._b_Q[j] += self._learning_rate * (error - self._reg_param * self._b_Q[j])\n",
        "\n",
        "        # update latent feature\n",
        "        dp, dq = self.gradient(error, i, j)\n",
        "        self._P[i, :] += self._learning_rate * dp\n",
        "        self._Q[j, :] += self._learning_rate * dq\n",
        "\n",
        "\n",
        "    def get_prediction(self, i, j):\n",
        "        \"\"\"\n",
        "        get predicted rating: user_i, item_j\n",
        "        :return: prediction of r_ij\n",
        "        \"\"\"\n",
        "        return self._b + self._b_P[i] + self._b_Q[j] + self._P[i, :].dot(self._Q[j, :].T)\n",
        "\n",
        "\n",
        "    def get_complete_matrix(self):\n",
        "        \"\"\"\n",
        "        computer complete matrix PXQ + P.bias + Q.bias + global bias\n",
        "\n",
        "        - PXQ 행렬에 b_P[:, np.newaxis]를 더하는 것은 각 열마다 bias를 더해주는 것\n",
        "        - b_Q[np.newaxis:, ]를 더하는 것은 각 행마다 bias를 더해주는 것\n",
        "        - b를 더하는 것은 각 element마다 bias를 더해주는 것\n",
        "\n",
        "        - newaxis: 차원을 추가해줌. 1차원인 Latent들로 2차원의 R에 행/열 단위 연산을 해주기위해 차원을 추가하는 것.\n",
        "\n",
        "        :return: complete matrix R^\n",
        "        \"\"\"\n",
        "        return self._b + self._b_P[:, np.newaxis] + self._b_Q[np.newaxis:, ] + self._P.dot(self._Q.T)\n",
        "\n",
        "\n",
        "    def print_results(self):\n",
        "        \"\"\"\n",
        "        print fit results\n",
        "        \"\"\"\n",
        "\n",
        "        print(\"User Latent P:\")\n",
        "        print(self._P)\n",
        "        print(\"Item Latent Q:\")\n",
        "        print(self._Q.T)\n",
        "        print(\"P x Q:\")\n",
        "        print(self._P.dot(self._Q.T))\n",
        "        print(\"bias:\")\n",
        "        print(self._b)\n",
        "        print(\"User Latent bias:\")\n",
        "        print(self._b_P)\n",
        "        print(\"Item Latent bias:\")\n",
        "        print(self._b_Q)\n",
        "        print(\"Final R matrix:\")\n",
        "        print(self.get_complete_matrix())\n",
        "        print(\"Final RMSE:\")\n",
        "        print(self._training_process[self._epochs-1][1])"
      ],
      "execution_count": 34,
      "outputs": []
    },
    {
      "cell_type": "code",
      "metadata": {
        "colab": {
          "base_uri": "https://localhost:8080/"
        },
        "id": "rNPJSyW-FdT_",
        "outputId": "36104a8a-db60-48a8-efbe-4cc920af1dc2"
      },
      "source": [
        "factorizer = MatrixFactorization(R, k=3, learning_rate=0.01, reg_param=0.01, epochs=30, verbose=True)\n",
        "factorizer.fit()"
      ],
      "execution_count": 38,
      "outputs": [
        {
          "output_type": "stream",
          "text": [
            "Iteration: 10 ; cost = 0.0048\n",
            "Iteration: 20 ; cost = 0.0041\n",
            "Iteration: 30 ; cost = 0.0037\n"
          ],
          "name": "stdout"
        }
      ]
    },
    {
      "cell_type": "code",
      "metadata": {
        "colab": {
          "base_uri": "https://localhost:8080/"
        },
        "id": "Uy0PerJADWZO",
        "outputId": "6a02370d-48ec-4609-ee01-3d9cfd13479b"
      },
      "source": [
        "factorizer.print_results()"
      ],
      "execution_count": 40,
      "outputs": [
        {
          "output_type": "stream",
          "text": [
            "User Latent P:\n",
            "[[-0.17368079  0.57999467 -0.6770974 ]\n",
            " [-0.1530638   0.26885893 -0.7405117 ]\n",
            " [ 0.65389756  0.95847104  1.20694327]\n",
            " ...\n",
            " [-0.9167477  -0.88355114 -0.0856989 ]\n",
            " [-0.64547151 -1.23206304 -0.5814954 ]\n",
            " [-0.02053239 -1.62120876  2.72709292]]\n",
            "Item Latent Q:\n",
            "[[ 0.31275544  0.09430755 -0.18894649 ...  1.1616688  -0.60510723\n",
            "   0.03794032]\n",
            " [-0.24153662 -0.12060233  0.12534082 ... -0.46288938  0.04061749\n",
            "   0.1447293 ]\n",
            " [ 0.70600792  0.01266215 -0.02558837 ... -0.2393442   0.60767337\n",
            "  -0.9129454 ]]\n",
            "P x Q:\n",
            "[[-0.67244569 -0.09490163  0.1228392  ... -0.30817359 -0.28280063\n",
            "   0.69550568]\n",
            " [-0.63561794 -0.05623656  0.08156835 ... -0.12502421 -0.34644885\n",
            "   0.70915123]\n",
            " [ 0.82511567 -0.03864387 -0.03429981 ...  0.02707146  0.37667983\n",
            "  -0.93834539]\n",
            " ...\n",
            " [-0.13381197  0.01901696  0.06466413 ... -0.63545922  0.46676609\n",
            "  -0.08441903]\n",
            " [-0.31482674  0.08035385 -0.01758869 ... -0.04033767 -0.0128231\n",
            "   0.32806853]\n",
            " [ 2.31050886  0.22811605 -0.26910596 ...  0.07387461  1.60375661\n",
            "  -2.72510235]]\n",
            "bias:\n",
            "4.142285620256289\n",
            "User Latent bias:\n",
            "[-0.8669398   0.26433152  0.16475246 ...  0.10284231  0.27223988\n",
            "  0.14739125]\n",
            "Item Latent bias:\n",
            "[-0.02456846  0.52605172  0.22853578 ... -0.0630762  -0.58987032\n",
            " -0.38393943]\n",
            "Final R matrix:\n",
            "[[2.57833167 3.70649591 3.62672079 ... 2.90409603 2.40267487 3.58691207]\n",
            " [3.74643074 4.8764323  4.71672127 ... 4.21851673 3.47029797 4.73182894]\n",
            " [5.10758529 4.79444593 4.50127404 ... 4.27103334 4.0938476  2.98475327]\n",
            " ...\n",
            " [4.08674749 4.79019661 4.53832784 ... 3.5465925  4.1220237  3.77676947]\n",
            " [4.07513031 5.02093108 4.62547259 ... 4.31111164 3.81183209 4.35865461]\n",
            " [6.57561727 5.04384464 4.24910669 ... 4.30047528 5.30356316 1.18063509]]\n",
            "Final RMSE:\n",
            "0.0036625324476201844\n"
          ],
          "name": "stdout"
        }
      ]
    },
    {
      "cell_type": "code",
      "metadata": {
        "colab": {
          "base_uri": "https://localhost:8080/"
        },
        "id": "9INKVS-3F1NG",
        "outputId": "e56e7956-f59c-4cdc-c066-5ba924f2b467"
      },
      "source": [
        "mf_result = factorizer.get_complete_matrix()\n",
        "mf_result"
      ],
      "execution_count": 41,
      "outputs": [
        {
          "output_type": "execute_result",
          "data": {
            "text/plain": [
              "array([[2.57833167, 3.70649591, 3.62672079, ..., 2.90409603, 2.40267487,\n",
              "        3.58691207],\n",
              "       [3.74643074, 4.8764323 , 4.71672127, ..., 4.21851673, 3.47029797,\n",
              "        4.73182894],\n",
              "       [5.10758529, 4.79444593, 4.50127404, ..., 4.27103334, 4.0938476 ,\n",
              "        2.98475327],\n",
              "       ...,\n",
              "       [4.08674749, 4.79019661, 4.53832784, ..., 3.5465925 , 4.1220237 ,\n",
              "        3.77676947],\n",
              "       [4.07513031, 5.02093108, 4.62547259, ..., 4.31111164, 3.81183209,\n",
              "        4.35865461],\n",
              "       [6.57561727, 5.04384464, 4.24910669, ..., 4.30047528, 5.30356316,\n",
              "        1.18063509]])"
            ]
          },
          "metadata": {
            "tags": []
          },
          "execution_count": 41
        }
      ]
    },
    {
      "cell_type": "code",
      "metadata": {
        "colab": {
          "base_uri": "https://localhost:8080/"
        },
        "id": "XjWaV6dkN5_2",
        "outputId": "c65e7983-2146-463b-f950-94ebf1567e72"
      },
      "source": [
        "R"
      ],
      "execution_count": 42,
      "outputs": [
        {
          "output_type": "execute_result",
          "data": {
            "text/plain": [
              "array([[0., 0., 0., ..., 0., 0., 0.],\n",
              "       [0., 0., 0., ..., 0., 0., 0.],\n",
              "       [0., 0., 0., ..., 0., 0., 0.],\n",
              "       ...,\n",
              "       [0., 0., 0., ..., 0., 0., 0.],\n",
              "       [0., 0., 0., ..., 0., 0., 0.],\n",
              "       [0., 0., 0., ..., 0., 0., 0.]])"
            ]
          },
          "metadata": {
            "tags": []
          },
          "execution_count": 42
        }
      ]
    },
    {
      "cell_type": "code",
      "metadata": {
        "id": "TnWkeAB9OWET"
      },
      "source": [
        "item_li = mf_df.columns.tolist()\n",
        "mf_result[R >= 1] = -1"
      ],
      "execution_count": 46,
      "outputs": []
    },
    {
      "cell_type": "code",
      "metadata": {
        "id": "7K7NNbvOOt9k"
      },
      "source": [
        "recommend_li = []\n",
        "for i in mf_result.argmax(axis=1):\n",
        "    recommend_li.append(item_li[i])"
      ],
      "execution_count": 48,
      "outputs": []
    },
    {
      "cell_type": "code",
      "metadata": {
        "colab": {
          "base_uri": "https://localhost:8080/",
          "height": 359
        },
        "id": "0XH06wxuO40C",
        "outputId": "a0abd8b8-d929-449e-ada6-966e52db0019"
      },
      "source": [
        "recommend_df = pd.DataFrame()\n",
        "recommend_df['user_id'] = mf_df.index.tolist()\n",
        "recommend_df['item'] = recommend_li\n",
        "recommend_df.head(10)"
      ],
      "execution_count": 71,
      "outputs": [
        {
          "output_type": "execute_result",
          "data": {
            "text/html": [
              "<div>\n",
              "<style scoped>\n",
              "    .dataframe tbody tr th:only-of-type {\n",
              "        vertical-align: middle;\n",
              "    }\n",
              "\n",
              "    .dataframe tbody tr th {\n",
              "        vertical-align: top;\n",
              "    }\n",
              "\n",
              "    .dataframe thead th {\n",
              "        text-align: right;\n",
              "    }\n",
              "</style>\n",
              "<table border=\"1\" class=\"dataframe\">\n",
              "  <thead>\n",
              "    <tr style=\"text-align: right;\">\n",
              "      <th></th>\n",
              "      <th>user_id</th>\n",
              "      <th>item</th>\n",
              "    </tr>\n",
              "  </thead>\n",
              "  <tbody>\n",
              "    <tr>\n",
              "      <th>0</th>\n",
              "      <td>A0010606488RW7ZH6EP7</td>\n",
              "      <td>B013JYDBAY</td>\n",
              "    </tr>\n",
              "    <tr>\n",
              "      <th>1</th>\n",
              "      <td>A0254933A6GXCEJ2WU0K</td>\n",
              "      <td>B018GRR9F2</td>\n",
              "    </tr>\n",
              "    <tr>\n",
              "      <th>2</th>\n",
              "      <td>A02624829WK3PDCDC0XY</td>\n",
              "      <td>B019SL3HEC</td>\n",
              "    </tr>\n",
              "    <tr>\n",
              "      <th>3</th>\n",
              "      <td>A0640431RJ4E56LR9NV5</td>\n",
              "      <td>B019DGUYXO</td>\n",
              "    </tr>\n",
              "    <tr>\n",
              "      <th>4</th>\n",
              "      <td>A0650961HO7RGHL0IRPI</td>\n",
              "      <td>B017OKO6RQ</td>\n",
              "    </tr>\n",
              "    <tr>\n",
              "      <th>5</th>\n",
              "      <td>A07783858D1O8MIJUC5I</td>\n",
              "      <td>B019DGUYXO</td>\n",
              "    </tr>\n",
              "    <tr>\n",
              "      <th>6</th>\n",
              "      <td>A08907238XUISSFX5S29</td>\n",
              "      <td>B01DECTX62</td>\n",
              "    </tr>\n",
              "    <tr>\n",
              "      <th>7</th>\n",
              "      <td>A0931446QZP5PKHMQEGU</td>\n",
              "      <td>B01B4FGJFO</td>\n",
              "    </tr>\n",
              "    <tr>\n",
              "      <th>8</th>\n",
              "      <td>A09817509YBFM0W0QQRC</td>\n",
              "      <td>B018GRR9F2</td>\n",
              "    </tr>\n",
              "    <tr>\n",
              "      <th>9</th>\n",
              "      <td>A09878118KLIMMUD7ERM</td>\n",
              "      <td>B01DECTX62</td>\n",
              "    </tr>\n",
              "  </tbody>\n",
              "</table>\n",
              "</div>"
            ],
            "text/plain": [
              "                user_id        item\n",
              "0  A0010606488RW7ZH6EP7  B013JYDBAY\n",
              "1  A0254933A6GXCEJ2WU0K  B018GRR9F2\n",
              "2  A02624829WK3PDCDC0XY  B019SL3HEC\n",
              "3  A0640431RJ4E56LR9NV5  B019DGUYXO\n",
              "4  A0650961HO7RGHL0IRPI  B017OKO6RQ\n",
              "5  A07783858D1O8MIJUC5I  B019DGUYXO\n",
              "6  A08907238XUISSFX5S29  B01DECTX62\n",
              "7  A0931446QZP5PKHMQEGU  B01B4FGJFO\n",
              "8  A09817509YBFM0W0QQRC  B018GRR9F2\n",
              "9  A09878118KLIMMUD7ERM  B01DECTX62"
            ]
          },
          "metadata": {
            "tags": []
          },
          "execution_count": 71
        }
      ]
    },
    {
      "cell_type": "markdown",
      "metadata": {
        "id": "yoetbXCcPTho"
      },
      "source": [
        "현재 user_id 'A0931446QZP5PKHMQEGU' 에게 B01B4FGJFO 제품을 추천해주었다는 것을 알 수 있다.\n",
        "\n",
        "현재 추천시스템의 성능을 파악하기 위해서는 user_id가 B01B4FGJFO 제품을 평가했다는 가정이 필요하다."
      ]
    },
    {
      "cell_type": "code",
      "metadata": {
        "colab": {
          "base_uri": "https://localhost:8080/",
          "height": 80
        },
        "id": "9R_41VHjOa1_",
        "outputId": "52ab7db8-b44b-4010-deac-886858e2ca29"
      },
      "source": [
        "item_info_df[item_info_df['asin']=='B01B4FGJFO'][['title', 'feature']]"
      ],
      "execution_count": 84,
      "outputs": [
        {
          "output_type": "execute_result",
          "data": {
            "text/html": [
              "<div>\n",
              "<style scoped>\n",
              "    .dataframe tbody tr th:only-of-type {\n",
              "        vertical-align: middle;\n",
              "    }\n",
              "\n",
              "    .dataframe tbody tr th {\n",
              "        vertical-align: top;\n",
              "    }\n",
              "\n",
              "    .dataframe thead th {\n",
              "        text-align: right;\n",
              "    }\n",
              "</style>\n",
              "<table border=\"1\" class=\"dataframe\">\n",
              "  <thead>\n",
              "    <tr style=\"text-align: right;\">\n",
              "      <th></th>\n",
              "      <th>title</th>\n",
              "      <th>feature</th>\n",
              "    </tr>\n",
              "  </thead>\n",
              "  <tbody>\n",
              "    <tr>\n",
              "      <th>145600</th>\n",
              "      <td>Mabssi Mens Active Long Sleeve Windbreaker Jac...</td>\n",
              "      <td>[Package Dimensions:\\n                    \\n12...</td>\n",
              "    </tr>\n",
              "  </tbody>\n",
              "</table>\n",
              "</div>"
            ],
            "text/plain": [
              "                                                    title  \\\n",
              "145600  Mabssi Mens Active Long Sleeve Windbreaker Jac...   \n",
              "\n",
              "                                                  feature  \n",
              "145600  [Package Dimensions:\\n                    \\n12...  "
            ]
          },
          "metadata": {
            "tags": []
          },
          "execution_count": 84
        }
      ]
    },
    {
      "cell_type": "markdown",
      "metadata": {
        "id": "CLXmuEMZRzX3"
      },
      "source": [
        "A0931446QZP5PKHMQEGU 유저에게 Mabssi Mens Active Long Sleeve Windbreaker 를 추천해주었다."
      ]
    },
    {
      "cell_type": "code",
      "metadata": {
        "colab": {
          "base_uri": "https://localhost:8080/",
          "height": 80
        },
        "id": "S-DOTQSDPyWw",
        "outputId": "866eca42-1165-40f3-f7f7-8df4ef3ffdb1"
      },
      "source": [
        "df_fashion_review[df_fashion_review['user']=='A0931446QZP5PKHMQEGU']"
      ],
      "execution_count": 85,
      "outputs": [
        {
          "output_type": "execute_result",
          "data": {
            "text/html": [
              "<div>\n",
              "<style scoped>\n",
              "    .dataframe tbody tr th:only-of-type {\n",
              "        vertical-align: middle;\n",
              "    }\n",
              "\n",
              "    .dataframe tbody tr th {\n",
              "        vertical-align: top;\n",
              "    }\n",
              "\n",
              "    .dataframe thead th {\n",
              "        text-align: right;\n",
              "    }\n",
              "</style>\n",
              "<table border=\"1\" class=\"dataframe\">\n",
              "  <thead>\n",
              "    <tr style=\"text-align: right;\">\n",
              "      <th></th>\n",
              "      <th>user</th>\n",
              "      <th>item</th>\n",
              "      <th>ratings</th>\n",
              "    </tr>\n",
              "  </thead>\n",
              "  <tbody>\n",
              "    <tr>\n",
              "      <th>26739</th>\n",
              "      <td>A0931446QZP5PKHMQEGU</td>\n",
              "      <td>B01G6EF39G</td>\n",
              "      <td>1.0</td>\n",
              "    </tr>\n",
              "  </tbody>\n",
              "</table>\n",
              "</div>"
            ],
            "text/plain": [
              "                       user        item  ratings\n",
              "26739  A0931446QZP5PKHMQEGU  B01G6EF39G      1.0"
            ]
          },
          "metadata": {
            "tags": []
          },
          "execution_count": 85
        }
      ]
    },
    {
      "cell_type": "code",
      "metadata": {
        "colab": {
          "base_uri": "https://localhost:8080/",
          "height": 80
        },
        "id": "1PsacTlNP3MM",
        "outputId": "ce1366f1-4ff5-42c4-da93-9f16e35a504a"
      },
      "source": [
        "item_info_df[item_info_df['asin']=='B01G6EF39G'][['title', 'feature']]"
      ],
      "execution_count": 70,
      "outputs": [
        {
          "output_type": "execute_result",
          "data": {
            "text/html": [
              "<div>\n",
              "<style scoped>\n",
              "    .dataframe tbody tr th:only-of-type {\n",
              "        vertical-align: middle;\n",
              "    }\n",
              "\n",
              "    .dataframe tbody tr th {\n",
              "        vertical-align: top;\n",
              "    }\n",
              "\n",
              "    .dataframe thead th {\n",
              "        text-align: right;\n",
              "    }\n",
              "</style>\n",
              "<table border=\"1\" class=\"dataframe\">\n",
              "  <thead>\n",
              "    <tr style=\"text-align: right;\">\n",
              "      <th></th>\n",
              "      <th>title</th>\n",
              "      <th>feature</th>\n",
              "    </tr>\n",
              "  </thead>\n",
              "  <tbody>\n",
              "    <tr>\n",
              "      <th>178075</th>\n",
              "      <td>Makkrom Women's Short Sleeve Sequin Stitching ...</td>\n",
              "      <td>[Package Dimensions:\\n                    \\n9....</td>\n",
              "    </tr>\n",
              "  </tbody>\n",
              "</table>\n",
              "</div>"
            ],
            "text/plain": [
              "                                                    title                                            feature\n",
              "178075  Makkrom Women's Short Sleeve Sequin Stitching ...  [Package Dimensions:\\n                    \\n9...."
            ]
          },
          "metadata": {
            "tags": []
          },
          "execution_count": 70
        }
      ]
    },
    {
      "cell_type": "markdown",
      "metadata": {
        "id": "heRezyDkIH8p"
      },
      "source": [
        "## NCF(Neural Collaborative Filtering)\n",
        "![image.png](data:image/png;base64,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)"
      ]
    },
    {
      "cell_type": "markdown",
      "metadata": {
        "id": "OG1EgULqrhKp"
      },
      "source": [
        "### 파이프라인 구축"
      ]
    },
    {
      "cell_type": "markdown",
      "metadata": {
        "id": "Das-g-EYr0gQ"
      },
      "source": [
        "#### Dataset Loader"
      ]
    },
    {
      "cell_type": "code",
      "metadata": {
        "id": "yqD2_aNpsuic"
      },
      "source": [
        "def read_data(data_path):\n",
        "  df = data_path\n",
        "  train_df, val_df = train_test_split(df, test_size=0.2, random_state=1234, shuffle=True)\n",
        "  return train_df, val_df"
      ],
      "execution_count": 160,
      "outputs": []
    },
    {
      "cell_type": "code",
      "metadata": {
        "id": "D_lumPKerl51"
      },
      "source": [
        "class DatasetLoader:\n",
        "\n",
        "    def __init__(self, data_path):\n",
        "        self.train_df, val_temp_df = read_data(data_path)\n",
        "\n",
        "        # 최소, 최대 점수 -> 점수 예측 시 표준화를 위해 필요\n",
        "        # 점수 그대로 활용 (논문에서는 1, 0 으로 변환)\n",
        "        self.min_rating = min(self.train_df.rate)\n",
        "        self.max_rating = self.train_df.rate.max()\n",
        "\n",
        "        # 유저 인덱스화 (onehot vector 에 필요)\n",
        "        self.unique_users = self.train_df.user.unique()\n",
        "        self.num_users = len(self.unique_users)\n",
        "        self.user_to_index = {original: idx for idx, original in enumerate(self.unique_users)}\n",
        "\n",
        "        # 아이템 인덱스화 (onehot vector 에 필요)\n",
        "        self.unique_items = self.train_df.item.unique()\n",
        "        self.num_items = len(self.unique_items)\n",
        "        self.item_to_index = {original: idx for idx, original in enumerate(self.unique_items)}\n",
        "\n",
        "        self.val_df = val_temp_df[val_temp_df.user.isin(self.unique_users) & val_temp_df.item.isin(self.unique_items)]\n",
        "\n",
        "    def generate_trainset(self):\n",
        "        X_train = pd.DataFrame({'user': self.train_df.user.map(self.user_to_index),\n",
        "                                'item': self.train_df.item.map(self.item_to_index)})\n",
        "        \"\"\" (인덱스화된) user 와 (인덱스화된) item\n",
        "        user | item\n",
        "          0  |  0\n",
        "          0  |  2\n",
        "          1  |  1\n",
        "        \"\"\"\n",
        "        y_train = self.train_df['rate'].astype(np.float32) # ex. user 0번이 item 0번을 평가한 점수(+감성 점수)\n",
        "\n",
        "        return X_train, y_train\n",
        "\n",
        "    def generate_valset(self):\n",
        "        X_val = pd.DataFrame({'user': self.val_df.user.map(self.user_to_index),\n",
        "                              'item': self.val_df.item.map(self.item_to_index)})\n",
        "        y_val = self.val_df['rate'].astype(np.float32)\n",
        "        return X_val, y_val"
      ],
      "execution_count": 161,
      "outputs": []
    },
    {
      "cell_type": "markdown",
      "metadata": {
        "id": "BmQsaAFYr3G0"
      },
      "source": [
        "#### Model Structure"
      ]
    },
    {
      "cell_type": "code",
      "metadata": {
        "id": "4g5I-NusrsUb"
      },
      "source": [
        "class FeedForwardEmbedNN(nn.Module):\n",
        "\n",
        "    def __init__(self, n_users, n_items, hidden, dropouts, n_factors, embedding_dropout):\n",
        "        super().__init__()\n",
        "\n",
        "        # 유저, 아이템 Latent Vector\n",
        "        self.user_emb = nn.Embedding(n_users, n_factors)\n",
        "        self.item_emb = nn.Embedding(n_items, n_factors)\n",
        "\n",
        "        self.drop = nn.Dropout(embedding_dropout)\n",
        "        # Latent Vector 가 통과할 히든 레이어\n",
        "        self.hidden_layers = nn.Sequential(*list(self.generate_layers(n_factors*2, hidden, dropouts)))\n",
        "        # 마지막 fully connected layer\n",
        "        self.fc = nn.Linear(hidden[-1], 1)\n",
        "\n",
        "    def generate_layers(self, n_factors, hidden, dropouts):\n",
        "        assert len(dropouts) == len(hidden)\n",
        "\n",
        "        idx = 0\n",
        "        # hidden 개수 만큼 layer 생성\n",
        "        while idx < len(hidden):\n",
        "            if idx == 0:\n",
        "                yield nn.Linear(n_factors, hidden[idx])\n",
        "            else:\n",
        "                yield nn.Linear(hidden[idx-1], hidden[idx])\n",
        "            yield nn.ReLU()\n",
        "            yield nn.Dropout(dropouts[idx])\n",
        "\n",
        "            idx += 1\n",
        "\n",
        "    def forward(self, users, items, min_rating=0.5, max_rating=5):\n",
        "        # 유저, 아이템 Latent Vector 붙이기\n",
        "        concat_features = torch.cat([self.user_emb(users), self.item_emb(items)], dim=1)\n",
        "\n",
        "        # Latent Vector 히든 레이어 통과 -> relu -> fc -> sigmoid -> 최종 예측값\n",
        "        x = torch.relu(self.hidden_layers(concat_features))\n",
        "        out = torch.sigmoid(self.fc(x)) # 0, 1\n",
        "        out = (out * (max_rating - min_rating)) + min_rating # 점수에 맞춰 변환\n",
        "\n",
        "        return out\n",
        "\n",
        "    def predict(self, users, items):\n",
        "        # 점수 예측\n",
        "        output_scores = self.forward(users, items)\n",
        "        return output_scores"
      ],
      "execution_count": 182,
      "outputs": []
    },
    {
      "cell_type": "code",
      "metadata": {
        "id": "PHdkphn8r8Lc"
      },
      "source": [
        "class BatchIterator:\n",
        "\n",
        "    def __init__(self, X, y, batch_size=32, shuffle=True):\n",
        "        X, y = np.asarray(X), np.asarray(y)\n",
        "\n",
        "        if shuffle:\n",
        "            index = np.random.permutation(X.shape[0])\n",
        "            X, y = X[index], y[index]\n",
        "\n",
        "        self.X = X\n",
        "        self.y = y\n",
        "        self.batch_size = batch_size\n",
        "        self.shuffle = shuffle\n",
        "        self.n_batches = int(math.ceil(X.shape[0] // batch_size))\n",
        "        self._current = 0\n",
        "\n",
        "    def __iter__(self):\n",
        "        return self\n",
        "\n",
        "    def __next__(self):\n",
        "        return self.next()\n",
        "\n",
        "    def next(self):\n",
        "        if self._current >= self.n_batches:\n",
        "            raise StopIteration()\n",
        "        k = self._current\n",
        "        self._current += 1\n",
        "        bs = self.batch_size\n",
        "        return self.X[k * bs:(k + 1) * bs], self.y[k * bs:(k + 1) * bs]"
      ],
      "execution_count": 163,
      "outputs": []
    },
    {
      "cell_type": "code",
      "metadata": {
        "id": "pHJ67wLBr-NB"
      },
      "source": [
        "def batches(X, y, bs=32, shuffle=True): # batch size : 32\n",
        "    for x_batch, y_batch in BatchIterator(X, y, bs, shuffle):\n",
        "        x_batch = torch.LongTensor(x_batch)\n",
        "        y_batch = torch.FloatTensor(y_batch)\n",
        "        yield x_batch, y_batch.view(-1, 1)"
      ],
      "execution_count": 164,
      "outputs": []
    },
    {
      "cell_type": "markdown",
      "metadata": {
        "id": "XekGF1VUsBcm"
      },
      "source": [
        "#### Train model"
      ]
    },
    {
      "cell_type": "code",
      "metadata": {
        "id": "CoFjYhyLsEV0"
      },
      "source": [
        "def model_train(ds, config):\n",
        "    device = torch.device('cuda:0' if torch.cuda.is_available() else 'cpu')\n",
        "\n",
        "    # 데이터셋 불러오기\n",
        "    X_train, y_train = ds.generate_trainset()\n",
        "    X_valid, y_valid = ds.generate_valset()\n",
        "    print(f'TrainSet Info: {ds.num_users} users, {ds.num_items} items')\n",
        "\n",
        "    # 모델 정의\n",
        "    model = FeedForwardEmbedNN(\n",
        "        n_users=ds.num_users, n_items=ds.num_items,\n",
        "        n_factors=config['num_factors'], hidden=config['hidden_layers'],\n",
        "        embedding_dropout=config['embedding_dropout'], dropouts=config['dropouts']\n",
        "    )\n",
        "    model.to(device)\n",
        "\n",
        "    # 하이퍼파라미터\n",
        "    batch_size = config['batch_size']\n",
        "    num_epochs = config['num_epochs']\n",
        "    max_patience = config['total_patience']\n",
        "    num_patience = 0\n",
        "    best_loss = np.inf\n",
        "\n",
        "    criterion = nn.MSELoss(reduction='sum') # MSE 값으로 평가\n",
        "    criterion.to(device)\n",
        "    optimizer = optim.Adam(model.parameters(), lr=config['learning_rate'], weight_decay=config['weight_decay'])\n",
        "\n",
        "    result = dict()\n",
        "    for epoch in tqdm(range(num_epochs)):\n",
        "        training_loss = 0.0\n",
        "        for batch in batches(X_train, y_train, shuffle=True, bs=batch_size):\n",
        "            x_batch, y_batch = [b.to(device) for b in batch]\n",
        "            optimizer.zero_grad()\n",
        "            with torch.set_grad_enabled(True):\n",
        "                outputs = model(x_batch[:, 0], x_batch[:, 1], ds.min_rating, ds.max_rating)\n",
        "                loss = criterion(outputs, y_batch) # Loss\n",
        "                loss.backward()\n",
        "                optimizer.step()\n",
        "            training_loss += loss.item()\n",
        "        result['train'] = training_loss / len(X_train) # 해당 epoch 에서 훈련셋 Loss\n",
        "\n",
        "        # Apply Early Stopping criteria and save best model params\n",
        "        val_outputs = model(torch.LongTensor(X_valid.user.values).to(device),\n",
        "                            torch.LongTensor(X_valid.item.values).to(device), ds.min_rating, ds.max_rating)\n",
        "        val_loss = criterion(val_outputs.to(device), torch.FloatTensor(y_valid.values).view(-1, 1).to(device))\n",
        "        result['val'] = float((val_loss / len(X_valid)).data)\n",
        "        \n",
        "        if val_loss < best_loss: # Loss 가 더 떨어질 경우\n",
        "            print('Save new model on epoch: %d' % (epoch + 1))\n",
        "            best_loss = val_loss\n",
        "            result['best_loss'] = val_loss\n",
        "            torch.save(model.state_dict(), config['save_path']) # 모델 저장\n",
        "            num_patience = 0\n",
        "        else:\n",
        "            num_patience += 1\n",
        "\n",
        "        print(f'[epoch: {epoch+1}] train: {result[\"train\"]} - val: {result[\"val\"]}')\n",
        "\n",
        "        if num_patience >= max_patience:\n",
        "            print(f\"Early Stopped after epoch {epoch+1}\")\n",
        "            break\n",
        "\n",
        "    return result"
      ],
      "execution_count": 165,
      "outputs": []
    },
    {
      "cell_type": "code",
      "metadata": {
        "id": "dAHXC5lYsOt7"
      },
      "source": [
        "def model_valid(user_id_list, item_id_list, data_path):\n",
        "    dataset = DatasetLoader(data_path)\n",
        "    processed_test_input_df = pd.DataFrame({\n",
        "        'user_id': [dataset.user_to_index[x] for x in user_id_list],\n",
        "        'item_id': [dataset.item_to_index[x] for x in item_id_list]\n",
        "    })\n",
        "\n",
        "    # 학습한 모델 load\n",
        "    my_model = FeedForwardEmbedNN(dataset.num_users, dataset.num_items,\n",
        "                       config['hidden_layers'], config['dropouts'], config['num_factors'], config['embedding_dropout'])\n",
        "    my_model.load_state_dict(torch.load('params.data'))\n",
        "    prediction_outputs = my_model.predict(users=torch.LongTensor(processed_test_input_df.user_id.values),\n",
        "                     items=torch.LongTensor(processed_test_input_df.item_id.values))\n",
        "\n",
        "    return prediction_outputs"
      ],
      "execution_count": 166,
      "outputs": []
    },
    {
      "cell_type": "code",
      "metadata": {
        "id": "vaN2ywssU3MX"
      },
      "source": [
        "# df_fashion_review = pd.read_csv('./fashion_user_item_review.csv') \n",
        "df_fashion_review = df_fashion_review[['rate', 'user_id', 'item_id', 'review', 'timestamp']]\n",
        "df_fashion_review.head()"
      ],
      "execution_count": null,
      "outputs": []
    },
    {
      "cell_type": "code",
      "metadata": {
        "id": "VQqwMfjedHMH"
      },
      "source": [
        "df_fashion_review.columns = ['rate', 'user', 'item', 'review', 'timestamp']"
      ],
      "execution_count": null,
      "outputs": []
    },
    {
      "cell_type": "code",
      "metadata": {
        "id": "AdnLNQxdsR8c"
      },
      "source": [
        "# trainset, valset 생성\n",
        "dataset = DatasetLoader(df_fashion_review)"
      ],
      "execution_count": 168,
      "outputs": []
    },
    {
      "cell_type": "code",
      "metadata": {
        "id": "vrkdmejEsT94"
      },
      "source": [
        "# 하이퍼파라미터\n",
        "config = {\n",
        "  \"num_factors\": 16,\n",
        "  \"hidden_layers\": [64, 32, 16],\n",
        "  \"embedding_dropout\": 0.05,\n",
        "  \"dropouts\": [0.3, 0.3, 0.3],\n",
        "  \"learning_rate\": 1e-3,\n",
        "  \"weight_decay\": 1e-5,\n",
        "  \"batch_size\": 8,\n",
        "  \"num_epochs\": 5,\n",
        "  \"total_patience\": 30,\n",
        "  \"save_path\": \"params.data\"\n",
        "}"
      ],
      "execution_count": 169,
      "outputs": []
    },
    {
      "cell_type": "code",
      "metadata": {
        "id": "n6i7YJVxsVxb",
        "colab": {
          "base_uri": "https://localhost:8080/",
          "height": 301,
          "referenced_widgets": [
            "2fae59913ce944939dbaa3a5fec46a95",
            "03de1a43866641499b60ebbcc75b5aca",
            "c0f4c42dd5c649909a54f5374ab32e50",
            "86d60438c2524b88aa1d91fa944d4d71",
            "0704c01387f04ce9a3efd70f669f77e9",
            "b335a91b9de040908666c18d35782b5c",
            "ea124a7ad6c84893a9f3b2206815c1de",
            "d186fd157b4240aa94cbca62a7f9c2f1"
          ]
        },
        "outputId": "71e4cff4-b07c-4364-aa68-0480503c5f13"
      },
      "source": [
        "# 모델 훈련\n",
        "model_train(dataset, config)"
      ],
      "execution_count": 183,
      "outputs": [
        {
          "output_type": "stream",
          "text": [
            "TrainSet Info: 84825 users, 8829 items\n"
          ],
          "name": "stdout"
        },
        {
          "output_type": "display_data",
          "data": {
            "application/vnd.jupyter.widget-view+json": {
              "model_id": "2fae59913ce944939dbaa3a5fec46a95",
              "version_minor": 0,
              "version_major": 2
            },
            "text/plain": [
              "HBox(children=(FloatProgress(value=0.0, max=5.0), HTML(value='')))"
            ]
          },
          "metadata": {
            "tags": []
          }
        },
        {
          "output_type": "stream",
          "text": [
            "Save new model on epoch: 1\n",
            "[epoch: 1] train: 1.804411324118338 - val: 1.3113079071044922\n",
            "Save new model on epoch: 2\n",
            "[epoch: 2] train: 1.1198598064375633 - val: 1.1192176342010498\n",
            "Save new model on epoch: 3\n",
            "[epoch: 3] train: 0.7045979800448754 - val: 1.000170111656189\n",
            "[epoch: 4] train: 0.5443380435483796 - val: 1.0475491285324097\n",
            "Save new model on epoch: 5\n",
            "[epoch: 5] train: 0.6889971105460124 - val: 0.9685044884681702\n",
            "\n"
          ],
          "name": "stdout"
        },
        {
          "output_type": "execute_result",
          "data": {
            "text/plain": [
              "{'best_loss': tensor(2246.9304, device='cuda:0', grad_fn=<MseLossBackward>),\n",
              " 'train': 0.6889971105460124,\n",
              " 'val': 0.9685044884681702}"
            ]
          },
          "metadata": {
            "tags": []
          },
          "execution_count": 183
        }
      ]
    },
    {
      "cell_type": "code",
      "metadata": {
        "id": "miix4LyBbnVm"
      },
      "source": [
        "train, val = read_data(df_fashion_review)"
      ],
      "execution_count": 184,
      "outputs": []
    },
    {
      "cell_type": "code",
      "metadata": {
        "id": "rUvUrhCQkHfN"
      },
      "source": [
        "# 상품을 추천받을 user id\n",
        "user_id = 'A32M1OZKT7IC43'\n",
        "\n",
        "condition = df_fashion_review.user != user_id\n",
        "item_id_list = train[condition]['item'].values"
      ],
      "execution_count": 185,
      "outputs": []
    },
    {
      "cell_type": "code",
      "metadata": {
        "colab": {
          "base_uri": "https://localhost:8080/",
          "height": 395
        },
        "id": "T8nn-5qXkJXv",
        "outputId": "85fc68c8-1d66-4c7c-ea73-6b219afc4f01"
      },
      "source": [
        "\n",
        "# 추천\n",
        "user_id_list = [user_id] * len(item_id_list)\n",
        "pred_results = [float(x) for x in model_valid(user_id_list, item_id_list, df_fashion_review)]\n",
        "\n",
        "result_df = pd.DataFrame({\n",
        "    'userId': user_id_list,\n",
        "    'itemId': item_id_list,\n",
        "    # 상품 메타 데이터\n",
        "    # 'itemName': [itemName_dict[x] for x in item_id_list],\n",
        "    'pred_ratings': pred_results\n",
        "})\n",
        "\n",
        "recommend = result_df.sort_values(by='pred_ratings', ascending=False)\n",
        "recommend.drop_duplicates(subset=['itemId'], inplace=True)\n",
        "print(recommend[:10]['itemId'].values) # 상위 10개 상품\n",
        "recommend[:10]"
      ],
      "execution_count": 186,
      "outputs": [
        {
          "output_type": "stream",
          "text": [
            "['B000PHANNM' 'B002Z3N1HE' 'B005AGO4LU' 'B00RLSCLJM' 'B0092UF54A'\n",
            " 'B018TNFNGA' 'B0058YEJ5K' 'B0091M52CE' 'B00I57ZH9Y' 'B01CEZSSXY']\n"
          ],
          "name": "stdout"
        },
        {
          "output_type": "execute_result",
          "data": {
            "text/html": [
              "<div>\n",
              "<style scoped>\n",
              "    .dataframe tbody tr th:only-of-type {\n",
              "        vertical-align: middle;\n",
              "    }\n",
              "\n",
              "    .dataframe tbody tr th {\n",
              "        vertical-align: top;\n",
              "    }\n",
              "\n",
              "    .dataframe thead th {\n",
              "        text-align: right;\n",
              "    }\n",
              "</style>\n",
              "<table border=\"1\" class=\"dataframe\">\n",
              "  <thead>\n",
              "    <tr style=\"text-align: right;\">\n",
              "      <th></th>\n",
              "      <th>userId</th>\n",
              "      <th>itemId</th>\n",
              "      <th>pred_ratings</th>\n",
              "    </tr>\n",
              "  </thead>\n",
              "  <tbody>\n",
              "    <tr>\n",
              "      <th>49457</th>\n",
              "      <td>A32M1OZKT7IC43</td>\n",
              "      <td>B000PHANNM</td>\n",
              "      <td>3.047938</td>\n",
              "    </tr>\n",
              "    <tr>\n",
              "      <th>37783</th>\n",
              "      <td>A32M1OZKT7IC43</td>\n",
              "      <td>B002Z3N1HE</td>\n",
              "      <td>2.949980</td>\n",
              "    </tr>\n",
              "    <tr>\n",
              "      <th>74785</th>\n",
              "      <td>A32M1OZKT7IC43</td>\n",
              "      <td>B005AGO4LU</td>\n",
              "      <td>2.891871</td>\n",
              "    </tr>\n",
              "    <tr>\n",
              "      <th>37798</th>\n",
              "      <td>A32M1OZKT7IC43</td>\n",
              "      <td>B00RLSCLJM</td>\n",
              "      <td>2.858982</td>\n",
              "    </tr>\n",
              "    <tr>\n",
              "      <th>68355</th>\n",
              "      <td>A32M1OZKT7IC43</td>\n",
              "      <td>B0092UF54A</td>\n",
              "      <td>2.856357</td>\n",
              "    </tr>\n",
              "    <tr>\n",
              "      <th>32777</th>\n",
              "      <td>A32M1OZKT7IC43</td>\n",
              "      <td>B018TNFNGA</td>\n",
              "      <td>2.829421</td>\n",
              "    </tr>\n",
              "    <tr>\n",
              "      <th>69996</th>\n",
              "      <td>A32M1OZKT7IC43</td>\n",
              "      <td>B0058YEJ5K</td>\n",
              "      <td>2.822588</td>\n",
              "    </tr>\n",
              "    <tr>\n",
              "      <th>1079</th>\n",
              "      <td>A32M1OZKT7IC43</td>\n",
              "      <td>B0091M52CE</td>\n",
              "      <td>2.765693</td>\n",
              "    </tr>\n",
              "    <tr>\n",
              "      <th>40236</th>\n",
              "      <td>A32M1OZKT7IC43</td>\n",
              "      <td>B00I57ZH9Y</td>\n",
              "      <td>2.758591</td>\n",
              "    </tr>\n",
              "    <tr>\n",
              "      <th>86350</th>\n",
              "      <td>A32M1OZKT7IC43</td>\n",
              "      <td>B01CEZSSXY</td>\n",
              "      <td>2.757897</td>\n",
              "    </tr>\n",
              "  </tbody>\n",
              "</table>\n",
              "</div>"
            ],
            "text/plain": [
              "               userId      itemId  pred_ratings\n",
              "49457  A32M1OZKT7IC43  B000PHANNM      3.047938\n",
              "37783  A32M1OZKT7IC43  B002Z3N1HE      2.949980\n",
              "74785  A32M1OZKT7IC43  B005AGO4LU      2.891871\n",
              "37798  A32M1OZKT7IC43  B00RLSCLJM      2.858982\n",
              "68355  A32M1OZKT7IC43  B0092UF54A      2.856357\n",
              "32777  A32M1OZKT7IC43  B018TNFNGA      2.829421\n",
              "69996  A32M1OZKT7IC43  B0058YEJ5K      2.822588\n",
              "1079   A32M1OZKT7IC43  B0091M52CE      2.765693\n",
              "40236  A32M1OZKT7IC43  B00I57ZH9Y      2.758591\n",
              "86350  A32M1OZKT7IC43  B01CEZSSXY      2.757897"
            ]
          },
          "metadata": {
            "tags": []
          },
          "execution_count": 186
        }
      ]
    },
    {
      "cell_type": "code",
      "metadata": {
        "colab": {
          "base_uri": "https://localhost:8080/"
        },
        "id": "yoqnP2QkkRog",
        "outputId": "1ab38af5-5d88-4885-ce16-5a562bb7066d"
      },
      "source": [
        "\n",
        "# 상품 이미지 확인 (메타 데이터 활용)\n",
        "import requests\n",
        "import io\n",
        "import PIL\n",
        "\n",
        "temp = ['B00G8Q7JZ4', 'B01B5BWTNS', 'B00D8FJF6O', 'B00RLSCLJM', 'B00XT15P8E',\n",
        "        'B000PHANNM', 'B01BKVWKCS', 'B01ETKKP60', 'B01EL76Y8E', 'B003WJXKTO']\n",
        "\n",
        "for item in temp:\n",
        "  print(item)\n",
        "  url = item_info_df[(item_info_df.asin == item)]['image'].values\n",
        "  if len(url) <= 1:\n",
        "    continue\n",
        "  file = url[0][0]\n",
        "  print(file)\n",
        "\n",
        "  response = requests.get(file)\n",
        "  image_bytes = io.BytesIO(response.content)\n",
        "\n",
        "  img = PIL.Image.open(image_bytes)\n",
        "  img.show()"
      ],
      "execution_count": 189,
      "outputs": [
        {
          "output_type": "stream",
          "text": [
            "B00G8Q7JZ4\n",
            "B01B5BWTNS\n",
            "B00D8FJF6O\n",
            "B00RLSCLJM\n",
            "B00XT15P8E\n",
            "B000PHANNM\n",
            "B01BKVWKCS\n",
            "B01ETKKP60\n",
            "B01EL76Y8E\n",
            "B003WJXKTO\n"
          ],
          "name": "stdout"
        }
      ]
    },
    {
      "cell_type": "code",
      "metadata": {
        "id": "DSt9ZSO3kMAu"
      },
      "source": [
        "!pip3 freeze > requirements.txt"
      ],
      "execution_count": 190,
      "outputs": []
    },
    {
      "cell_type": "code",
      "metadata": {
        "colab": {
          "base_uri": "https://localhost:8080/"
        },
        "id": "Wm9_7JXQkXeD",
        "outputId": "aae25c97-8579-4ddb-b60f-a3327ce378f3"
      },
      "source": [
        "!pip install pyyaml h5py  # HDF5 포맷으로 모델을 저장하기 위해서 필요합니다"
      ],
      "execution_count": 191,
      "outputs": [
        {
          "output_type": "stream",
          "text": [
            "Requirement already satisfied: pyyaml in /usr/local/lib/python3.7/dist-packages (3.13)\n",
            "Requirement already satisfied: h5py in /usr/local/lib/python3.7/dist-packages (3.1.0)\n",
            "Requirement already satisfied: numpy>=1.14.5; python_version == \"3.7\" in /usr/local/lib/python3.7/dist-packages (from h5py) (1.19.5)\n",
            "Requirement already satisfied: cached-property; python_version < \"3.8\" in /usr/local/lib/python3.7/dist-packages (from h5py) (1.5.2)\n"
          ],
          "name": "stdout"
        }
      ]
    },
    {
      "cell_type": "code",
      "metadata": {
        "id": "8VSe8QlGklNG"
      },
      "source": [
        ""
      ],
      "execution_count": null,
      "outputs": []
    }
  ]
}