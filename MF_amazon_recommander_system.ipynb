{
  "nbformat": 4,
  "nbformat_minor": 0,
  "metadata": {
    "colab": {
      "name": "MF_amazon_recommander_system.ipynb",
      "provenance": [],
      "collapsed_sections": [],
      "machine_shape": "hm",
      "authorship_tag": "ABX9TyPyCkfd2ZVS71xkUcUjtmcb",
      "include_colab_link": true
    },
    "kernelspec": {
      "name": "python3",
      "display_name": "Python 3"
    },
    "language_info": {
      "name": "python"
    },
    "accelerator": "GPU"
  },
  "cells": [
    {
      "cell_type": "markdown",
      "metadata": {
        "id": "view-in-github",
        "colab_type": "text"
      },
      "source": [
        "<a href=\"https://colab.research.google.com/github/Mino94/amazon-recommender-system/blob/main/MF_amazon_recommander_system.ipynb\" target=\"_parent\"><img src=\"https://colab.research.google.com/assets/colab-badge.svg\" alt=\"Open In Colab\"/></a>"
      ]
    },
    {
      "cell_type": "code",
      "metadata": {
        "id": "vaqXZlZd81_6"
      },
      "source": [
        ""
      ],
      "execution_count": null,
      "outputs": []
    },
    {
      "cell_type": "markdown",
      "metadata": {
        "id": "wN6oYHzV9uXt"
      },
      "source": [
        "# Recommender System Using Amazon Reviews"
      ]
    },
    {
      "cell_type": "code",
      "metadata": {
        "id": "B6oaOEYsoTy3"
      },
      "source": [
        "import json\n",
        "import gzip\n",
        "from urllib.request import urlopen\n",
        "\n",
        "import random\n",
        "from collections import defaultdict"
      ],
      "execution_count": null,
      "outputs": []
    },
    {
      "cell_type": "code",
      "metadata": {
        "colab": {
          "base_uri": "https://localhost:8080/"
        },
        "id": "a2lxBmiYqKVS",
        "outputId": "44fa4261-17e8-4116-8890-03715f81f4de"
      },
      "source": [
        "!wget http://deepyeti.ucsd.edu/jianmo/amazon/categoryFiles/AMAZON_FASHION.json.gz"
      ],
      "execution_count": null,
      "outputs": [
        {
          "output_type": "stream",
          "text": [
            "--2021-06-08 12:58:39--  http://deepyeti.ucsd.edu/jianmo/amazon/categoryFiles/AMAZON_FASHION.json.gz\n",
            "Resolving deepyeti.ucsd.edu (deepyeti.ucsd.edu)... 169.228.63.50\n",
            "Connecting to deepyeti.ucsd.edu (deepyeti.ucsd.edu)|169.228.63.50|:80... connected.\n",
            "HTTP request sent, awaiting response... 200 OK\n",
            "Length: 93185167 (89M) [application/octet-stream]\n",
            "Saving to: ‘AMAZON_FASHION.json.gz’\n",
            "\n",
            "AMAZON_FASHION.json 100%[===================>]  88.87M  74.7MB/s    in 1.2s    \n",
            "\n",
            "2021-06-08 12:58:40 (74.7 MB/s) - ‘AMAZON_FASHION.json.gz’ saved [93185167/93185167]\n",
            "\n"
          ],
          "name": "stdout"
        }
      ]
    },
    {
      "cell_type": "code",
      "metadata": {
        "colab": {
          "base_uri": "https://localhost:8080/"
        },
        "id": "5dpoeuuAqL31",
        "outputId": "199d16b2-23bb-48b3-c40d-c401ab8c6a85"
      },
      "source": [
        "!wget http://deepyeti.ucsd.edu/jianmo/amazon/metaFiles/meta_AMAZON_FASHION.json.gz"
      ],
      "execution_count": null,
      "outputs": [
        {
          "output_type": "stream",
          "text": [
            "--2021-06-08 12:58:40--  http://deepyeti.ucsd.edu/jianmo/amazon/metaFiles/meta_AMAZON_FASHION.json.gz\n",
            "Resolving deepyeti.ucsd.edu (deepyeti.ucsd.edu)... 169.228.63.50\n",
            "Connecting to deepyeti.ucsd.edu (deepyeti.ucsd.edu)|169.228.63.50|:80... connected.\n",
            "HTTP request sent, awaiting response... 200 OK\n",
            "Length: 31372500 (30M) [application/octet-stream]\n",
            "Saving to: ‘meta_AMAZON_FASHION.json.gz’\n",
            "\n",
            "meta_AMAZON_FASHION 100%[===================>]  29.92M  58.6MB/s    in 0.5s    \n",
            "\n",
            "2021-06-08 12:58:41 (58.6 MB/s) - ‘meta_AMAZON_FASHION.json.gz’ saved [31372500/31372500]\n",
            "\n"
          ],
          "name": "stdout"
        }
      ]
    },
    {
      "cell_type": "markdown",
      "metadata": {
        "id": "NDmS18gP9rwn"
      },
      "source": [
        "# 데이터 로드"
      ]
    },
    {
      "cell_type": "code",
      "metadata": {
        "colab": {
          "base_uri": "https://localhost:8080/"
        },
        "id": "WpstwUGW9qUu",
        "outputId": "2c42f9d1-4512-47d6-ffbd-9eb726ab81b1"
      },
      "source": [
        "import numpy as np # linear algebra\n",
        "import pandas as pd # data processing, CSV file I/O (e.g. pd.read_csv)\n",
        "import os\n",
        "from IPython.core.interactiveshell import InteractiveShell\n",
        "InteractiveShell.ast_node_interactivity = \"all\"\n",
        "import math\n",
        "import json\n",
        "import time\n",
        "import matplotlib.pyplot as plt\n",
        "import seaborn as sns\n",
        "from sklearn.metrics.pairwise import cosine_similarity\n",
        "from sklearn.model_selection import train_test_split\n",
        "from sklearn.neighbors import NearestNeighbors\n",
        "from sklearn.externals import joblib\n",
        "import scipy.sparse\n",
        "from scipy.sparse import csr_matrix\n",
        "from scipy.sparse.linalg import svds\n",
        "import warnings; warnings.simplefilter('ignore')\n",
        "%matplotlib inline"
      ],
      "execution_count": null,
      "outputs": [
        {
          "output_type": "stream",
          "text": [
            "/usr/local/lib/python3.7/dist-packages/sklearn/externals/joblib/__init__.py:15: FutureWarning: sklearn.externals.joblib is deprecated in 0.21 and will be removed in 0.23. Please import this functionality directly from joblib, which can be installed with: pip install joblib. If this warning is raised when loading pickled models, you may need to re-serialize those models with scikit-learn 0.21+.\n",
            "  warnings.warn(msg, category=FutureWarning)\n"
          ],
          "name": "stderr"
        }
      ]
    },
    {
      "cell_type": "markdown",
      "metadata": {
        "id": "094CM6wP-Opy"
      },
      "source": [
        "## Fashion Item Data"
      ]
    },
    {
      "cell_type": "code",
      "metadata": {
        "colab": {
          "base_uri": "https://localhost:8080/"
        },
        "id": "SZtgLsBMqOis",
        "outputId": "30c6e2f6-0f6f-4fbe-cde4-143027a25c30"
      },
      "source": [
        "### load the meta data\n",
        "\n",
        "data = []\n",
        "with gzip.open('meta_AMAZON_FASHION.json.gz') as f:\n",
        "    for l in f:\n",
        "        data.append(json.loads(l.strip()))\n",
        "    \n",
        "# total length of list, this number equals total number of products\n",
        "print(len(data))\n",
        "\n",
        "# first row of the list\n",
        "print(data[0])"
      ],
      "execution_count": null,
      "outputs": [
        {
          "output_type": "stream",
          "text": [
            "186637\n",
            "{'title': 'Slime Time Fall Fest [With CDROM and Collector Cards and Neutron Balls, Incredi-Ball and Glow Stick Necklace, Paper Fram', 'image': ['https://images-na.ssl-images-amazon.com/images/I/51bSrINiWpL._US40_.jpg'], 'brand': 'Group Publishing (CO)', 'feature': ['Product Dimensions:\\n                    \\n8.7 x 3.6 x 11.4 inches', 'Shipping Weight:\\n                    \\n2.4 pounds'], 'rank': '13,052,976inClothing,Shoesamp;Jewelry(', 'date': '8.70 inches', 'asin': '0764443682'}\n"
          ],
          "name": "stdout"
        }
      ]
    },
    {
      "cell_type": "code",
      "metadata": {
        "colab": {
          "base_uri": "https://localhost:8080/",
          "height": 632
        },
        "id": "ApdZ_w5mqq6o",
        "outputId": "7fa13f3a-ccef-479e-9e51-e045b1e3ab78"
      },
      "source": [
        "df = pd.DataFrame.from_dict(data)\n",
        "\n",
        "df.head()"
      ],
      "execution_count": null,
      "outputs": [
        {
          "output_type": "execute_result",
          "data": {
            "text/html": [
              "<div>\n",
              "<style scoped>\n",
              "    .dataframe tbody tr th:only-of-type {\n",
              "        vertical-align: middle;\n",
              "    }\n",
              "\n",
              "    .dataframe tbody tr th {\n",
              "        vertical-align: top;\n",
              "    }\n",
              "\n",
              "    .dataframe thead th {\n",
              "        text-align: right;\n",
              "    }\n",
              "</style>\n",
              "<table border=\"1\" class=\"dataframe\">\n",
              "  <thead>\n",
              "    <tr style=\"text-align: right;\">\n",
              "      <th></th>\n",
              "      <th>title</th>\n",
              "      <th>image</th>\n",
              "      <th>brand</th>\n",
              "      <th>feature</th>\n",
              "      <th>rank</th>\n",
              "      <th>date</th>\n",
              "      <th>asin</th>\n",
              "      <th>description</th>\n",
              "      <th>price</th>\n",
              "      <th>also_view</th>\n",
              "      <th>also_buy</th>\n",
              "      <th>fit</th>\n",
              "      <th>details</th>\n",
              "      <th>similar_item</th>\n",
              "      <th>tech1</th>\n",
              "    </tr>\n",
              "  </thead>\n",
              "  <tbody>\n",
              "    <tr>\n",
              "      <th>0</th>\n",
              "      <td>Slime Time Fall Fest [With CDROM and Collector...</td>\n",
              "      <td>[https://images-na.ssl-images-amazon.com/image...</td>\n",
              "      <td>Group Publishing (CO)</td>\n",
              "      <td>[Product Dimensions:\\n                    \\n8....</td>\n",
              "      <td>13,052,976inClothing,Shoesamp;Jewelry(</td>\n",
              "      <td>8.70 inches</td>\n",
              "      <td>0764443682</td>\n",
              "      <td>NaN</td>\n",
              "      <td>NaN</td>\n",
              "      <td>NaN</td>\n",
              "      <td>NaN</td>\n",
              "      <td>NaN</td>\n",
              "      <td>NaN</td>\n",
              "      <td>NaN</td>\n",
              "      <td>NaN</td>\n",
              "    </tr>\n",
              "    <tr>\n",
              "      <th>1</th>\n",
              "      <td>XCC Qi promise new spider snake preparing men'...</td>\n",
              "      <td>[https://images-na.ssl-images-amazon.com/image...</td>\n",
              "      <td>NaN</td>\n",
              "      <td>NaN</td>\n",
              "      <td>11,654,581inClothing,Shoesamp;Jewelry(</td>\n",
              "      <td>5 star</td>\n",
              "      <td>1291691480</td>\n",
              "      <td>NaN</td>\n",
              "      <td>NaN</td>\n",
              "      <td>NaN</td>\n",
              "      <td>NaN</td>\n",
              "      <td>NaN</td>\n",
              "      <td>NaN</td>\n",
              "      <td>NaN</td>\n",
              "      <td>NaN</td>\n",
              "    </tr>\n",
              "    <tr>\n",
              "      <th>2</th>\n",
              "      <td>Magical Things I Really Do Do Too!</td>\n",
              "      <td>[https://images-na.ssl-images-amazon.com/image...</td>\n",
              "      <td>Christopher Manos</td>\n",
              "      <td>[Package Dimensions:\\n                    \\n8....</td>\n",
              "      <td>19,308,073inClothing,ShoesJewelry(</td>\n",
              "      <td>5 star</td>\n",
              "      <td>1940280001</td>\n",
              "      <td>[For the professional or amateur magician.  Ro...</td>\n",
              "      <td>NaN</td>\n",
              "      <td>NaN</td>\n",
              "      <td>NaN</td>\n",
              "      <td>NaN</td>\n",
              "      <td>NaN</td>\n",
              "      <td>NaN</td>\n",
              "      <td>NaN</td>\n",
              "    </tr>\n",
              "    <tr>\n",
              "      <th>3</th>\n",
              "      <td>Ashes to Ashes, Oranges to Oranges</td>\n",
              "      <td>[https://images-na.ssl-images-amazon.com/image...</td>\n",
              "      <td>Flickerlamp Publishing</td>\n",
              "      <td>[Package Dimensions:\\n                    \\n8....</td>\n",
              "      <td>19,734,184inClothing,ShoesJewelry(</td>\n",
              "      <td>5 star</td>\n",
              "      <td>1940735033</td>\n",
              "      <td>NaN</td>\n",
              "      <td>NaN</td>\n",
              "      <td>NaN</td>\n",
              "      <td>NaN</td>\n",
              "      <td>NaN</td>\n",
              "      <td>NaN</td>\n",
              "      <td>NaN</td>\n",
              "      <td>NaN</td>\n",
              "    </tr>\n",
              "    <tr>\n",
              "      <th>4</th>\n",
              "      <td>Aether &amp; Empire #1 - 2016 First Printing Comic...</td>\n",
              "      <td>[https://images-na.ssl-images-amazon.com/image...</td>\n",
              "      <td>NaN</td>\n",
              "      <td>[Package Dimensions:\\n                    \\n10...</td>\n",
              "      <td>10,558,646inClothing,Shoesamp;Jewelry(</td>\n",
              "      <td>5 star</td>\n",
              "      <td>1940967805</td>\n",
              "      <td>NaN</td>\n",
              "      <td>$4.50</td>\n",
              "      <td>NaN</td>\n",
              "      <td>NaN</td>\n",
              "      <td>NaN</td>\n",
              "      <td>NaN</td>\n",
              "      <td>NaN</td>\n",
              "      <td>NaN</td>\n",
              "    </tr>\n",
              "  </tbody>\n",
              "</table>\n",
              "</div>"
            ],
            "text/plain": [
              "                                               title  ... tech1\n",
              "0  Slime Time Fall Fest [With CDROM and Collector...  ...   NaN\n",
              "1  XCC Qi promise new spider snake preparing men'...  ...   NaN\n",
              "2                 Magical Things I Really Do Do Too!  ...   NaN\n",
              "3                 Ashes to Ashes, Oranges to Oranges  ...   NaN\n",
              "4  Aether & Empire #1 - 2016 First Printing Comic...  ...   NaN\n",
              "\n",
              "[5 rows x 15 columns]"
            ]
          },
          "metadata": {
            "tags": []
          },
          "execution_count": 6
        }
      ]
    },
    {
      "cell_type": "code",
      "metadata": {
        "colab": {
          "base_uri": "https://localhost:8080/"
        },
        "id": "Lw-dCw779k6o",
        "outputId": "37d6d2ae-8a36-44ea-bd95-8418519f8ea0"
      },
      "source": [
        "df3 = df.fillna('')\n",
        "df4 = df3[df3.title.str.contains('getTime')] # unformatted rows\n",
        "df5 = df3[~df3.title.str.contains('getTime')] # filter those unformatted rows\n",
        "print(len(df4))\n",
        "print(len(df5))"
      ],
      "execution_count": null,
      "outputs": [
        {
          "output_type": "stream",
          "text": [
            "430\n",
            "186207\n"
          ],
          "name": "stdout"
        }
      ]
    },
    {
      "cell_type": "markdown",
      "metadata": {
        "id": "_fB-YY3F-HqR"
      },
      "source": [
        "## User Review data 전처리"
      ]
    },
    {
      "cell_type": "code",
      "metadata": {
        "colab": {
          "base_uri": "https://localhost:8080/"
        },
        "id": "xMH7-Mho695D",
        "outputId": "3e166d4b-072a-4f43-db57-6a5eb8078516"
      },
      "source": [
        "data = []\n",
        "with gzip.open('AMAZON_FASHION.json.gz') as f:\n",
        "    for l in f:\n",
        "        data.append(json.loads(l.strip()))\n",
        "\n",
        "print(len(data))\n",
        "print(data[0])"
      ],
      "execution_count": null,
      "outputs": [
        {
          "output_type": "stream",
          "text": [
            "883636\n",
            "{'overall': 5.0, 'verified': True, 'reviewTime': '10 20, 2014', 'reviewerID': 'A1D4G1SNUZWQOT', 'asin': '7106116521', 'reviewerName': 'Tracy', 'reviewText': 'Exactly what I needed.', 'summary': 'perfect replacements!!', 'unixReviewTime': 1413763200}\n"
          ],
          "name": "stdout"
        }
      ]
    },
    {
      "cell_type": "code",
      "metadata": {
        "colab": {
          "base_uri": "https://localhost:8080/"
        },
        "id": "QNLEng8N-kU9",
        "outputId": "73cb4f14-9fed-44b5-9653-80697b121504"
      },
      "source": [
        "df = pd.DataFrame.from_dict(data)\n",
        "\n",
        "print(len(df))"
      ],
      "execution_count": null,
      "outputs": [
        {
          "output_type": "stream",
          "text": [
            "883636\n"
          ],
          "name": "stdout"
        }
      ]
    },
    {
      "cell_type": "code",
      "metadata": {
        "colab": {
          "base_uri": "https://localhost:8080/",
          "height": 375
        },
        "id": "uSQhnzME-nnA",
        "outputId": "9bccb73d-374f-4c24-afa6-6fb6cf68f634"
      },
      "source": [
        "df_fashion_review = df[(df.verified == True)]\n",
        "df_fashion_review = df_fashion_review.sort_values(by=['unixReviewTime'], ignore_index=True)\n",
        "df_fashion_review = df_fashion_review[(df_fashion_review.unixReviewTime >= 1483196400)] # 2017년 이후 리뷰\n",
        "\n",
        "print(len(df_fashion_review))\n",
        "df_fashion_review.head()"
      ],
      "execution_count": null,
      "outputs": [
        {
          "output_type": "stream",
          "text": [
            "225339\n"
          ],
          "name": "stdout"
        },
        {
          "output_type": "execute_result",
          "data": {
            "text/html": [
              "<div>\n",
              "<style scoped>\n",
              "    .dataframe tbody tr th:only-of-type {\n",
              "        vertical-align: middle;\n",
              "    }\n",
              "\n",
              "    .dataframe tbody tr th {\n",
              "        vertical-align: top;\n",
              "    }\n",
              "\n",
              "    .dataframe thead th {\n",
              "        text-align: right;\n",
              "    }\n",
              "</style>\n",
              "<table border=\"1\" class=\"dataframe\">\n",
              "  <thead>\n",
              "    <tr style=\"text-align: right;\">\n",
              "      <th></th>\n",
              "      <th>overall</th>\n",
              "      <th>verified</th>\n",
              "      <th>reviewTime</th>\n",
              "      <th>reviewerID</th>\n",
              "      <th>asin</th>\n",
              "      <th>reviewerName</th>\n",
              "      <th>reviewText</th>\n",
              "      <th>summary</th>\n",
              "      <th>unixReviewTime</th>\n",
              "      <th>vote</th>\n",
              "      <th>style</th>\n",
              "      <th>image</th>\n",
              "    </tr>\n",
              "  </thead>\n",
              "  <tbody>\n",
              "    <tr>\n",
              "      <th>603360</th>\n",
              "      <td>1.0</td>\n",
              "      <td>True</td>\n",
              "      <td>01 1, 2017</td>\n",
              "      <td>A2D9XU6VBGO4HU</td>\n",
              "      <td>B01DBMTFA4</td>\n",
              "      <td>Amazon Customer</td>\n",
              "      <td>Sad</td>\n",
              "      <td>One Star</td>\n",
              "      <td>1483228800</td>\n",
              "      <td>NaN</td>\n",
              "      <td>{'Color:': ' Grey'}</td>\n",
              "      <td>NaN</td>\n",
              "    </tr>\n",
              "    <tr>\n",
              "      <th>603361</th>\n",
              "      <td>5.0</td>\n",
              "      <td>True</td>\n",
              "      <td>01 1, 2017</td>\n",
              "      <td>A1TQIXB48V40T7</td>\n",
              "      <td>B019NQ5Q14</td>\n",
              "      <td>Kait</td>\n",
              "      <td>Thick and cozy, just as pictured. The tag is m...</td>\n",
              "      <td>Thick and cozy, just as pictured. The tag ...</td>\n",
              "      <td>1483228800</td>\n",
              "      <td>NaN</td>\n",
              "      <td>NaN</td>\n",
              "      <td>NaN</td>\n",
              "    </tr>\n",
              "    <tr>\n",
              "      <th>603362</th>\n",
              "      <td>1.0</td>\n",
              "      <td>True</td>\n",
              "      <td>01 1, 2017</td>\n",
              "      <td>AF7241JYDTI8A</td>\n",
              "      <td>B01HD1C7PY</td>\n",
              "      <td>Rhonda</td>\n",
              "      <td>I ordered a 2xx and it was soooooo small it fi...</td>\n",
              "      <td>What a rip off!</td>\n",
              "      <td>1483228800</td>\n",
              "      <td>NaN</td>\n",
              "      <td>NaN</td>\n",
              "      <td>NaN</td>\n",
              "    </tr>\n",
              "    <tr>\n",
              "      <th>603363</th>\n",
              "      <td>5.0</td>\n",
              "      <td>True</td>\n",
              "      <td>01 1, 2017</td>\n",
              "      <td>AKHU2R9PJP22D</td>\n",
              "      <td>B017UVT3F4</td>\n",
              "      <td>J Cole</td>\n",
              "      <td>Granddaughter loves it.</td>\n",
              "      <td>Five Stars</td>\n",
              "      <td>1483228800</td>\n",
              "      <td>NaN</td>\n",
              "      <td>{'Size:': ' 5', 'Color:': ' Grey Multi'}</td>\n",
              "      <td>NaN</td>\n",
              "    </tr>\n",
              "    <tr>\n",
              "      <th>603364</th>\n",
              "      <td>5.0</td>\n",
              "      <td>True</td>\n",
              "      <td>01 1, 2017</td>\n",
              "      <td>A3BJHX7M023ZBI</td>\n",
              "      <td>B018W8N7EW</td>\n",
              "      <td>Moroccomom</td>\n",
              "      <td>Nice tee for shorts and capris.</td>\n",
              "      <td>Great tee shirt</td>\n",
              "      <td>1483228800</td>\n",
              "      <td>NaN</td>\n",
              "      <td>NaN</td>\n",
              "      <td>NaN</td>\n",
              "    </tr>\n",
              "  </tbody>\n",
              "</table>\n",
              "</div>"
            ],
            "text/plain": [
              "        overall  verified  ...                                     style image\n",
              "603360      1.0      True  ...                       {'Color:': ' Grey'}   NaN\n",
              "603361      5.0      True  ...                                       NaN   NaN\n",
              "603362      1.0      True  ...                                       NaN   NaN\n",
              "603363      5.0      True  ...  {'Size:': ' 5', 'Color:': ' Grey Multi'}   NaN\n",
              "603364      5.0      True  ...                                       NaN   NaN\n",
              "\n",
              "[5 rows x 12 columns]"
            ]
          },
          "metadata": {
            "tags": []
          },
          "execution_count": 10
        }
      ]
    },
    {
      "cell_type": "code",
      "metadata": {
        "colab": {
          "base_uri": "https://localhost:8080/",
          "height": 204
        },
        "id": "IGTbkGLR981U",
        "outputId": "84b0f057-bacc-4231-b887-b69e33060553"
      },
      "source": [
        "review_columns = ['overall', 'reviewerID', 'asin', 'reviewText', 'summary','unixReviewTime']\n",
        "\n",
        "df_fashion_review = df_fashion_review[review_columns]\n",
        "df_fashion_review.head()"
      ],
      "execution_count": null,
      "outputs": [
        {
          "output_type": "execute_result",
          "data": {
            "text/html": [
              "<div>\n",
              "<style scoped>\n",
              "    .dataframe tbody tr th:only-of-type {\n",
              "        vertical-align: middle;\n",
              "    }\n",
              "\n",
              "    .dataframe tbody tr th {\n",
              "        vertical-align: top;\n",
              "    }\n",
              "\n",
              "    .dataframe thead th {\n",
              "        text-align: right;\n",
              "    }\n",
              "</style>\n",
              "<table border=\"1\" class=\"dataframe\">\n",
              "  <thead>\n",
              "    <tr style=\"text-align: right;\">\n",
              "      <th></th>\n",
              "      <th>overall</th>\n",
              "      <th>reviewerID</th>\n",
              "      <th>asin</th>\n",
              "      <th>reviewText</th>\n",
              "      <th>summary</th>\n",
              "      <th>unixReviewTime</th>\n",
              "    </tr>\n",
              "  </thead>\n",
              "  <tbody>\n",
              "    <tr>\n",
              "      <th>603360</th>\n",
              "      <td>1.0</td>\n",
              "      <td>A2D9XU6VBGO4HU</td>\n",
              "      <td>B01DBMTFA4</td>\n",
              "      <td>Sad</td>\n",
              "      <td>One Star</td>\n",
              "      <td>1483228800</td>\n",
              "    </tr>\n",
              "    <tr>\n",
              "      <th>603361</th>\n",
              "      <td>5.0</td>\n",
              "      <td>A1TQIXB48V40T7</td>\n",
              "      <td>B019NQ5Q14</td>\n",
              "      <td>Thick and cozy, just as pictured. The tag is m...</td>\n",
              "      <td>Thick and cozy, just as pictured. The tag ...</td>\n",
              "      <td>1483228800</td>\n",
              "    </tr>\n",
              "    <tr>\n",
              "      <th>603362</th>\n",
              "      <td>1.0</td>\n",
              "      <td>AF7241JYDTI8A</td>\n",
              "      <td>B01HD1C7PY</td>\n",
              "      <td>I ordered a 2xx and it was soooooo small it fi...</td>\n",
              "      <td>What a rip off!</td>\n",
              "      <td>1483228800</td>\n",
              "    </tr>\n",
              "    <tr>\n",
              "      <th>603363</th>\n",
              "      <td>5.0</td>\n",
              "      <td>AKHU2R9PJP22D</td>\n",
              "      <td>B017UVT3F4</td>\n",
              "      <td>Granddaughter loves it.</td>\n",
              "      <td>Five Stars</td>\n",
              "      <td>1483228800</td>\n",
              "    </tr>\n",
              "    <tr>\n",
              "      <th>603364</th>\n",
              "      <td>5.0</td>\n",
              "      <td>A3BJHX7M023ZBI</td>\n",
              "      <td>B018W8N7EW</td>\n",
              "      <td>Nice tee for shorts and capris.</td>\n",
              "      <td>Great tee shirt</td>\n",
              "      <td>1483228800</td>\n",
              "    </tr>\n",
              "  </tbody>\n",
              "</table>\n",
              "</div>"
            ],
            "text/plain": [
              "        overall  ... unixReviewTime\n",
              "603360      1.0  ...     1483228800\n",
              "603361      5.0  ...     1483228800\n",
              "603362      1.0  ...     1483228800\n",
              "603363      5.0  ...     1483228800\n",
              "603364      5.0  ...     1483228800\n",
              "\n",
              "[5 rows x 6 columns]"
            ]
          },
          "metadata": {
            "tags": []
          },
          "execution_count": 11
        }
      ]
    },
    {
      "cell_type": "code",
      "metadata": {
        "colab": {
          "base_uri": "https://localhost:8080/",
          "height": 204
        },
        "id": "690Zd36H-wxn",
        "outputId": "8f976d49-52eb-4977-933e-b531de09883d"
      },
      "source": [
        "# 컬럼명 변경\n",
        "df_fashion_review.rename(columns={\n",
        "    \"overall\": \"rating\",\n",
        "    \"reviewerID\": \"user_id\",\n",
        "    \"asin\": \"item_id\",\n",
        "    \"reviewText\": \"review\",\n",
        "    \"unixReviewTime\": \"timestamp\"\n",
        "}, inplace=True)\n",
        "\n",
        "df_fashion_review.head()"
      ],
      "execution_count": null,
      "outputs": [
        {
          "output_type": "execute_result",
          "data": {
            "text/html": [
              "<div>\n",
              "<style scoped>\n",
              "    .dataframe tbody tr th:only-of-type {\n",
              "        vertical-align: middle;\n",
              "    }\n",
              "\n",
              "    .dataframe tbody tr th {\n",
              "        vertical-align: top;\n",
              "    }\n",
              "\n",
              "    .dataframe thead th {\n",
              "        text-align: right;\n",
              "    }\n",
              "</style>\n",
              "<table border=\"1\" class=\"dataframe\">\n",
              "  <thead>\n",
              "    <tr style=\"text-align: right;\">\n",
              "      <th></th>\n",
              "      <th>rating</th>\n",
              "      <th>user_id</th>\n",
              "      <th>item_id</th>\n",
              "      <th>review</th>\n",
              "      <th>summary</th>\n",
              "      <th>timestamp</th>\n",
              "    </tr>\n",
              "  </thead>\n",
              "  <tbody>\n",
              "    <tr>\n",
              "      <th>603360</th>\n",
              "      <td>1.0</td>\n",
              "      <td>A2D9XU6VBGO4HU</td>\n",
              "      <td>B01DBMTFA4</td>\n",
              "      <td>Sad</td>\n",
              "      <td>One Star</td>\n",
              "      <td>1483228800</td>\n",
              "    </tr>\n",
              "    <tr>\n",
              "      <th>603361</th>\n",
              "      <td>5.0</td>\n",
              "      <td>A1TQIXB48V40T7</td>\n",
              "      <td>B019NQ5Q14</td>\n",
              "      <td>Thick and cozy, just as pictured. The tag is m...</td>\n",
              "      <td>Thick and cozy, just as pictured. The tag ...</td>\n",
              "      <td>1483228800</td>\n",
              "    </tr>\n",
              "    <tr>\n",
              "      <th>603362</th>\n",
              "      <td>1.0</td>\n",
              "      <td>AF7241JYDTI8A</td>\n",
              "      <td>B01HD1C7PY</td>\n",
              "      <td>I ordered a 2xx and it was soooooo small it fi...</td>\n",
              "      <td>What a rip off!</td>\n",
              "      <td>1483228800</td>\n",
              "    </tr>\n",
              "    <tr>\n",
              "      <th>603363</th>\n",
              "      <td>5.0</td>\n",
              "      <td>AKHU2R9PJP22D</td>\n",
              "      <td>B017UVT3F4</td>\n",
              "      <td>Granddaughter loves it.</td>\n",
              "      <td>Five Stars</td>\n",
              "      <td>1483228800</td>\n",
              "    </tr>\n",
              "    <tr>\n",
              "      <th>603364</th>\n",
              "      <td>5.0</td>\n",
              "      <td>A3BJHX7M023ZBI</td>\n",
              "      <td>B018W8N7EW</td>\n",
              "      <td>Nice tee for shorts and capris.</td>\n",
              "      <td>Great tee shirt</td>\n",
              "      <td>1483228800</td>\n",
              "    </tr>\n",
              "  </tbody>\n",
              "</table>\n",
              "</div>"
            ],
            "text/plain": [
              "        rating  ...   timestamp\n",
              "603360     1.0  ...  1483228800\n",
              "603361     5.0  ...  1483228800\n",
              "603362     1.0  ...  1483228800\n",
              "603363     5.0  ...  1483228800\n",
              "603364     5.0  ...  1483228800\n",
              "\n",
              "[5 rows x 6 columns]"
            ]
          },
          "metadata": {
            "tags": []
          },
          "execution_count": 12
        }
      ]
    },
    {
      "cell_type": "code",
      "metadata": {
        "colab": {
          "base_uri": "https://localhost:8080/"
        },
        "id": "Hetxlazl_Cpn",
        "outputId": "320759c5-d76d-4cc4-fe52-41e5e33a2795"
      },
      "source": [
        "df_fashion_review.shape"
      ],
      "execution_count": null,
      "outputs": [
        {
          "output_type": "execute_result",
          "data": {
            "text/plain": [
              "(225339, 6)"
            ]
          },
          "metadata": {
            "tags": []
          },
          "execution_count": 13
        }
      ]
    },
    {
      "cell_type": "code",
      "metadata": {
        "colab": {
          "base_uri": "https://localhost:8080/"
        },
        "id": "kfTbUqye_KB4",
        "outputId": "69b73bfd-d9c2-4ed3-a427-25caea64dcdf"
      },
      "source": [
        "df_fashion_review.info()"
      ],
      "execution_count": null,
      "outputs": [
        {
          "output_type": "stream",
          "text": [
            "<class 'pandas.core.frame.DataFrame'>\n",
            "Int64Index: 225339 entries, 603360 to 828698\n",
            "Data columns (total 6 columns):\n",
            " #   Column     Non-Null Count   Dtype  \n",
            "---  ------     --------------   -----  \n",
            " 0   rating     225339 non-null  float64\n",
            " 1   user_id    225339 non-null  object \n",
            " 2   item_id    225339 non-null  object \n",
            " 3   review     224899 non-null  object \n",
            " 4   summary    225153 non-null  object \n",
            " 5   timestamp  225339 non-null  int64  \n",
            "dtypes: float64(1), int64(1), object(4)\n",
            "memory usage: 12.0+ MB\n"
          ],
          "name": "stdout"
        }
      ]
    },
    {
      "cell_type": "code",
      "metadata": {
        "colab": {
          "base_uri": "https://localhost:8080/"
        },
        "id": "Z0umiWmU_Vmk",
        "outputId": "ff4765af-6798-47d6-fbe0-13f0541002b2"
      },
      "source": [
        "df_fashion_review.describe()['rating'].T"
      ],
      "execution_count": null,
      "outputs": [
        {
          "output_type": "execute_result",
          "data": {
            "text/plain": [
              "count    225339.000000\n",
              "mean          3.981659\n",
              "std           1.398888\n",
              "min           1.000000\n",
              "25%           3.000000\n",
              "50%           5.000000\n",
              "75%           5.000000\n",
              "max           5.000000\n",
              "Name: rating, dtype: float64"
            ]
          },
          "metadata": {
            "tags": []
          },
          "execution_count": 15
        }
      ]
    },
    {
      "cell_type": "code",
      "metadata": {
        "colab": {
          "base_uri": "https://localhost:8080/"
        },
        "id": "d69c0weZ_a8s",
        "outputId": "4610140b-ff5c-4fab-ff23-84ad72bf47b9"
      },
      "source": [
        "#Find the minimum and maximum ratings\n",
        "print('Minimum rating is: %d' %(df_fashion_review.rating.min()))\n",
        "print('Maximum rating is: %d' %(df_fashion_review.rating.max()))"
      ],
      "execution_count": null,
      "outputs": [
        {
          "output_type": "stream",
          "text": [
            "Minimum rating is: 1\n",
            "Maximum rating is: 5\n"
          ],
          "name": "stdout"
        }
      ]
    },
    {
      "cell_type": "markdown",
      "metadata": {
        "id": "tx0LLGAa_iz8"
      },
      "source": [
        "The rating of the product range from 0 to 1"
      ]
    },
    {
      "cell_type": "markdown",
      "metadata": {
        "id": "4zJ4TN5O_k2q"
      },
      "source": [
        "## 결측치 처리"
      ]
    },
    {
      "cell_type": "code",
      "metadata": {
        "colab": {
          "base_uri": "https://localhost:8080/"
        },
        "id": "MRqeWFgc_eRm",
        "outputId": "2c8786e2-c40e-4189-a425-af179375e294"
      },
      "source": [
        "print('Number of missing values across columns: \\n',df_fashion_review.isnull().sum())"
      ],
      "execution_count": null,
      "outputs": [
        {
          "output_type": "stream",
          "text": [
            "Number of missing values across columns: \n",
            " rating         0\n",
            "user_id        0\n",
            "item_id        0\n",
            "review       440\n",
            "summary      186\n",
            "timestamp      0\n",
            "dtype: int64\n"
          ],
          "name": "stdout"
        }
      ]
    },
    {
      "cell_type": "code",
      "metadata": {
        "colab": {
          "base_uri": "https://localhost:8080/",
          "height": 401
        },
        "id": "2uoZcM9C_plQ",
        "outputId": "403ba8c1-7015-4274-926c-8e2e472eaff0"
      },
      "source": [
        "# Check the distribution of the rating\n",
        "with sns.axes_style('white'):\n",
        "    g = sns.factorplot(\"rating\", data=df_fashion_review, aspect=2.0,kind='count')\n",
        "    g.set_ylabels(\"Total number of ratings\")"
      ],
      "execution_count": null,
      "outputs": [
        {
          "output_type": "execute_result",
          "data": {
            "text/plain": [
              "<seaborn.axisgrid.FacetGrid at 0x7f2c65a68210>"
            ]
          },
          "metadata": {
            "tags": []
          },
          "execution_count": 18
        },
        {
          "output_type": "display_data",
          "data": {
            "image/png": "[encoded data removed]",
            "text/plain": [
              "<Figure size 720x360 with 1 Axes>"
            ]
          },
          "metadata": {
            "tags": []
          }
        }
      ]
    },
    {
      "cell_type": "markdown",
      "metadata": {
        "id": "FPynuYoS_wzB"
      },
      "source": [
        "### User와 Item 유일한 값"
      ]
    },
    {
      "cell_type": "code",
      "metadata": {
        "colab": {
          "base_uri": "https://localhost:8080/"
        },
        "id": "fnAHglgx_zK_",
        "outputId": "26bf3916-b2fb-4b85-fb7f-7fec5661e69e"
      },
      "source": [
        "print(\"Total data \")\n",
        "print(\"-\"*50)\n",
        "print(\"\\nTotal no of ratings :\",df_fashion_review.shape[0])\n",
        "print(\"Total No of Users   :\", len(np.unique(df_fashion_review.user_id)))\n",
        "print(\"Total No of products  :\", len(np.unique(df_fashion_review.item_id)))"
      ],
      "execution_count": null,
      "outputs": [
        {
          "output_type": "stream",
          "text": [
            "Total data \n",
            "--------------------------------------------------\n",
            "\n",
            "Total no of ratings : 225339\n",
            "Total No of Users   : 202923\n",
            "Total No of products  : 60820\n"
          ],
          "name": "stdout"
        }
      ]
    },
    {
      "cell_type": "markdown",
      "metadata": {
        "id": "dg_kbn25AMO1"
      },
      "source": [
        "### 불필요한 컬럼 제거\n",
        "\n",
        "- timestamp\n",
        "- summary"
      ]
    },
    {
      "cell_type": "code",
      "metadata": {
        "id": "qCkPlh2m_uW9"
      },
      "source": [
        "df_fashion_review.drop(['timestamp', 'summary'], axis=1, inplace=True)"
      ],
      "execution_count": null,
      "outputs": []
    },
    {
      "cell_type": "code",
      "metadata": {
        "colab": {
          "base_uri": "https://localhost:8080/",
          "height": 204
        },
        "id": "4vPfFXllAjvy",
        "outputId": "2a203fd6-fdec-48a7-e7bb-88cc91355d76"
      },
      "source": [
        "df_fashion_review.head()"
      ],
      "execution_count": null,
      "outputs": [
        {
          "output_type": "execute_result",
          "data": {
            "text/html": [
              "<div>\n",
              "<style scoped>\n",
              "    .dataframe tbody tr th:only-of-type {\n",
              "        vertical-align: middle;\n",
              "    }\n",
              "\n",
              "    .dataframe tbody tr th {\n",
              "        vertical-align: top;\n",
              "    }\n",
              "\n",
              "    .dataframe thead th {\n",
              "        text-align: right;\n",
              "    }\n",
              "</style>\n",
              "<table border=\"1\" class=\"dataframe\">\n",
              "  <thead>\n",
              "    <tr style=\"text-align: right;\">\n",
              "      <th></th>\n",
              "      <th>rating</th>\n",
              "      <th>user_id</th>\n",
              "      <th>item_id</th>\n",
              "      <th>review</th>\n",
              "    </tr>\n",
              "  </thead>\n",
              "  <tbody>\n",
              "    <tr>\n",
              "      <th>603360</th>\n",
              "      <td>1.0</td>\n",
              "      <td>A2D9XU6VBGO4HU</td>\n",
              "      <td>B01DBMTFA4</td>\n",
              "      <td>Sad</td>\n",
              "    </tr>\n",
              "    <tr>\n",
              "      <th>603361</th>\n",
              "      <td>5.0</td>\n",
              "      <td>A1TQIXB48V40T7</td>\n",
              "      <td>B019NQ5Q14</td>\n",
              "      <td>Thick and cozy, just as pictured. The tag is m...</td>\n",
              "    </tr>\n",
              "    <tr>\n",
              "      <th>603362</th>\n",
              "      <td>1.0</td>\n",
              "      <td>AF7241JYDTI8A</td>\n",
              "      <td>B01HD1C7PY</td>\n",
              "      <td>I ordered a 2xx and it was soooooo small it fi...</td>\n",
              "    </tr>\n",
              "    <tr>\n",
              "      <th>603363</th>\n",
              "      <td>5.0</td>\n",
              "      <td>AKHU2R9PJP22D</td>\n",
              "      <td>B017UVT3F4</td>\n",
              "      <td>Granddaughter loves it.</td>\n",
              "    </tr>\n",
              "    <tr>\n",
              "      <th>603364</th>\n",
              "      <td>5.0</td>\n",
              "      <td>A3BJHX7M023ZBI</td>\n",
              "      <td>B018W8N7EW</td>\n",
              "      <td>Nice tee for shorts and capris.</td>\n",
              "    </tr>\n",
              "  </tbody>\n",
              "</table>\n",
              "</div>"
            ],
            "text/plain": [
              "        rating  ...                                             review\n",
              "603360     1.0  ...                                                Sad\n",
              "603361     5.0  ...  Thick and cozy, just as pictured. The tag is m...\n",
              "603362     1.0  ...  I ordered a 2xx and it was soooooo small it fi...\n",
              "603363     5.0  ...                            Granddaughter loves it.\n",
              "603364     5.0  ...                    Nice tee for shorts and capris.\n",
              "\n",
              "[5 rows x 4 columns]"
            ]
          },
          "metadata": {
            "tags": []
          },
          "execution_count": 21
        }
      ]
    },
    {
      "cell_type": "markdown",
      "metadata": {
        "id": "tpDKCyGgA4A8"
      },
      "source": [
        "## rating 컬럼 분석"
      ]
    },
    {
      "cell_type": "code",
      "metadata": {
        "colab": {
          "base_uri": "https://localhost:8080/"
        },
        "id": "rsVkh9m5A0pJ",
        "outputId": "6d217ac4-3c65-4625-8f60-e5843679b00a"
      },
      "source": [
        "no_of_rated_products_per_user = df_fashion_review.groupby(by='user_id')['rating'].count().sort_values(ascending=False)\n",
        "\n",
        "no_of_rated_products_per_user.head()"
      ],
      "execution_count": null,
      "outputs": [
        {
          "output_type": "execute_result",
          "data": {
            "text/plain": [
              "user_id\n",
              "A3OP70LPLALBKN    17\n",
              "A37K0VP2H8FKOU    16\n",
              "A3VGHF7VNFBMCQ    13\n",
              "A2AEJ9NTLWD61V    12\n",
              "A1C1UK1VCQ6ZLU    11\n",
              "Name: rating, dtype: int64"
            ]
          },
          "metadata": {
            "tags": []
          },
          "execution_count": 22
        }
      ]
    },
    {
      "cell_type": "markdown",
      "metadata": {
        "id": "jlRhRKSbBWZQ"
      },
      "source": [
        "유저들이 여러개의 제품을 평가 했다고 볼 수있다."
      ]
    },
    {
      "cell_type": "code",
      "metadata": {
        "colab": {
          "base_uri": "https://localhost:8080/"
        },
        "id": "T48SBCQqBOzw",
        "outputId": "e89458ad-096e-4a55-e063-fa04c783f243"
      },
      "source": [
        "no_of_rated_products_per_user.describe()"
      ],
      "execution_count": null,
      "outputs": [
        {
          "output_type": "execute_result",
          "data": {
            "text/plain": [
              "count    202923.000000\n",
              "mean          1.110466\n",
              "std           0.465260\n",
              "min           1.000000\n",
              "25%           1.000000\n",
              "50%           1.000000\n",
              "75%           1.000000\n",
              "max          17.000000\n",
              "Name: rating, dtype: float64"
            ]
          },
          "metadata": {
            "tags": []
          },
          "execution_count": 23
        }
      ]
    },
    {
      "cell_type": "code",
      "metadata": {
        "id": "QeFkvELRByFM"
      },
      "source": [
        "quantiles = no_of_rated_products_per_user.quantile(np.arange(0,1.01,0.01), interpolation='higher')"
      ],
      "execution_count": null,
      "outputs": []
    },
    {
      "cell_type": "code",
      "metadata": {
        "colab": {
          "base_uri": "https://localhost:8080/",
          "height": 675
        },
        "id": "7hovfTqhB6Ny",
        "outputId": "ef36afa8-f307-4209-f822-03ccda34eb4e"
      },
      "source": [
        "plt.figure(figsize=(10,10))\n",
        "plt.title(\"Quantiles and their Values\")\n",
        "quantiles.plot()\n",
        "# quantiles with 0.05 difference\n",
        "plt.scatter(x=quantiles.index[::5], y=quantiles.values[::5], c='orange', label=\"quantiles with 0.05 intervals\")\n",
        "# quantiles with 0.25 difference\n",
        "plt.scatter(x=quantiles.index[::25], y=quantiles.values[::25], c='m', label = \"quantiles with 0.25 intervals\")\n",
        "plt.ylabel('No of ratings by user')\n",
        "plt.xlabel('Value at the quantile')\n",
        "plt.legend(loc='best')\n",
        "plt.show()"
      ],
      "execution_count": null,
      "outputs": [
        {
          "output_type": "execute_result",
          "data": {
            "text/plain": [
              "<Figure size 720x720 with 0 Axes>"
            ]
          },
          "metadata": {
            "tags": []
          },
          "execution_count": 25
        },
        {
          "output_type": "execute_result",
          "data": {
            "text/plain": [
              "Text(0.5, 1.0, 'Quantiles and their Values')"
            ]
          },
          "metadata": {
            "tags": []
          },
          "execution_count": 25
        },
        {
          "output_type": "execute_result",
          "data": {
            "text/plain": [
              "<matplotlib.axes._subplots.AxesSubplot at 0x7f2c102fa510>"
            ]
          },
          "metadata": {
            "tags": []
          },
          "execution_count": 25
        },
        {
          "output_type": "execute_result",
          "data": {
            "text/plain": [
              "<matplotlib.collections.PathCollection at 0x7f2c0668ef50>"
            ]
          },
          "metadata": {
            "tags": []
          },
          "execution_count": 25
        },
        {
          "output_type": "execute_result",
          "data": {
            "text/plain": [
              "<matplotlib.collections.PathCollection at 0x7f2c06689350>"
            ]
          },
          "metadata": {
            "tags": []
          },
          "execution_count": 25
        },
        {
          "output_type": "execute_result",
          "data": {
            "text/plain": [
              "Text(0, 0.5, 'No of ratings by user')"
            ]
          },
          "metadata": {
            "tags": []
          },
          "execution_count": 25
        },
        {
          "output_type": "execute_result",
          "data": {
            "text/plain": [
              "Text(0.5, 0, 'Value at the quantile')"
            ]
          },
          "metadata": {
            "tags": []
          },
          "execution_count": 25
        },
        {
          "output_type": "execute_result",
          "data": {
            "text/plain": [
              "<matplotlib.legend.Legend at 0x7f2c06677bd0>"
            ]
          },
          "metadata": {
            "tags": []
          },
          "execution_count": 25
        },
        {
          "output_type": "display_data",
          "data": {
            "image/png": "[encoded data removed]",
            "text/plain": [
              "<Figure size 720x720 with 1 Axes>"
            ]
          },
          "metadata": {
            "tags": [],
            "needs_background": "light"
          }
        }
      ]
    },
    {
      "cell_type": "code",
      "metadata": {
        "colab": {
          "base_uri": "https://localhost:8080/"
        },
        "id": "O_Ngl1P-B98I",
        "outputId": "c2a9121c-3782-46c9-fdbe-d95b6956e2b6"
      },
      "source": [
        "print('\\n 사용자 당 10 개 이상의 제품 수 : {}\\n'.format(sum(no_of_rated_products_per_user >= 10)) )"
      ],
      "execution_count": null,
      "outputs": [
        {
          "output_type": "stream",
          "text": [
            "\n",
            " 사용자 당 10 개 이상의 제품 수 : 7\n",
            "\n"
          ],
          "name": "stdout"
        }
      ]
    },
    {
      "cell_type": "markdown",
      "metadata": {
        "id": "ELE62vD9Kggl"
      },
      "source": [
        "## Popularity Based Recommendation\n",
        "\n",
        "3번이상 평가한 유저들로 기반"
      ]
    },
    {
      "cell_type": "code",
      "metadata": {
        "id": "Q1vX87vsKX6d"
      },
      "source": [
        "new_df=df_fashion_review.groupby(\"item_id\").filter(lambda x:x['rating'].count() >=3)"
      ],
      "execution_count": null,
      "outputs": []
    },
    {
      "cell_type": "code",
      "metadata": {
        "colab": {
          "base_uri": "https://localhost:8080/",
          "height": 285
        },
        "id": "O-IpDrwKKf9S",
        "outputId": "aed980c0-e3e7-40ab-f3ae-ac1635d6fb06"
      },
      "source": [
        "no_of_ratings_per_product = new_df.groupby(by='item_id')['rating'].count().sort_values(ascending=False)\n",
        "\n",
        "fig = plt.figure(figsize=plt.figaspect(.5))\n",
        "ax = plt.gca()\n",
        "plt.plot(no_of_ratings_per_product.values)\n",
        "plt.title('# RATINGS per Product')\n",
        "plt.xlabel('Product')\n",
        "plt.ylabel('No of ratings per product')\n",
        "ax.set_xticklabels([])\n",
        "\n",
        "plt.show();"
      ],
      "execution_count": null,
      "outputs": [
        {
          "output_type": "display_data",
          "data": {
            "image/png": "[encoded data removed]",
            "text/plain": [
              "<Figure size 576x288 with 1 Axes>"
            ]
          },
          "metadata": {
            "tags": [],
            "needs_background": "light"
          }
        }
      ]
    },
    {
      "cell_type": "code",
      "metadata": {
        "colab": {
          "base_uri": "https://localhost:8080/"
        },
        "id": "zQIqW1rtKn2H",
        "outputId": "4f40cad0-2a53-4fdb-c57e-0f832142c6d0"
      },
      "source": [
        "len(new_df)"
      ],
      "execution_count": null,
      "outputs": [
        {
          "output_type": "execute_result",
          "data": {
            "text/plain": [
              "167507"
            ]
          },
          "metadata": {
            "tags": []
          },
          "execution_count": 29
        }
      ]
    },
    {
      "cell_type": "code",
      "metadata": {
        "colab": {
          "base_uri": "https://localhost:8080/"
        },
        "id": "o88Ynb6cIOe9",
        "outputId": "be748d3a-c6ac-4596-ef2a-552c403306bf"
      },
      "source": [
        "#제품의 평균등급\n",
        "new_df.groupby('item_id')['rating'].mean().head()"
      ],
      "execution_count": null,
      "outputs": [
        {
          "output_type": "execute_result",
          "data": {
            "text/plain": [
              "item_id\n",
              "B00004T3SN    5.000000\n",
              "B00007GDFV    3.636364\n",
              "B00008JOQI    3.692308\n",
              "B00008JPRZ    4.307692\n",
              "B00008JQF0    4.400000\n",
              "Name: rating, dtype: float64"
            ]
          },
          "metadata": {
            "tags": []
          },
          "execution_count": 30
        }
      ]
    },
    {
      "cell_type": "code",
      "metadata": {
        "colab": {
          "base_uri": "https://localhost:8080/"
        },
        "id": "cPRo0GwhITP1",
        "outputId": "9ff9a767-7550-4c3a-d655-365318f81bc1"
      },
      "source": [
        "new_df.groupby('item_id')['rating'].mean().sort_values(ascending=False).head()"
      ],
      "execution_count": null,
      "outputs": [
        {
          "output_type": "execute_result",
          "data": {
            "text/plain": [
              "item_id\n",
              "B00004T3SN    5.0\n",
              "B016MUI3DW    5.0\n",
              "B016ZEKLZ8    5.0\n",
              "B016YVVBF6    5.0\n",
              "B016XG4FBE    5.0\n",
              "Name: rating, dtype: float64"
            ]
          },
          "metadata": {
            "tags": []
          },
          "execution_count": 31
        }
      ]
    },
    {
      "cell_type": "code",
      "metadata": {
        "colab": {
          "base_uri": "https://localhost:8080/"
        },
        "id": "Cw4W6ofKIkh6",
        "outputId": "0d734448-10be-4e79-ff88-e4c5b2ef52fc"
      },
      "source": [
        "#제품평점총수\n",
        "new_df.groupby('item_id')['rating'].count().sort_values(ascending=False).head()"
      ],
      "execution_count": null,
      "outputs": [
        {
          "output_type": "execute_result",
          "data": {
            "text/plain": [
              "item_id\n",
              "B000V0IBDM    2039\n",
              "B000KPIHQ4    2031\n",
              "B00XT15P8E    1787\n",
              "B000YFSR5G    1652\n",
              "B00I0VHS10    1642\n",
              "Name: rating, dtype: int64"
            ]
          },
          "metadata": {
            "tags": []
          },
          "execution_count": 32
        }
      ]
    },
    {
      "cell_type": "code",
      "metadata": {
        "id": "C4UJDCZbIuEt"
      },
      "source": [
        "ratings_mean_count = pd.DataFrame(new_df.groupby('item_id')['rating'].mean())"
      ],
      "execution_count": null,
      "outputs": []
    },
    {
      "cell_type": "code",
      "metadata": {
        "colab": {
          "base_uri": "https://localhost:8080/",
          "height": 235
        },
        "id": "viqaYYloI63A",
        "outputId": "b57d4a04-4f61-4145-b32a-ce8884cfce25"
      },
      "source": [
        "ratings_mean_count['rating_counts'] = pd.DataFrame(df_fashion_review.groupby('item_id')['rating'].count())\n",
        "\n",
        "ratings_mean_count.head()"
      ],
      "execution_count": null,
      "outputs": [
        {
          "output_type": "execute_result",
          "data": {
            "text/html": [
              "<div>\n",
              "<style scoped>\n",
              "    .dataframe tbody tr th:only-of-type {\n",
              "        vertical-align: middle;\n",
              "    }\n",
              "\n",
              "    .dataframe tbody tr th {\n",
              "        vertical-align: top;\n",
              "    }\n",
              "\n",
              "    .dataframe thead th {\n",
              "        text-align: right;\n",
              "    }\n",
              "</style>\n",
              "<table border=\"1\" class=\"dataframe\">\n",
              "  <thead>\n",
              "    <tr style=\"text-align: right;\">\n",
              "      <th></th>\n",
              "      <th>rating</th>\n",
              "      <th>rating_counts</th>\n",
              "    </tr>\n",
              "    <tr>\n",
              "      <th>item_id</th>\n",
              "      <th></th>\n",
              "      <th></th>\n",
              "    </tr>\n",
              "  </thead>\n",
              "  <tbody>\n",
              "    <tr>\n",
              "      <th>B00004T3SN</th>\n",
              "      <td>5.000000</td>\n",
              "      <td>3</td>\n",
              "    </tr>\n",
              "    <tr>\n",
              "      <th>B00007GDFV</th>\n",
              "      <td>3.636364</td>\n",
              "      <td>33</td>\n",
              "    </tr>\n",
              "    <tr>\n",
              "      <th>B00008JOQI</th>\n",
              "      <td>3.692308</td>\n",
              "      <td>13</td>\n",
              "    </tr>\n",
              "    <tr>\n",
              "      <th>B00008JPRZ</th>\n",
              "      <td>4.307692</td>\n",
              "      <td>13</td>\n",
              "    </tr>\n",
              "    <tr>\n",
              "      <th>B00008JQF0</th>\n",
              "      <td>4.400000</td>\n",
              "      <td>15</td>\n",
              "    </tr>\n",
              "  </tbody>\n",
              "</table>\n",
              "</div>"
            ],
            "text/plain": [
              "              rating  rating_counts\n",
              "item_id                            \n",
              "B00004T3SN  5.000000              3\n",
              "B00007GDFV  3.636364             33\n",
              "B00008JOQI  3.692308             13\n",
              "B00008JPRZ  4.307692             13\n",
              "B00008JQF0  4.400000             15"
            ]
          },
          "metadata": {
            "tags": []
          },
          "execution_count": 34
        }
      ]
    },
    {
      "cell_type": "code",
      "metadata": {
        "colab": {
          "base_uri": "https://localhost:8080/"
        },
        "id": "BQ7kUjAaJFXE",
        "outputId": "df5051d4-7f05-48a7-de7f-51dc3f7a9674"
      },
      "source": [
        "ratings_mean_count['rating_counts'].max()"
      ],
      "execution_count": null,
      "outputs": [
        {
          "output_type": "execute_result",
          "data": {
            "text/plain": [
              "2039"
            ]
          },
          "metadata": {
            "tags": []
          },
          "execution_count": 35
        }
      ]
    },
    {
      "cell_type": "code",
      "metadata": {
        "colab": {
          "base_uri": "https://localhost:8080/",
          "height": 374
        },
        "id": "jxpna0MAJKPv",
        "outputId": "e861c0a5-2139-489a-c717-bb4880b538b7"
      },
      "source": [
        "plt.figure(figsize=(8,6))\n",
        "plt.rcParams['patch.force_edgecolor'] = True\n",
        "ratings_mean_count['rating_counts'].hist(bins=50);"
      ],
      "execution_count": null,
      "outputs": [
        {
          "output_type": "display_data",
          "data": {
            "image/png": "[encoded data removed]",
            "text/plain": [
              "<Figure size 576x432 with 1 Axes>"
            ]
          },
          "metadata": {
            "tags": [],
            "needs_background": "light"
          }
        }
      ]
    },
    {
      "cell_type": "markdown",
      "metadata": {
        "id": "UX9FrumdJWU1"
      },
      "source": [
        "**outlier 제거**"
      ]
    },
    {
      "cell_type": "code",
      "metadata": {
        "colab": {
          "base_uri": "https://localhost:8080/",
          "height": 376
        },
        "id": "pmaOgfZeJQWK",
        "outputId": "0e6efc67-49cb-4171-feb8-98f71c256dae"
      },
      "source": [
        "plt.figure(figsize=(8,6))\n",
        "plt.rcParams['patch.force_edgecolor'] = True\n",
        "ratings_mean_count['rating'].hist(bins=50);"
      ],
      "execution_count": null,
      "outputs": [
        {
          "output_type": "display_data",
          "data": {
            "image/png": "[encoded data removed]",
            "text/plain": [
              "<Figure size 576x432 with 1 Axes>"
            ]
          },
          "metadata": {
            "tags": [],
            "needs_background": "light"
          }
        }
      ]
    },
    {
      "cell_type": "code",
      "metadata": {
        "colab": {
          "base_uri": "https://localhost:8080/",
          "height": 358
        },
        "id": "vIW6nU9sJkhT",
        "outputId": "8cfc2544-90be-4dad-a596-2edcb08febc3"
      },
      "source": [
        "popular_products = pd.DataFrame(new_df.groupby('item_id')['rating'].count())\n",
        "most_popular = popular_products.sort_values('rating', ascending=False)\n",
        "most_popular.head(30).plot(kind = \"bar\")"
      ],
      "execution_count": null,
      "outputs": [
        {
          "output_type": "execute_result",
          "data": {
            "text/plain": [
              "<matplotlib.axes._subplots.AxesSubplot at 0x7f2c06032150>"
            ]
          },
          "metadata": {
            "tags": []
          },
          "execution_count": 38
        },
        {
          "output_type": "display_data",
          "data": {
            "image/png": "[encoded data removed]",
            "text/plain": [
              "<Figure size 432x288 with 1 Axes>"
            ]
          },
          "metadata": {
            "tags": [],
            "needs_background": "light"
          }
        }
      ]
    },
    {
      "cell_type": "markdown",
      "metadata": {
        "id": "j4E-dzZZDclo"
      },
      "source": [
        "# Base Line Model\n",
        "\n",
        "- Matrix Factorization(협업 필터링)\n",
        "\n"
      ]
    },
    {
      "cell_type": "code",
      "metadata": {
        "colab": {
          "base_uri": "https://localhost:8080/",
          "height": 734
        },
        "id": "yi2OAx8SU_ao",
        "outputId": "5e181118-63cc-4554-f934-bfc037450e56"
      },
      "source": [
        "df_ratings = pd.read_csv('./fashion_user_item_review.csv')\n",
        "df_ratings.head()"
      ],
      "execution_count": null,
      "outputs": [
        {
          "output_type": "execute_result",
          "data": {
            "text/html": [
              "<div>\n",
              "<style scoped>\n",
              "    .dataframe tbody tr th:only-of-type {\n",
              "        vertical-align: middle;\n",
              "    }\n",
              "\n",
              "    .dataframe tbody tr th {\n",
              "        vertical-align: top;\n",
              "    }\n",
              "\n",
              "    .dataframe thead th {\n",
              "        text-align: right;\n",
              "    }\n",
              "</style>\n",
              "<table border=\"1\" class=\"dataframe\">\n",
              "  <thead>\n",
              "    <tr style=\"text-align: right;\">\n",
              "      <th></th>\n",
              "      <th>rate</th>\n",
              "      <th>user_id</th>\n",
              "      <th>item_id</th>\n",
              "      <th>review</th>\n",
              "      <th>summary</th>\n",
              "      <th>timestamp</th>\n",
              "      <th>title</th>\n",
              "      <th>brand</th>\n",
              "      <th>price</th>\n",
              "    </tr>\n",
              "  </thead>\n",
              "  <tbody>\n",
              "    <tr>\n",
              "      <th>0</th>\n",
              "      <td>1</td>\n",
              "      <td>A2D9XU6VBGO4HU</td>\n",
              "      <td>B01DBMTFA4</td>\n",
              "      <td>Sad</td>\n",
              "      <td>One Star</td>\n",
              "      <td>2017-01-01</td>\n",
              "      <td>HIBROS Love Knot Cufflinks Stainless Steel Tux...</td>\n",
              "      <td>NaN</td>\n",
              "      <td>NaN</td>\n",
              "    </tr>\n",
              "    <tr>\n",
              "      <th>1</th>\n",
              "      <td>1</td>\n",
              "      <td>A3CRODW9YZRIOT</td>\n",
              "      <td>B01DBMTFA4</td>\n",
              "      <td>BAD</td>\n",
              "      <td>One Star</td>\n",
              "      <td>2017-01-06</td>\n",
              "      <td>HIBROS Love Knot Cufflinks Stainless Steel Tux...</td>\n",
              "      <td>NaN</td>\n",
              "      <td>NaN</td>\n",
              "    </tr>\n",
              "    <tr>\n",
              "      <th>2</th>\n",
              "      <td>4</td>\n",
              "      <td>A3D3597E9WA3CU</td>\n",
              "      <td>B01DBMTFA4</td>\n",
              "      <td>ok</td>\n",
              "      <td>ok</td>\n",
              "      <td>2017-01-17</td>\n",
              "      <td>HIBROS Love Knot Cufflinks Stainless Steel Tux...</td>\n",
              "      <td>NaN</td>\n",
              "      <td>NaN</td>\n",
              "    </tr>\n",
              "    <tr>\n",
              "      <th>3</th>\n",
              "      <td>5</td>\n",
              "      <td>A3IWS9RVTPLHNH</td>\n",
              "      <td>B01DBMTFA4</td>\n",
              "      <td>really good. Were as expected.</td>\n",
              "      <td>Five Stars</td>\n",
              "      <td>2017-01-18</td>\n",
              "      <td>HIBROS Love Knot Cufflinks Stainless Steel Tux...</td>\n",
              "      <td>NaN</td>\n",
              "      <td>NaN</td>\n",
              "    </tr>\n",
              "    <tr>\n",
              "      <th>4</th>\n",
              "      <td>5</td>\n",
              "      <td>A2T52GTR58N1Y7</td>\n",
              "      <td>B01DBMTFA4</td>\n",
              "      <td>very nice looking</td>\n",
              "      <td>Five Stars</td>\n",
              "      <td>2017-01-19</td>\n",
              "      <td>HIBROS Love Knot Cufflinks Stainless Steel Tux...</td>\n",
              "      <td>NaN</td>\n",
              "      <td>NaN</td>\n",
              "    </tr>\n",
              "  </tbody>\n",
              "</table>\n",
              "</div>"
            ],
            "text/plain": [
              "   rate         user_id  ... brand price\n",
              "0     1  A2D9XU6VBGO4HU  ...   NaN   NaN\n",
              "1     1  A3CRODW9YZRIOT  ...   NaN   NaN\n",
              "2     4  A3D3597E9WA3CU  ...   NaN   NaN\n",
              "3     5  A3IWS9RVTPLHNH  ...   NaN   NaN\n",
              "4     5  A2T52GTR58N1Y7  ...   NaN   NaN\n",
              "\n",
              "[5 rows x 9 columns]"
            ]
          },
          "metadata": {
            "tags": []
          },
          "execution_count": 39
        }
      ]
    },
    {
      "cell_type": "markdown",
      "metadata": {
        "id": "2vxAiGhEWNHg"
      },
      "source": [
        "**사용자-아이팀 pivot table을 만드는 작업**"
      ]
    },
    {
      "cell_type": "code",
      "metadata": {
        "colab": {
          "base_uri": "https://localhost:8080/",
          "height": 521
        },
        "id": "cn_nWSwbap4d",
        "outputId": "7b59fb7e-fb25-4de7-8d6a-bced24302871"
      },
      "source": [
        "df_fashion_review"
      ],
      "execution_count": null,
      "outputs": [
        {
          "output_type": "execute_result",
          "data": {
            "text/html": [
              "<div>\n",
              "<style scoped>\n",
              "    .dataframe tbody tr th:only-of-type {\n",
              "        vertical-align: middle;\n",
              "    }\n",
              "\n",
              "    .dataframe tbody tr th {\n",
              "        vertical-align: top;\n",
              "    }\n",
              "\n",
              "    .dataframe thead th {\n",
              "        text-align: right;\n",
              "    }\n",
              "</style>\n",
              "<table border=\"1\" class=\"dataframe\">\n",
              "  <thead>\n",
              "    <tr style=\"text-align: right;\">\n",
              "      <th></th>\n",
              "      <th>rating</th>\n",
              "      <th>user_id</th>\n",
              "      <th>item_id</th>\n",
              "      <th>review</th>\n",
              "    </tr>\n",
              "  </thead>\n",
              "  <tbody>\n",
              "    <tr>\n",
              "      <th>603360</th>\n",
              "      <td>1.0</td>\n",
              "      <td>A2D9XU6VBGO4HU</td>\n",
              "      <td>B01DBMTFA4</td>\n",
              "      <td>Sad</td>\n",
              "    </tr>\n",
              "    <tr>\n",
              "      <th>603361</th>\n",
              "      <td>5.0</td>\n",
              "      <td>A1TQIXB48V40T7</td>\n",
              "      <td>B019NQ5Q14</td>\n",
              "      <td>Thick and cozy, just as pictured. The tag is m...</td>\n",
              "    </tr>\n",
              "    <tr>\n",
              "      <th>603362</th>\n",
              "      <td>1.0</td>\n",
              "      <td>AF7241JYDTI8A</td>\n",
              "      <td>B01HD1C7PY</td>\n",
              "      <td>I ordered a 2xx and it was soooooo small it fi...</td>\n",
              "    </tr>\n",
              "    <tr>\n",
              "      <th>603363</th>\n",
              "      <td>5.0</td>\n",
              "      <td>AKHU2R9PJP22D</td>\n",
              "      <td>B017UVT3F4</td>\n",
              "      <td>Granddaughter loves it.</td>\n",
              "    </tr>\n",
              "    <tr>\n",
              "      <th>603364</th>\n",
              "      <td>5.0</td>\n",
              "      <td>A3BJHX7M023ZBI</td>\n",
              "      <td>B018W8N7EW</td>\n",
              "      <td>Nice tee for shorts and capris.</td>\n",
              "    </tr>\n",
              "    <tr>\n",
              "      <th>...</th>\n",
              "      <td>...</td>\n",
              "      <td>...</td>\n",
              "      <td>...</td>\n",
              "      <td>...</td>\n",
              "    </tr>\n",
              "    <tr>\n",
              "      <th>828694</th>\n",
              "      <td>1.0</td>\n",
              "      <td>A32M1OZKT7IC43</td>\n",
              "      <td>B01GGEQSWM</td>\n",
              "      <td>I hate the cut it's almost boarding school sty...</td>\n",
              "    </tr>\n",
              "    <tr>\n",
              "      <th>828695</th>\n",
              "      <td>3.0</td>\n",
              "      <td>A1FKS778XITHK6</td>\n",
              "      <td>B01GGEQSWM</td>\n",
              "      <td>Product is as pictured by I usually take a lar...</td>\n",
              "    </tr>\n",
              "    <tr>\n",
              "      <th>828696</th>\n",
              "      <td>5.0</td>\n",
              "      <td>AQTT6V6MSMYC8</td>\n",
              "      <td>B01GGGSD6E</td>\n",
              "      <td>This is a great product to help show respect f...</td>\n",
              "    </tr>\n",
              "    <tr>\n",
              "      <th>828697</th>\n",
              "      <td>5.0</td>\n",
              "      <td>A2P6021FB6L6T6</td>\n",
              "      <td>B01HHJZNBM</td>\n",
              "      <td>Vere, very good</td>\n",
              "    </tr>\n",
              "    <tr>\n",
              "      <th>828698</th>\n",
              "      <td>3.0</td>\n",
              "      <td>A2FDKSBXCJJQ26</td>\n",
              "      <td>B01GHPMJYQ</td>\n",
              "      <td>Glad I got the 2x could be larger I weigh 145</td>\n",
              "    </tr>\n",
              "  </tbody>\n",
              "</table>\n",
              "<p>225339 rows × 4 columns</p>\n",
              "</div>"
            ],
            "text/plain": [
              "        rating  ...                                             review\n",
              "603360     1.0  ...                                                Sad\n",
              "603361     5.0  ...  Thick and cozy, just as pictured. The tag is m...\n",
              "603362     1.0  ...  I ordered a 2xx and it was soooooo small it fi...\n",
              "603363     5.0  ...                            Granddaughter loves it.\n",
              "603364     5.0  ...                    Nice tee for shorts and capris.\n",
              "...        ...  ...                                                ...\n",
              "828694     1.0  ...  I hate the cut it's almost boarding school sty...\n",
              "828695     3.0  ...  Product is as pictured by I usually take a lar...\n",
              "828696     5.0  ...  This is a great product to help show respect f...\n",
              "828697     5.0  ...                                    Vere, very good\n",
              "828698     3.0  ...      Glad I got the 2x could be larger I weigh 145\n",
              "\n",
              "[225339 rows x 4 columns]"
            ]
          },
          "metadata": {
            "tags": []
          },
          "execution_count": 40
        }
      ]
    },
    {
      "cell_type": "code",
      "metadata": {
        "id": "WyA3C6NvVhkd"
      },
      "source": [
        "df_smallsize_ratings = df_ratings.head(50000)\n",
        "df_user_fashion_ratings = df_smallsize_ratings.pivot(\n",
        "    index='user_id',\n",
        "    columns = 'item_id',\n",
        "    values='rate'\n",
        ").fillna(0)"
      ],
      "execution_count": null,
      "outputs": []
    },
    {
      "cell_type": "code",
      "metadata": {
        "colab": {
          "base_uri": "https://localhost:8080/",
          "height": 284
        },
        "id": "kcrrPu3tV-Z6",
        "outputId": "915d532f-a6e3-429e-a3e5-2a9b2556d6d3"
      },
      "source": [
        "df_user_fashion_ratings.head()"
      ],
      "execution_count": null,
      "outputs": [
        {
          "output_type": "execute_result",
          "data": {
            "text/html": [
              "<div>\n",
              "<style scoped>\n",
              "    .dataframe tbody tr th:only-of-type {\n",
              "        vertical-align: middle;\n",
              "    }\n",
              "\n",
              "    .dataframe tbody tr th {\n",
              "        vertical-align: top;\n",
              "    }\n",
              "\n",
              "    .dataframe thead th {\n",
              "        text-align: right;\n",
              "    }\n",
              "</style>\n",
              "<table border=\"1\" class=\"dataframe\">\n",
              "  <thead>\n",
              "    <tr style=\"text-align: right;\">\n",
              "      <th>item_id</th>\n",
              "      <th>B00008JVTT</th>\n",
              "      <th>B00066G516</th>\n",
              "      <th>B000ER9V68</th>\n",
              "      <th>B000GHMRLW</th>\n",
              "      <th>B000GHRZN2</th>\n",
              "      <th>B000HQ4P9O</th>\n",
              "      <th>B000JOOR7O</th>\n",
              "      <th>B000KPIHQ4</th>\n",
              "      <th>B000NGJ41W</th>\n",
              "      <th>B000PHANNM</th>\n",
              "      <th>B000PMNS3E</th>\n",
              "      <th>B000PMPTF4</th>\n",
              "      <th>B000PMPTGI</th>\n",
              "      <th>B000POJKMU</th>\n",
              "      <th>B000POL05U</th>\n",
              "      <th>B000PQJQUY</th>\n",
              "      <th>B000V0IBDM</th>\n",
              "      <th>B000V588EO</th>\n",
              "      <th>B000VIUJLG</th>\n",
              "      <th>B000YFSR5G</th>\n",
              "      <th>B0014F57YY</th>\n",
              "      <th>B0014F8TIU</th>\n",
              "      <th>B0017U1KBK</th>\n",
              "      <th>B0018N8CHQ</th>\n",
              "      <th>B001AXC4YG</th>\n",
              "      <th>B001F8LJ92</th>\n",
              "      <th>B001G7R0CC</th>\n",
              "      <th>B001GIO77C</th>\n",
              "      <th>B001IKJOLW</th>\n",
              "      <th>B001LFP0EO</th>\n",
              "      <th>B001T4MSU6</th>\n",
              "      <th>B0027L8RSW</th>\n",
              "      <th>B002B90VTI</th>\n",
              "      <th>B002QATOV8</th>\n",
              "      <th>B002RC6FWQ</th>\n",
              "      <th>B002Z3N1HE</th>\n",
              "      <th>B003950BDY</th>\n",
              "      <th>B003BRC73C</th>\n",
              "      <th>B003ESTRW2</th>\n",
              "      <th>B003GJZDGS</th>\n",
              "      <th>...</th>\n",
              "      <th>B01GZZIWKI</th>\n",
              "      <th>B01GZZOZ8G</th>\n",
              "      <th>B01H059U4Y</th>\n",
              "      <th>B01H0C5A9Q</th>\n",
              "      <th>B01H1LQMXO</th>\n",
              "      <th>B01H1P2YTG</th>\n",
              "      <th>B01H1WHBPG</th>\n",
              "      <th>B01H3D4MZK</th>\n",
              "      <th>B01H3DCZBI</th>\n",
              "      <th>B01H3H4EB8</th>\n",
              "      <th>B01H4DGICE</th>\n",
              "      <th>B01H4P97HA</th>\n",
              "      <th>B01H5A1WUO</th>\n",
              "      <th>B01H62UHX4</th>\n",
              "      <th>B01H6FTQRY</th>\n",
              "      <th>B01H6Z43A4</th>\n",
              "      <th>B01H79VTDS</th>\n",
              "      <th>B01H7KY678</th>\n",
              "      <th>B01H7N6240</th>\n",
              "      <th>B01H7RIHEO</th>\n",
              "      <th>B01HBI0KW6</th>\n",
              "      <th>B01HBJW7DU</th>\n",
              "      <th>B01HBLV3K6</th>\n",
              "      <th>B01HC7ZP1M</th>\n",
              "      <th>B01HCHY6AI</th>\n",
              "      <th>B01HCJMCU2</th>\n",
              "      <th>B01HCVAP5O</th>\n",
              "      <th>B01HCWVWF0</th>\n",
              "      <th>B01HD1C7PY</th>\n",
              "      <th>B01HE9KXKQ</th>\n",
              "      <th>B01HEGKFKM</th>\n",
              "      <th>B01HEISONU</th>\n",
              "      <th>B01HFKK1AG</th>\n",
              "      <th>B01HFKZ57K</th>\n",
              "      <th>B01HFZM5RS</th>\n",
              "      <th>B01HH5SFNO</th>\n",
              "      <th>B01HHUQEY6</th>\n",
              "      <th>B01HIA2Y80</th>\n",
              "      <th>B01HIVIU82</th>\n",
              "      <th>B01HJGJ9LS</th>\n",
              "    </tr>\n",
              "    <tr>\n",
              "      <th>user_id</th>\n",
              "      <th></th>\n",
              "      <th></th>\n",
              "      <th></th>\n",
              "      <th></th>\n",
              "      <th></th>\n",
              "      <th></th>\n",
              "      <th></th>\n",
              "      <th></th>\n",
              "      <th></th>\n",
              "      <th></th>\n",
              "      <th></th>\n",
              "      <th></th>\n",
              "      <th></th>\n",
              "      <th></th>\n",
              "      <th></th>\n",
              "      <th></th>\n",
              "      <th></th>\n",
              "      <th></th>\n",
              "      <th></th>\n",
              "      <th></th>\n",
              "      <th></th>\n",
              "      <th></th>\n",
              "      <th></th>\n",
              "      <th></th>\n",
              "      <th></th>\n",
              "      <th></th>\n",
              "      <th></th>\n",
              "      <th></th>\n",
              "      <th></th>\n",
              "      <th></th>\n",
              "      <th></th>\n",
              "      <th></th>\n",
              "      <th></th>\n",
              "      <th></th>\n",
              "      <th></th>\n",
              "      <th></th>\n",
              "      <th></th>\n",
              "      <th></th>\n",
              "      <th></th>\n",
              "      <th></th>\n",
              "      <th></th>\n",
              "      <th></th>\n",
              "      <th></th>\n",
              "      <th></th>\n",
              "      <th></th>\n",
              "      <th></th>\n",
              "      <th></th>\n",
              "      <th></th>\n",
              "      <th></th>\n",
              "      <th></th>\n",
              "      <th></th>\n",
              "      <th></th>\n",
              "      <th></th>\n",
              "      <th></th>\n",
              "      <th></th>\n",
              "      <th></th>\n",
              "      <th></th>\n",
              "      <th></th>\n",
              "      <th></th>\n",
              "      <th></th>\n",
              "      <th></th>\n",
              "      <th></th>\n",
              "      <th></th>\n",
              "      <th></th>\n",
              "      <th></th>\n",
              "      <th></th>\n",
              "      <th></th>\n",
              "      <th></th>\n",
              "      <th></th>\n",
              "      <th></th>\n",
              "      <th></th>\n",
              "      <th></th>\n",
              "      <th></th>\n",
              "      <th></th>\n",
              "      <th></th>\n",
              "      <th></th>\n",
              "      <th></th>\n",
              "      <th></th>\n",
              "      <th></th>\n",
              "      <th></th>\n",
              "      <th></th>\n",
              "    </tr>\n",
              "  </thead>\n",
              "  <tbody>\n",
              "    <tr>\n",
              "      <th>A0010606488RW7ZH6EP7</th>\n",
              "      <td>0.0</td>\n",
              "      <td>0.0</td>\n",
              "      <td>0.0</td>\n",
              "      <td>0.0</td>\n",
              "      <td>0.0</td>\n",
              "      <td>0.0</td>\n",
              "      <td>0.0</td>\n",
              "      <td>0.0</td>\n",
              "      <td>0.0</td>\n",
              "      <td>0.0</td>\n",
              "      <td>0.0</td>\n",
              "      <td>0.0</td>\n",
              "      <td>0.0</td>\n",
              "      <td>0.0</td>\n",
              "      <td>0.0</td>\n",
              "      <td>0.0</td>\n",
              "      <td>0.0</td>\n",
              "      <td>0.0</td>\n",
              "      <td>0.0</td>\n",
              "      <td>0.0</td>\n",
              "      <td>0.0</td>\n",
              "      <td>0.0</td>\n",
              "      <td>0.0</td>\n",
              "      <td>0.0</td>\n",
              "      <td>0.0</td>\n",
              "      <td>0.0</td>\n",
              "      <td>0.0</td>\n",
              "      <td>0.0</td>\n",
              "      <td>0.0</td>\n",
              "      <td>0.0</td>\n",
              "      <td>0.0</td>\n",
              "      <td>0.0</td>\n",
              "      <td>0.0</td>\n",
              "      <td>0.0</td>\n",
              "      <td>0.0</td>\n",
              "      <td>0.0</td>\n",
              "      <td>0.0</td>\n",
              "      <td>0.0</td>\n",
              "      <td>0.0</td>\n",
              "      <td>0.0</td>\n",
              "      <td>...</td>\n",
              "      <td>0.0</td>\n",
              "      <td>0.0</td>\n",
              "      <td>0.0</td>\n",
              "      <td>0.0</td>\n",
              "      <td>0.0</td>\n",
              "      <td>0.0</td>\n",
              "      <td>0.0</td>\n",
              "      <td>0.0</td>\n",
              "      <td>0.0</td>\n",
              "      <td>0.0</td>\n",
              "      <td>0.0</td>\n",
              "      <td>0.0</td>\n",
              "      <td>0.0</td>\n",
              "      <td>0.0</td>\n",
              "      <td>0.0</td>\n",
              "      <td>0.0</td>\n",
              "      <td>0.0</td>\n",
              "      <td>0.0</td>\n",
              "      <td>0.0</td>\n",
              "      <td>0.0</td>\n",
              "      <td>0.0</td>\n",
              "      <td>0.0</td>\n",
              "      <td>0.0</td>\n",
              "      <td>0.0</td>\n",
              "      <td>0.0</td>\n",
              "      <td>0.0</td>\n",
              "      <td>0.0</td>\n",
              "      <td>0.0</td>\n",
              "      <td>0.0</td>\n",
              "      <td>0.0</td>\n",
              "      <td>0.0</td>\n",
              "      <td>0.0</td>\n",
              "      <td>0.0</td>\n",
              "      <td>0.0</td>\n",
              "      <td>0.0</td>\n",
              "      <td>0.0</td>\n",
              "      <td>0.0</td>\n",
              "      <td>0.0</td>\n",
              "      <td>0.0</td>\n",
              "      <td>0.0</td>\n",
              "    </tr>\n",
              "    <tr>\n",
              "      <th>A0254933A6GXCEJ2WU0K</th>\n",
              "      <td>0.0</td>\n",
              "      <td>0.0</td>\n",
              "      <td>0.0</td>\n",
              "      <td>0.0</td>\n",
              "      <td>0.0</td>\n",
              "      <td>0.0</td>\n",
              "      <td>0.0</td>\n",
              "      <td>0.0</td>\n",
              "      <td>0.0</td>\n",
              "      <td>0.0</td>\n",
              "      <td>0.0</td>\n",
              "      <td>0.0</td>\n",
              "      <td>0.0</td>\n",
              "      <td>0.0</td>\n",
              "      <td>0.0</td>\n",
              "      <td>0.0</td>\n",
              "      <td>0.0</td>\n",
              "      <td>0.0</td>\n",
              "      <td>0.0</td>\n",
              "      <td>0.0</td>\n",
              "      <td>0.0</td>\n",
              "      <td>0.0</td>\n",
              "      <td>0.0</td>\n",
              "      <td>0.0</td>\n",
              "      <td>0.0</td>\n",
              "      <td>0.0</td>\n",
              "      <td>0.0</td>\n",
              "      <td>0.0</td>\n",
              "      <td>0.0</td>\n",
              "      <td>0.0</td>\n",
              "      <td>0.0</td>\n",
              "      <td>0.0</td>\n",
              "      <td>0.0</td>\n",
              "      <td>0.0</td>\n",
              "      <td>0.0</td>\n",
              "      <td>0.0</td>\n",
              "      <td>0.0</td>\n",
              "      <td>0.0</td>\n",
              "      <td>0.0</td>\n",
              "      <td>0.0</td>\n",
              "      <td>...</td>\n",
              "      <td>0.0</td>\n",
              "      <td>0.0</td>\n",
              "      <td>0.0</td>\n",
              "      <td>0.0</td>\n",
              "      <td>0.0</td>\n",
              "      <td>0.0</td>\n",
              "      <td>0.0</td>\n",
              "      <td>0.0</td>\n",
              "      <td>0.0</td>\n",
              "      <td>0.0</td>\n",
              "      <td>0.0</td>\n",
              "      <td>0.0</td>\n",
              "      <td>0.0</td>\n",
              "      <td>0.0</td>\n",
              "      <td>0.0</td>\n",
              "      <td>0.0</td>\n",
              "      <td>0.0</td>\n",
              "      <td>0.0</td>\n",
              "      <td>0.0</td>\n",
              "      <td>0.0</td>\n",
              "      <td>0.0</td>\n",
              "      <td>0.0</td>\n",
              "      <td>0.0</td>\n",
              "      <td>0.0</td>\n",
              "      <td>0.0</td>\n",
              "      <td>0.0</td>\n",
              "      <td>0.0</td>\n",
              "      <td>0.0</td>\n",
              "      <td>0.0</td>\n",
              "      <td>0.0</td>\n",
              "      <td>0.0</td>\n",
              "      <td>0.0</td>\n",
              "      <td>0.0</td>\n",
              "      <td>0.0</td>\n",
              "      <td>0.0</td>\n",
              "      <td>0.0</td>\n",
              "      <td>0.0</td>\n",
              "      <td>0.0</td>\n",
              "      <td>0.0</td>\n",
              "      <td>0.0</td>\n",
              "    </tr>\n",
              "    <tr>\n",
              "      <th>A02624829WK3PDCDC0XY</th>\n",
              "      <td>0.0</td>\n",
              "      <td>0.0</td>\n",
              "      <td>0.0</td>\n",
              "      <td>0.0</td>\n",
              "      <td>0.0</td>\n",
              "      <td>0.0</td>\n",
              "      <td>0.0</td>\n",
              "      <td>0.0</td>\n",
              "      <td>0.0</td>\n",
              "      <td>0.0</td>\n",
              "      <td>0.0</td>\n",
              "      <td>0.0</td>\n",
              "      <td>0.0</td>\n",
              "      <td>0.0</td>\n",
              "      <td>0.0</td>\n",
              "      <td>0.0</td>\n",
              "      <td>0.0</td>\n",
              "      <td>0.0</td>\n",
              "      <td>0.0</td>\n",
              "      <td>0.0</td>\n",
              "      <td>0.0</td>\n",
              "      <td>0.0</td>\n",
              "      <td>0.0</td>\n",
              "      <td>0.0</td>\n",
              "      <td>0.0</td>\n",
              "      <td>0.0</td>\n",
              "      <td>0.0</td>\n",
              "      <td>0.0</td>\n",
              "      <td>0.0</td>\n",
              "      <td>0.0</td>\n",
              "      <td>0.0</td>\n",
              "      <td>0.0</td>\n",
              "      <td>0.0</td>\n",
              "      <td>0.0</td>\n",
              "      <td>0.0</td>\n",
              "      <td>0.0</td>\n",
              "      <td>0.0</td>\n",
              "      <td>0.0</td>\n",
              "      <td>0.0</td>\n",
              "      <td>0.0</td>\n",
              "      <td>...</td>\n",
              "      <td>0.0</td>\n",
              "      <td>0.0</td>\n",
              "      <td>0.0</td>\n",
              "      <td>0.0</td>\n",
              "      <td>0.0</td>\n",
              "      <td>0.0</td>\n",
              "      <td>0.0</td>\n",
              "      <td>0.0</td>\n",
              "      <td>0.0</td>\n",
              "      <td>0.0</td>\n",
              "      <td>0.0</td>\n",
              "      <td>0.0</td>\n",
              "      <td>0.0</td>\n",
              "      <td>0.0</td>\n",
              "      <td>0.0</td>\n",
              "      <td>0.0</td>\n",
              "      <td>0.0</td>\n",
              "      <td>0.0</td>\n",
              "      <td>0.0</td>\n",
              "      <td>0.0</td>\n",
              "      <td>0.0</td>\n",
              "      <td>0.0</td>\n",
              "      <td>0.0</td>\n",
              "      <td>0.0</td>\n",
              "      <td>0.0</td>\n",
              "      <td>0.0</td>\n",
              "      <td>0.0</td>\n",
              "      <td>0.0</td>\n",
              "      <td>0.0</td>\n",
              "      <td>0.0</td>\n",
              "      <td>0.0</td>\n",
              "      <td>0.0</td>\n",
              "      <td>0.0</td>\n",
              "      <td>0.0</td>\n",
              "      <td>0.0</td>\n",
              "      <td>0.0</td>\n",
              "      <td>0.0</td>\n",
              "      <td>0.0</td>\n",
              "      <td>0.0</td>\n",
              "      <td>0.0</td>\n",
              "    </tr>\n",
              "    <tr>\n",
              "      <th>A0315527BAKOZY6T8TX2</th>\n",
              "      <td>0.0</td>\n",
              "      <td>0.0</td>\n",
              "      <td>0.0</td>\n",
              "      <td>0.0</td>\n",
              "      <td>0.0</td>\n",
              "      <td>0.0</td>\n",
              "      <td>0.0</td>\n",
              "      <td>0.0</td>\n",
              "      <td>0.0</td>\n",
              "      <td>0.0</td>\n",
              "      <td>0.0</td>\n",
              "      <td>0.0</td>\n",
              "      <td>0.0</td>\n",
              "      <td>0.0</td>\n",
              "      <td>0.0</td>\n",
              "      <td>0.0</td>\n",
              "      <td>0.0</td>\n",
              "      <td>0.0</td>\n",
              "      <td>0.0</td>\n",
              "      <td>0.0</td>\n",
              "      <td>0.0</td>\n",
              "      <td>0.0</td>\n",
              "      <td>0.0</td>\n",
              "      <td>0.0</td>\n",
              "      <td>0.0</td>\n",
              "      <td>0.0</td>\n",
              "      <td>0.0</td>\n",
              "      <td>0.0</td>\n",
              "      <td>0.0</td>\n",
              "      <td>0.0</td>\n",
              "      <td>0.0</td>\n",
              "      <td>0.0</td>\n",
              "      <td>0.0</td>\n",
              "      <td>0.0</td>\n",
              "      <td>0.0</td>\n",
              "      <td>0.0</td>\n",
              "      <td>0.0</td>\n",
              "      <td>0.0</td>\n",
              "      <td>0.0</td>\n",
              "      <td>0.0</td>\n",
              "      <td>...</td>\n",
              "      <td>0.0</td>\n",
              "      <td>0.0</td>\n",
              "      <td>0.0</td>\n",
              "      <td>0.0</td>\n",
              "      <td>0.0</td>\n",
              "      <td>0.0</td>\n",
              "      <td>0.0</td>\n",
              "      <td>0.0</td>\n",
              "      <td>0.0</td>\n",
              "      <td>0.0</td>\n",
              "      <td>0.0</td>\n",
              "      <td>0.0</td>\n",
              "      <td>0.0</td>\n",
              "      <td>0.0</td>\n",
              "      <td>0.0</td>\n",
              "      <td>0.0</td>\n",
              "      <td>0.0</td>\n",
              "      <td>0.0</td>\n",
              "      <td>0.0</td>\n",
              "      <td>0.0</td>\n",
              "      <td>0.0</td>\n",
              "      <td>0.0</td>\n",
              "      <td>0.0</td>\n",
              "      <td>0.0</td>\n",
              "      <td>0.0</td>\n",
              "      <td>0.0</td>\n",
              "      <td>0.0</td>\n",
              "      <td>0.0</td>\n",
              "      <td>0.0</td>\n",
              "      <td>0.0</td>\n",
              "      <td>0.0</td>\n",
              "      <td>0.0</td>\n",
              "      <td>0.0</td>\n",
              "      <td>0.0</td>\n",
              "      <td>0.0</td>\n",
              "      <td>0.0</td>\n",
              "      <td>0.0</td>\n",
              "      <td>0.0</td>\n",
              "      <td>0.0</td>\n",
              "      <td>0.0</td>\n",
              "    </tr>\n",
              "    <tr>\n",
              "      <th>A06191098432NALLJUET</th>\n",
              "      <td>0.0</td>\n",
              "      <td>0.0</td>\n",
              "      <td>0.0</td>\n",
              "      <td>0.0</td>\n",
              "      <td>0.0</td>\n",
              "      <td>0.0</td>\n",
              "      <td>0.0</td>\n",
              "      <td>0.0</td>\n",
              "      <td>0.0</td>\n",
              "      <td>0.0</td>\n",
              "      <td>0.0</td>\n",
              "      <td>0.0</td>\n",
              "      <td>0.0</td>\n",
              "      <td>0.0</td>\n",
              "      <td>0.0</td>\n",
              "      <td>0.0</td>\n",
              "      <td>0.0</td>\n",
              "      <td>0.0</td>\n",
              "      <td>0.0</td>\n",
              "      <td>0.0</td>\n",
              "      <td>0.0</td>\n",
              "      <td>0.0</td>\n",
              "      <td>0.0</td>\n",
              "      <td>0.0</td>\n",
              "      <td>0.0</td>\n",
              "      <td>0.0</td>\n",
              "      <td>0.0</td>\n",
              "      <td>0.0</td>\n",
              "      <td>0.0</td>\n",
              "      <td>0.0</td>\n",
              "      <td>0.0</td>\n",
              "      <td>0.0</td>\n",
              "      <td>0.0</td>\n",
              "      <td>0.0</td>\n",
              "      <td>0.0</td>\n",
              "      <td>0.0</td>\n",
              "      <td>0.0</td>\n",
              "      <td>0.0</td>\n",
              "      <td>0.0</td>\n",
              "      <td>0.0</td>\n",
              "      <td>...</td>\n",
              "      <td>0.0</td>\n",
              "      <td>0.0</td>\n",
              "      <td>0.0</td>\n",
              "      <td>0.0</td>\n",
              "      <td>0.0</td>\n",
              "      <td>0.0</td>\n",
              "      <td>0.0</td>\n",
              "      <td>0.0</td>\n",
              "      <td>0.0</td>\n",
              "      <td>0.0</td>\n",
              "      <td>0.0</td>\n",
              "      <td>0.0</td>\n",
              "      <td>0.0</td>\n",
              "      <td>0.0</td>\n",
              "      <td>0.0</td>\n",
              "      <td>0.0</td>\n",
              "      <td>0.0</td>\n",
              "      <td>0.0</td>\n",
              "      <td>0.0</td>\n",
              "      <td>0.0</td>\n",
              "      <td>0.0</td>\n",
              "      <td>0.0</td>\n",
              "      <td>0.0</td>\n",
              "      <td>0.0</td>\n",
              "      <td>0.0</td>\n",
              "      <td>0.0</td>\n",
              "      <td>0.0</td>\n",
              "      <td>0.0</td>\n",
              "      <td>0.0</td>\n",
              "      <td>0.0</td>\n",
              "      <td>0.0</td>\n",
              "      <td>0.0</td>\n",
              "      <td>0.0</td>\n",
              "      <td>0.0</td>\n",
              "      <td>0.0</td>\n",
              "      <td>0.0</td>\n",
              "      <td>0.0</td>\n",
              "      <td>0.0</td>\n",
              "      <td>0.0</td>\n",
              "      <td>0.0</td>\n",
              "    </tr>\n",
              "  </tbody>\n",
              "</table>\n",
              "<p>5 rows × 1662 columns</p>\n",
              "</div>"
            ],
            "text/plain": [
              "item_id               B00008JVTT  B00066G516  ...  B01HIVIU82  B01HJGJ9LS\n",
              "user_id                                       ...                        \n",
              "A0010606488RW7ZH6EP7         0.0         0.0  ...         0.0         0.0\n",
              "A0254933A6GXCEJ2WU0K         0.0         0.0  ...         0.0         0.0\n",
              "A02624829WK3PDCDC0XY         0.0         0.0  ...         0.0         0.0\n",
              "A0315527BAKOZY6T8TX2         0.0         0.0  ...         0.0         0.0\n",
              "A06191098432NALLJUET         0.0         0.0  ...         0.0         0.0\n",
              "\n",
              "[5 rows x 1662 columns]"
            ]
          },
          "metadata": {
            "tags": []
          },
          "execution_count": 42
        }
      ]
    },
    {
      "cell_type": "markdown",
      "metadata": {
        "id": "nSqezgxzWFFg"
      },
      "source": [
        "이제 아래와 같이 데이터를 조금 변경해서 진행하겠습니다.\n",
        "\n",
        "1. pivot table을 matrix로 변환\n",
        "2. np.mean(axis = 1)을 통해 각 사용자들이 매기는 평점 평균을 구함\n",
        "3. 1에서 구한 값과 2에서 구한 값을 빼서 사용자-평균 데이터 값을 변경"
      ]
    },
    {
      "cell_type": "code",
      "metadata": {
        "id": "LE-dpXfQWCuw"
      },
      "source": [
        "# matrix는 pivot_table 값을 numpy matrix로 만든 것 \n",
        "matrix = df_user_fashion_ratings.values\n",
        "\n",
        "# user_ratings_mean은 사용자의 평균 평점\n",
        "user_ratings_mean = np.mean(matrix, axis=1)\n",
        "\n",
        "# R_user_mean : 사용자-아이템에 대해 사용자 평균 평점을 뺀 것\n",
        "matrix_user_mean = matrix - user_ratings_mean.reshape(-1, 1)"
      ],
      "execution_count": null,
      "outputs": []
    },
    {
      "cell_type": "code",
      "metadata": {
        "colab": {
          "base_uri": "https://localhost:8080/"
        },
        "id": "XPej5B3qXKLO",
        "outputId": "117525f1-94ea-48d5-966c-d615df86393d"
      },
      "source": [
        "matrix"
      ],
      "execution_count": null,
      "outputs": [
        {
          "output_type": "execute_result",
          "data": {
            "text/plain": [
              "array([[0., 0., 0., ..., 0., 0., 0.],\n",
              "       [0., 0., 0., ..., 0., 0., 0.],\n",
              "       [0., 0., 0., ..., 0., 0., 0.],\n",
              "       ...,\n",
              "       [0., 0., 0., ..., 0., 0., 0.],\n",
              "       [0., 0., 0., ..., 0., 0., 0.],\n",
              "       [0., 0., 0., ..., 0., 0., 0.]])"
            ]
          },
          "metadata": {
            "tags": []
          },
          "execution_count": 44
        }
      ]
    },
    {
      "cell_type": "code",
      "metadata": {
        "colab": {
          "base_uri": "https://localhost:8080/"
        },
        "id": "5Z4EiH2qXLXf",
        "outputId": "af1e94b4-a713-4a53-c95e-f6ad09ff37ca"
      },
      "source": [
        "matrix.shape"
      ],
      "execution_count": null,
      "outputs": [
        {
          "output_type": "execute_result",
          "data": {
            "text/plain": [
              "(45330, 1662)"
            ]
          },
          "metadata": {
            "tags": []
          },
          "execution_count": 45
        }
      ]
    },
    {
      "cell_type": "code",
      "metadata": {
        "colab": {
          "base_uri": "https://localhost:8080/"
        },
        "id": "w8Omn_XYXMpE",
        "outputId": "515f007f-ad0d-4d75-b618-a93d7f520182"
      },
      "source": [
        "user_ratings_mean.shape"
      ],
      "execution_count": null,
      "outputs": [
        {
          "output_type": "execute_result",
          "data": {
            "text/plain": [
              "(45330,)"
            ]
          },
          "metadata": {
            "tags": []
          },
          "execution_count": 46
        }
      ]
    },
    {
      "cell_type": "code",
      "metadata": {
        "colab": {
          "base_uri": "https://localhost:8080/"
        },
        "id": "8rz8XRUmXOfY",
        "outputId": "ec6da1b1-5fe7-45c1-99cf-e4415881e715"
      },
      "source": [
        "matrix_user_mean.shape"
      ],
      "execution_count": null,
      "outputs": [
        {
          "output_type": "execute_result",
          "data": {
            "text/plain": [
              "(45330, 1662)"
            ]
          },
          "metadata": {
            "tags": []
          },
          "execution_count": 47
        }
      ]
    },
    {
      "cell_type": "code",
      "metadata": {
        "colab": {
          "base_uri": "https://localhost:8080/",
          "height": 253
        },
        "id": "KQutpxmqXQV1",
        "outputId": "07fabf54-be91-4059-d961-c3344ba35fea"
      },
      "source": [
        "pd.DataFrame(matrix_user_mean, columns=df_user_fashion_ratings.columns).head()"
      ],
      "execution_count": null,
      "outputs": [
        {
          "output_type": "execute_result",
          "data": {
            "text/html": [
              "<div>\n",
              "<style scoped>\n",
              "    .dataframe tbody tr th:only-of-type {\n",
              "        vertical-align: middle;\n",
              "    }\n",
              "\n",
              "    .dataframe tbody tr th {\n",
              "        vertical-align: top;\n",
              "    }\n",
              "\n",
              "    .dataframe thead th {\n",
              "        text-align: right;\n",
              "    }\n",
              "</style>\n",
              "<table border=\"1\" class=\"dataframe\">\n",
              "  <thead>\n",
              "    <tr style=\"text-align: right;\">\n",
              "      <th>item_id</th>\n",
              "      <th>B00008JVTT</th>\n",
              "      <th>B00066G516</th>\n",
              "      <th>B000ER9V68</th>\n",
              "      <th>B000GHMRLW</th>\n",
              "      <th>B000GHRZN2</th>\n",
              "      <th>B000HQ4P9O</th>\n",
              "      <th>B000JOOR7O</th>\n",
              "      <th>B000KPIHQ4</th>\n",
              "      <th>B000NGJ41W</th>\n",
              "      <th>B000PHANNM</th>\n",
              "      <th>B000PMNS3E</th>\n",
              "      <th>B000PMPTF4</th>\n",
              "      <th>B000PMPTGI</th>\n",
              "      <th>B000POJKMU</th>\n",
              "      <th>B000POL05U</th>\n",
              "      <th>B000PQJQUY</th>\n",
              "      <th>B000V0IBDM</th>\n",
              "      <th>B000V588EO</th>\n",
              "      <th>B000VIUJLG</th>\n",
              "      <th>B000YFSR5G</th>\n",
              "      <th>B0014F57YY</th>\n",
              "      <th>B0014F8TIU</th>\n",
              "      <th>B0017U1KBK</th>\n",
              "      <th>B0018N8CHQ</th>\n",
              "      <th>B001AXC4YG</th>\n",
              "      <th>B001F8LJ92</th>\n",
              "      <th>B001G7R0CC</th>\n",
              "      <th>B001GIO77C</th>\n",
              "      <th>B001IKJOLW</th>\n",
              "      <th>B001LFP0EO</th>\n",
              "      <th>B001T4MSU6</th>\n",
              "      <th>B0027L8RSW</th>\n",
              "      <th>B002B90VTI</th>\n",
              "      <th>B002QATOV8</th>\n",
              "      <th>B002RC6FWQ</th>\n",
              "      <th>B002Z3N1HE</th>\n",
              "      <th>B003950BDY</th>\n",
              "      <th>B003BRC73C</th>\n",
              "      <th>B003ESTRW2</th>\n",
              "      <th>B003GJZDGS</th>\n",
              "      <th>...</th>\n",
              "      <th>B01GZZIWKI</th>\n",
              "      <th>B01GZZOZ8G</th>\n",
              "      <th>B01H059U4Y</th>\n",
              "      <th>B01H0C5A9Q</th>\n",
              "      <th>B01H1LQMXO</th>\n",
              "      <th>B01H1P2YTG</th>\n",
              "      <th>B01H1WHBPG</th>\n",
              "      <th>B01H3D4MZK</th>\n",
              "      <th>B01H3DCZBI</th>\n",
              "      <th>B01H3H4EB8</th>\n",
              "      <th>B01H4DGICE</th>\n",
              "      <th>B01H4P97HA</th>\n",
              "      <th>B01H5A1WUO</th>\n",
              "      <th>B01H62UHX4</th>\n",
              "      <th>B01H6FTQRY</th>\n",
              "      <th>B01H6Z43A4</th>\n",
              "      <th>B01H79VTDS</th>\n",
              "      <th>B01H7KY678</th>\n",
              "      <th>B01H7N6240</th>\n",
              "      <th>B01H7RIHEO</th>\n",
              "      <th>B01HBI0KW6</th>\n",
              "      <th>B01HBJW7DU</th>\n",
              "      <th>B01HBLV3K6</th>\n",
              "      <th>B01HC7ZP1M</th>\n",
              "      <th>B01HCHY6AI</th>\n",
              "      <th>B01HCJMCU2</th>\n",
              "      <th>B01HCVAP5O</th>\n",
              "      <th>B01HCWVWF0</th>\n",
              "      <th>B01HD1C7PY</th>\n",
              "      <th>B01HE9KXKQ</th>\n",
              "      <th>B01HEGKFKM</th>\n",
              "      <th>B01HEISONU</th>\n",
              "      <th>B01HFKK1AG</th>\n",
              "      <th>B01HFKZ57K</th>\n",
              "      <th>B01HFZM5RS</th>\n",
              "      <th>B01HH5SFNO</th>\n",
              "      <th>B01HHUQEY6</th>\n",
              "      <th>B01HIA2Y80</th>\n",
              "      <th>B01HIVIU82</th>\n",
              "      <th>B01HJGJ9LS</th>\n",
              "    </tr>\n",
              "  </thead>\n",
              "  <tbody>\n",
              "    <tr>\n",
              "      <th>0</th>\n",
              "      <td>-0.000602</td>\n",
              "      <td>-0.000602</td>\n",
              "      <td>-0.000602</td>\n",
              "      <td>-0.000602</td>\n",
              "      <td>-0.000602</td>\n",
              "      <td>-0.000602</td>\n",
              "      <td>-0.000602</td>\n",
              "      <td>-0.000602</td>\n",
              "      <td>-0.000602</td>\n",
              "      <td>-0.000602</td>\n",
              "      <td>-0.000602</td>\n",
              "      <td>-0.000602</td>\n",
              "      <td>-0.000602</td>\n",
              "      <td>-0.000602</td>\n",
              "      <td>-0.000602</td>\n",
              "      <td>-0.000602</td>\n",
              "      <td>-0.000602</td>\n",
              "      <td>-0.000602</td>\n",
              "      <td>-0.000602</td>\n",
              "      <td>-0.000602</td>\n",
              "      <td>-0.000602</td>\n",
              "      <td>-0.000602</td>\n",
              "      <td>-0.000602</td>\n",
              "      <td>-0.000602</td>\n",
              "      <td>-0.000602</td>\n",
              "      <td>-0.000602</td>\n",
              "      <td>-0.000602</td>\n",
              "      <td>-0.000602</td>\n",
              "      <td>-0.000602</td>\n",
              "      <td>-0.000602</td>\n",
              "      <td>-0.000602</td>\n",
              "      <td>-0.000602</td>\n",
              "      <td>-0.000602</td>\n",
              "      <td>-0.000602</td>\n",
              "      <td>-0.000602</td>\n",
              "      <td>-0.000602</td>\n",
              "      <td>-0.000602</td>\n",
              "      <td>-0.000602</td>\n",
              "      <td>-0.000602</td>\n",
              "      <td>-0.000602</td>\n",
              "      <td>...</td>\n",
              "      <td>-0.000602</td>\n",
              "      <td>-0.000602</td>\n",
              "      <td>-0.000602</td>\n",
              "      <td>-0.000602</td>\n",
              "      <td>-0.000602</td>\n",
              "      <td>-0.000602</td>\n",
              "      <td>-0.000602</td>\n",
              "      <td>-0.000602</td>\n",
              "      <td>-0.000602</td>\n",
              "      <td>-0.000602</td>\n",
              "      <td>-0.000602</td>\n",
              "      <td>-0.000602</td>\n",
              "      <td>-0.000602</td>\n",
              "      <td>-0.000602</td>\n",
              "      <td>-0.000602</td>\n",
              "      <td>-0.000602</td>\n",
              "      <td>-0.000602</td>\n",
              "      <td>-0.000602</td>\n",
              "      <td>-0.000602</td>\n",
              "      <td>-0.000602</td>\n",
              "      <td>-0.000602</td>\n",
              "      <td>-0.000602</td>\n",
              "      <td>-0.000602</td>\n",
              "      <td>-0.000602</td>\n",
              "      <td>-0.000602</td>\n",
              "      <td>-0.000602</td>\n",
              "      <td>-0.000602</td>\n",
              "      <td>-0.000602</td>\n",
              "      <td>-0.000602</td>\n",
              "      <td>-0.000602</td>\n",
              "      <td>-0.000602</td>\n",
              "      <td>-0.000602</td>\n",
              "      <td>-0.000602</td>\n",
              "      <td>-0.000602</td>\n",
              "      <td>-0.000602</td>\n",
              "      <td>-0.000602</td>\n",
              "      <td>-0.000602</td>\n",
              "      <td>-0.000602</td>\n",
              "      <td>-0.000602</td>\n",
              "      <td>-0.000602</td>\n",
              "    </tr>\n",
              "    <tr>\n",
              "      <th>1</th>\n",
              "      <td>-0.003008</td>\n",
              "      <td>-0.003008</td>\n",
              "      <td>-0.003008</td>\n",
              "      <td>-0.003008</td>\n",
              "      <td>-0.003008</td>\n",
              "      <td>-0.003008</td>\n",
              "      <td>-0.003008</td>\n",
              "      <td>-0.003008</td>\n",
              "      <td>-0.003008</td>\n",
              "      <td>-0.003008</td>\n",
              "      <td>-0.003008</td>\n",
              "      <td>-0.003008</td>\n",
              "      <td>-0.003008</td>\n",
              "      <td>-0.003008</td>\n",
              "      <td>-0.003008</td>\n",
              "      <td>-0.003008</td>\n",
              "      <td>-0.003008</td>\n",
              "      <td>-0.003008</td>\n",
              "      <td>-0.003008</td>\n",
              "      <td>-0.003008</td>\n",
              "      <td>-0.003008</td>\n",
              "      <td>-0.003008</td>\n",
              "      <td>-0.003008</td>\n",
              "      <td>-0.003008</td>\n",
              "      <td>-0.003008</td>\n",
              "      <td>-0.003008</td>\n",
              "      <td>-0.003008</td>\n",
              "      <td>-0.003008</td>\n",
              "      <td>-0.003008</td>\n",
              "      <td>-0.003008</td>\n",
              "      <td>-0.003008</td>\n",
              "      <td>-0.003008</td>\n",
              "      <td>-0.003008</td>\n",
              "      <td>-0.003008</td>\n",
              "      <td>-0.003008</td>\n",
              "      <td>-0.003008</td>\n",
              "      <td>-0.003008</td>\n",
              "      <td>-0.003008</td>\n",
              "      <td>-0.003008</td>\n",
              "      <td>-0.003008</td>\n",
              "      <td>...</td>\n",
              "      <td>-0.003008</td>\n",
              "      <td>-0.003008</td>\n",
              "      <td>-0.003008</td>\n",
              "      <td>-0.003008</td>\n",
              "      <td>-0.003008</td>\n",
              "      <td>-0.003008</td>\n",
              "      <td>-0.003008</td>\n",
              "      <td>-0.003008</td>\n",
              "      <td>-0.003008</td>\n",
              "      <td>-0.003008</td>\n",
              "      <td>-0.003008</td>\n",
              "      <td>-0.003008</td>\n",
              "      <td>-0.003008</td>\n",
              "      <td>-0.003008</td>\n",
              "      <td>-0.003008</td>\n",
              "      <td>-0.003008</td>\n",
              "      <td>-0.003008</td>\n",
              "      <td>-0.003008</td>\n",
              "      <td>-0.003008</td>\n",
              "      <td>-0.003008</td>\n",
              "      <td>-0.003008</td>\n",
              "      <td>-0.003008</td>\n",
              "      <td>-0.003008</td>\n",
              "      <td>-0.003008</td>\n",
              "      <td>-0.003008</td>\n",
              "      <td>-0.003008</td>\n",
              "      <td>-0.003008</td>\n",
              "      <td>-0.003008</td>\n",
              "      <td>-0.003008</td>\n",
              "      <td>-0.003008</td>\n",
              "      <td>-0.003008</td>\n",
              "      <td>-0.003008</td>\n",
              "      <td>-0.003008</td>\n",
              "      <td>-0.003008</td>\n",
              "      <td>-0.003008</td>\n",
              "      <td>-0.003008</td>\n",
              "      <td>-0.003008</td>\n",
              "      <td>-0.003008</td>\n",
              "      <td>-0.003008</td>\n",
              "      <td>-0.003008</td>\n",
              "    </tr>\n",
              "    <tr>\n",
              "      <th>2</th>\n",
              "      <td>-0.003008</td>\n",
              "      <td>-0.003008</td>\n",
              "      <td>-0.003008</td>\n",
              "      <td>-0.003008</td>\n",
              "      <td>-0.003008</td>\n",
              "      <td>-0.003008</td>\n",
              "      <td>-0.003008</td>\n",
              "      <td>-0.003008</td>\n",
              "      <td>-0.003008</td>\n",
              "      <td>-0.003008</td>\n",
              "      <td>-0.003008</td>\n",
              "      <td>-0.003008</td>\n",
              "      <td>-0.003008</td>\n",
              "      <td>-0.003008</td>\n",
              "      <td>-0.003008</td>\n",
              "      <td>-0.003008</td>\n",
              "      <td>-0.003008</td>\n",
              "      <td>-0.003008</td>\n",
              "      <td>-0.003008</td>\n",
              "      <td>-0.003008</td>\n",
              "      <td>-0.003008</td>\n",
              "      <td>-0.003008</td>\n",
              "      <td>-0.003008</td>\n",
              "      <td>-0.003008</td>\n",
              "      <td>-0.003008</td>\n",
              "      <td>-0.003008</td>\n",
              "      <td>-0.003008</td>\n",
              "      <td>-0.003008</td>\n",
              "      <td>-0.003008</td>\n",
              "      <td>-0.003008</td>\n",
              "      <td>-0.003008</td>\n",
              "      <td>-0.003008</td>\n",
              "      <td>-0.003008</td>\n",
              "      <td>-0.003008</td>\n",
              "      <td>-0.003008</td>\n",
              "      <td>-0.003008</td>\n",
              "      <td>-0.003008</td>\n",
              "      <td>-0.003008</td>\n",
              "      <td>-0.003008</td>\n",
              "      <td>-0.003008</td>\n",
              "      <td>...</td>\n",
              "      <td>-0.003008</td>\n",
              "      <td>-0.003008</td>\n",
              "      <td>-0.003008</td>\n",
              "      <td>-0.003008</td>\n",
              "      <td>-0.003008</td>\n",
              "      <td>-0.003008</td>\n",
              "      <td>-0.003008</td>\n",
              "      <td>-0.003008</td>\n",
              "      <td>-0.003008</td>\n",
              "      <td>-0.003008</td>\n",
              "      <td>-0.003008</td>\n",
              "      <td>-0.003008</td>\n",
              "      <td>-0.003008</td>\n",
              "      <td>-0.003008</td>\n",
              "      <td>-0.003008</td>\n",
              "      <td>-0.003008</td>\n",
              "      <td>-0.003008</td>\n",
              "      <td>-0.003008</td>\n",
              "      <td>-0.003008</td>\n",
              "      <td>-0.003008</td>\n",
              "      <td>-0.003008</td>\n",
              "      <td>-0.003008</td>\n",
              "      <td>-0.003008</td>\n",
              "      <td>-0.003008</td>\n",
              "      <td>-0.003008</td>\n",
              "      <td>-0.003008</td>\n",
              "      <td>-0.003008</td>\n",
              "      <td>-0.003008</td>\n",
              "      <td>-0.003008</td>\n",
              "      <td>-0.003008</td>\n",
              "      <td>-0.003008</td>\n",
              "      <td>-0.003008</td>\n",
              "      <td>-0.003008</td>\n",
              "      <td>-0.003008</td>\n",
              "      <td>-0.003008</td>\n",
              "      <td>-0.003008</td>\n",
              "      <td>-0.003008</td>\n",
              "      <td>-0.003008</td>\n",
              "      <td>-0.003008</td>\n",
              "      <td>-0.003008</td>\n",
              "    </tr>\n",
              "    <tr>\n",
              "      <th>3</th>\n",
              "      <td>-0.003008</td>\n",
              "      <td>-0.003008</td>\n",
              "      <td>-0.003008</td>\n",
              "      <td>-0.003008</td>\n",
              "      <td>-0.003008</td>\n",
              "      <td>-0.003008</td>\n",
              "      <td>-0.003008</td>\n",
              "      <td>-0.003008</td>\n",
              "      <td>-0.003008</td>\n",
              "      <td>-0.003008</td>\n",
              "      <td>-0.003008</td>\n",
              "      <td>-0.003008</td>\n",
              "      <td>-0.003008</td>\n",
              "      <td>-0.003008</td>\n",
              "      <td>-0.003008</td>\n",
              "      <td>-0.003008</td>\n",
              "      <td>-0.003008</td>\n",
              "      <td>-0.003008</td>\n",
              "      <td>-0.003008</td>\n",
              "      <td>-0.003008</td>\n",
              "      <td>-0.003008</td>\n",
              "      <td>-0.003008</td>\n",
              "      <td>-0.003008</td>\n",
              "      <td>-0.003008</td>\n",
              "      <td>-0.003008</td>\n",
              "      <td>-0.003008</td>\n",
              "      <td>-0.003008</td>\n",
              "      <td>-0.003008</td>\n",
              "      <td>-0.003008</td>\n",
              "      <td>-0.003008</td>\n",
              "      <td>-0.003008</td>\n",
              "      <td>-0.003008</td>\n",
              "      <td>-0.003008</td>\n",
              "      <td>-0.003008</td>\n",
              "      <td>-0.003008</td>\n",
              "      <td>-0.003008</td>\n",
              "      <td>-0.003008</td>\n",
              "      <td>-0.003008</td>\n",
              "      <td>-0.003008</td>\n",
              "      <td>-0.003008</td>\n",
              "      <td>...</td>\n",
              "      <td>-0.003008</td>\n",
              "      <td>-0.003008</td>\n",
              "      <td>-0.003008</td>\n",
              "      <td>-0.003008</td>\n",
              "      <td>-0.003008</td>\n",
              "      <td>-0.003008</td>\n",
              "      <td>-0.003008</td>\n",
              "      <td>-0.003008</td>\n",
              "      <td>-0.003008</td>\n",
              "      <td>-0.003008</td>\n",
              "      <td>-0.003008</td>\n",
              "      <td>-0.003008</td>\n",
              "      <td>-0.003008</td>\n",
              "      <td>-0.003008</td>\n",
              "      <td>-0.003008</td>\n",
              "      <td>-0.003008</td>\n",
              "      <td>-0.003008</td>\n",
              "      <td>-0.003008</td>\n",
              "      <td>-0.003008</td>\n",
              "      <td>-0.003008</td>\n",
              "      <td>-0.003008</td>\n",
              "      <td>-0.003008</td>\n",
              "      <td>-0.003008</td>\n",
              "      <td>-0.003008</td>\n",
              "      <td>-0.003008</td>\n",
              "      <td>-0.003008</td>\n",
              "      <td>-0.003008</td>\n",
              "      <td>-0.003008</td>\n",
              "      <td>-0.003008</td>\n",
              "      <td>-0.003008</td>\n",
              "      <td>-0.003008</td>\n",
              "      <td>-0.003008</td>\n",
              "      <td>-0.003008</td>\n",
              "      <td>-0.003008</td>\n",
              "      <td>-0.003008</td>\n",
              "      <td>-0.003008</td>\n",
              "      <td>-0.003008</td>\n",
              "      <td>-0.003008</td>\n",
              "      <td>-0.003008</td>\n",
              "      <td>-0.003008</td>\n",
              "    </tr>\n",
              "    <tr>\n",
              "      <th>4</th>\n",
              "      <td>-0.000602</td>\n",
              "      <td>-0.000602</td>\n",
              "      <td>-0.000602</td>\n",
              "      <td>-0.000602</td>\n",
              "      <td>-0.000602</td>\n",
              "      <td>-0.000602</td>\n",
              "      <td>-0.000602</td>\n",
              "      <td>-0.000602</td>\n",
              "      <td>-0.000602</td>\n",
              "      <td>-0.000602</td>\n",
              "      <td>-0.000602</td>\n",
              "      <td>-0.000602</td>\n",
              "      <td>-0.000602</td>\n",
              "      <td>-0.000602</td>\n",
              "      <td>-0.000602</td>\n",
              "      <td>-0.000602</td>\n",
              "      <td>-0.000602</td>\n",
              "      <td>-0.000602</td>\n",
              "      <td>-0.000602</td>\n",
              "      <td>-0.000602</td>\n",
              "      <td>-0.000602</td>\n",
              "      <td>-0.000602</td>\n",
              "      <td>-0.000602</td>\n",
              "      <td>-0.000602</td>\n",
              "      <td>-0.000602</td>\n",
              "      <td>-0.000602</td>\n",
              "      <td>-0.000602</td>\n",
              "      <td>-0.000602</td>\n",
              "      <td>-0.000602</td>\n",
              "      <td>-0.000602</td>\n",
              "      <td>-0.000602</td>\n",
              "      <td>-0.000602</td>\n",
              "      <td>-0.000602</td>\n",
              "      <td>-0.000602</td>\n",
              "      <td>-0.000602</td>\n",
              "      <td>-0.000602</td>\n",
              "      <td>-0.000602</td>\n",
              "      <td>-0.000602</td>\n",
              "      <td>-0.000602</td>\n",
              "      <td>-0.000602</td>\n",
              "      <td>...</td>\n",
              "      <td>-0.000602</td>\n",
              "      <td>-0.000602</td>\n",
              "      <td>-0.000602</td>\n",
              "      <td>-0.000602</td>\n",
              "      <td>-0.000602</td>\n",
              "      <td>-0.000602</td>\n",
              "      <td>-0.000602</td>\n",
              "      <td>-0.000602</td>\n",
              "      <td>-0.000602</td>\n",
              "      <td>-0.000602</td>\n",
              "      <td>-0.000602</td>\n",
              "      <td>-0.000602</td>\n",
              "      <td>-0.000602</td>\n",
              "      <td>-0.000602</td>\n",
              "      <td>-0.000602</td>\n",
              "      <td>-0.000602</td>\n",
              "      <td>-0.000602</td>\n",
              "      <td>-0.000602</td>\n",
              "      <td>-0.000602</td>\n",
              "      <td>-0.000602</td>\n",
              "      <td>-0.000602</td>\n",
              "      <td>-0.000602</td>\n",
              "      <td>-0.000602</td>\n",
              "      <td>-0.000602</td>\n",
              "      <td>-0.000602</td>\n",
              "      <td>-0.000602</td>\n",
              "      <td>-0.000602</td>\n",
              "      <td>-0.000602</td>\n",
              "      <td>-0.000602</td>\n",
              "      <td>-0.000602</td>\n",
              "      <td>-0.000602</td>\n",
              "      <td>-0.000602</td>\n",
              "      <td>-0.000602</td>\n",
              "      <td>-0.000602</td>\n",
              "      <td>-0.000602</td>\n",
              "      <td>-0.000602</td>\n",
              "      <td>-0.000602</td>\n",
              "      <td>-0.000602</td>\n",
              "      <td>-0.000602</td>\n",
              "      <td>-0.000602</td>\n",
              "    </tr>\n",
              "  </tbody>\n",
              "</table>\n",
              "<p>5 rows × 1662 columns</p>\n",
              "</div>"
            ],
            "text/plain": [
              "item_id  B00008JVTT  B00066G516  B000ER9V68  ...  B01HIA2Y80  B01HIVIU82  B01HJGJ9LS\n",
              "0         -0.000602   -0.000602   -0.000602  ...   -0.000602   -0.000602   -0.000602\n",
              "1         -0.003008   -0.003008   -0.003008  ...   -0.003008   -0.003008   -0.003008\n",
              "2         -0.003008   -0.003008   -0.003008  ...   -0.003008   -0.003008   -0.003008\n",
              "3         -0.003008   -0.003008   -0.003008  ...   -0.003008   -0.003008   -0.003008\n",
              "4         -0.000602   -0.000602   -0.000602  ...   -0.000602   -0.000602   -0.000602\n",
              "\n",
              "[5 rows x 1662 columns]"
            ]
          },
          "metadata": {
            "tags": []
          },
          "execution_count": 48
        }
      ]
    },
    {
      "cell_type": "markdown",
      "metadata": {
        "id": "hAnfilSYXfXD"
      },
      "source": [
        "\n",
        "\n",
        "1.   사용자 45330명이 1662개의 제품에 대해 평점\n",
        "2.   사용자 45330명의 각각 평균 평점\n",
        "3.   사용자 45330명의 1662개의 제품에 대해 평점을 조금 변경 (1번 값 - 2번값)\n",
        "\n"
      ]
    },
    {
      "cell_type": "markdown",
      "metadata": {
        "id": "-aCzNk3HYMJU"
      },
      "source": [
        ""
      ]
    },
    {
      "cell_type": "markdown",
      "metadata": {
        "id": "EBFabocjPdus"
      },
      "source": [
        "### SVD(Singular Value decomposion), 특이값 분해\n",
        "\n",
        "![image.png](data:image/png;base64,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)\n",
        "\n",
        "이제 SVD를 이용해 Matrix Factorization을 진행해봅니다.\n",
        "\n",
        "앞서서는 scikit learn을 이용해 TruncatedSVD를 이용했는데요. 이번에는 scipy를 이용해 Truncated SVD를 구해봅니다.\n",
        "\n",
        "이 둘의 차이점은 scikit learn에서 제공해주는 TruncatedSVD는 U, Sigma, Vt 반환 값을 제공하지 않습니다.\n",
        "하지만, Scipy를 이용하면 이 반환값들을 제공받을 수 있죠.\n",
        "\n",
        "Scipy에서 제공해주는 Truncate SVD는 scipy.sparse.linalg.svds를 이용하면 됩니다. 저는 이것을 이용했습니다.\n",
        "\n",
        "이렇게 사용하면 반환값이 U 행렬, Sigma 행렬, V 전치 행렬(Vt)가 나오게 됩니다"
      ]
    },
    {
      "cell_type": "code",
      "metadata": {
        "id": "Tn3uwmiYYdN3"
      },
      "source": [
        "# scipy에서 제공해주는 svd.  \n",
        "# U 행렬, sigma 행렬, V 전치 행렬을 반환.\n",
        "U, sigma, Vt = svds(matrix_user_mean, k = 12)"
      ],
      "execution_count": null,
      "outputs": []
    },
    {
      "cell_type": "code",
      "metadata": {
        "colab": {
          "base_uri": "https://localhost:8080/"
        },
        "id": "_7DS_dYYYoNR",
        "outputId": "9ea2b451-568f-45d2-9135-eb0b3c661849"
      },
      "source": [
        "print(U.shape)\n",
        "print(sigma.shape)\n",
        "print(Vt.shape)"
      ],
      "execution_count": null,
      "outputs": [
        {
          "output_type": "stream",
          "text": [
            "(45330, 12)\n",
            "(12,)\n",
            "(12, 1662)\n"
          ],
          "name": "stdout"
        }
      ]
    },
    {
      "cell_type": "markdown",
      "metadata": {
        "id": "qaBHhAaZYygo"
      },
      "source": [
        "이 Sigma 행렬은 0이 아닌 값만 1차원 행렬로 표현된 상태입니다.\n",
        "즉, 0이 포함된 대칭행렬로 변환할 때는 numpy의 diag를 이용해야 합니다."
      ]
    },
    {
      "cell_type": "code",
      "metadata": {
        "id": "W0fhJzdgMMIn"
      },
      "source": [
        "sigma = np.diag(sigma)"
      ],
      "execution_count": null,
      "outputs": []
    },
    {
      "cell_type": "code",
      "metadata": {
        "colab": {
          "base_uri": "https://localhost:8080/"
        },
        "id": "iY0X8Q9tY1ds",
        "outputId": "796dc8ff-7f50-4aa8-8a07-bf238378e316"
      },
      "source": [
        "sigma.shape"
      ],
      "execution_count": null,
      "outputs": [
        {
          "output_type": "execute_result",
          "data": {
            "text/plain": [
              "(12, 12)"
            ]
          },
          "metadata": {
            "tags": []
          },
          "execution_count": 52
        }
      ]
    },
    {
      "cell_type": "code",
      "metadata": {
        "colab": {
          "base_uri": "https://localhost:8080/"
        },
        "id": "8jY8M0oFY2pA",
        "outputId": "962160d2-24ac-4928-bea7-f8c9c0dfba3a"
      },
      "source": [
        "sigma[0]"
      ],
      "execution_count": null,
      "outputs": [
        {
          "output_type": "execute_result",
          "data": {
            "text/plain": [
              "array([107.95696287,   0.        ,   0.        ,   0.        ,\n",
              "         0.        ,   0.        ,   0.        ,   0.        ,\n",
              "         0.        ,   0.        ,   0.        ,   0.        ])"
            ]
          },
          "metadata": {
            "tags": []
          },
          "execution_count": 53
        }
      ]
    },
    {
      "cell_type": "code",
      "metadata": {
        "colab": {
          "base_uri": "https://localhost:8080/"
        },
        "id": "xiwIErlxY3_x",
        "outputId": "258773e3-2ee8-4657-f730-1983f713d8b3"
      },
      "source": [
        "sigma[1]"
      ],
      "execution_count": null,
      "outputs": [
        {
          "output_type": "execute_result",
          "data": {
            "text/plain": [
              "array([  0.        , 112.33298579,   0.        ,   0.        ,\n",
              "         0.        ,   0.        ,   0.        ,   0.        ,\n",
              "         0.        ,   0.        ,   0.        ,   0.        ])"
            ]
          },
          "metadata": {
            "tags": []
          },
          "execution_count": 54
        }
      ]
    },
    {
      "cell_type": "markdown",
      "metadata": {
        "id": "0aEUxUKGY7X2"
      },
      "source": [
        "이렇게 대칭 행렬로 변환이 되었습니다.\n",
        "\n",
        "현재 까지 상황을 정리하면 아래와 같습니다.\n",
        "1. 원본 user-item 평점 행렬\n",
        "2. 이를 user의 평균 점수를 빼서 matrix_user_mean 이라는 행렬로 만듬\n",
        "3. 2번의 값을 SVD 적용해 U, Sigma, Vt 행렬을 구함\n",
        "4. Sigma 행렬은 현재 0이 포함이 되지 않은 값으로만 구성되어 있음 이를 대칭행렬로 변환\n",
        "\n",
        "matrix_user_mean을 SVD를 적용해 분해를 한 상태입니다.\n",
        "이제, 다시 원본 행렬로 복구\n",
        "- U, Sigma, Vt의 내적을 수행"
      ]
    },
    {
      "cell_type": "code",
      "metadata": {
        "id": "9wp6V8rWZhOY"
      },
      "source": [
        "svd_user_predicted_ratings = np.dot(np.dot(U, sigma), Vt) + user_ratings_mean.reshape(-1, 1)"
      ],
      "execution_count": null,
      "outputs": []
    },
    {
      "cell_type": "code",
      "metadata": {
        "colab": {
          "base_uri": "https://localhost:8080/",
          "height": 338
        },
        "id": "8Jx2PcZFZpPR",
        "outputId": "36cb60a1-4815-4c48-adb1-1d4b5a6bcbe0"
      },
      "source": [
        "df_svd_preds = pd.DataFrame(svd_user_predicted_ratings, columns = df_user_fashion_ratings.columns)\n",
        "df_svd_preds.head()"
      ],
      "execution_count": null,
      "outputs": [
        {
          "output_type": "execute_result",
          "data": {
            "text/html": [
              "<div>\n",
              "<style scoped>\n",
              "    .dataframe tbody tr th:only-of-type {\n",
              "        vertical-align: middle;\n",
              "    }\n",
              "\n",
              "    .dataframe tbody tr th {\n",
              "        vertical-align: top;\n",
              "    }\n",
              "\n",
              "    .dataframe thead th {\n",
              "        text-align: right;\n",
              "    }\n",
              "</style>\n",
              "<table border=\"1\" class=\"dataframe\">\n",
              "  <thead>\n",
              "    <tr style=\"text-align: right;\">\n",
              "      <th>item_id</th>\n",
              "      <th>B00008JVTT</th>\n",
              "      <th>B00066G516</th>\n",
              "      <th>B000ER9V68</th>\n",
              "      <th>B000GHMRLW</th>\n",
              "      <th>B000GHRZN2</th>\n",
              "      <th>B000HQ4P9O</th>\n",
              "      <th>B000JOOR7O</th>\n",
              "      <th>B000KPIHQ4</th>\n",
              "      <th>B000NGJ41W</th>\n",
              "      <th>B000PHANNM</th>\n",
              "      <th>B000PMNS3E</th>\n",
              "      <th>B000PMPTF4</th>\n",
              "      <th>B000PMPTGI</th>\n",
              "      <th>B000POJKMU</th>\n",
              "      <th>B000POL05U</th>\n",
              "      <th>B000PQJQUY</th>\n",
              "      <th>B000V0IBDM</th>\n",
              "      <th>B000V588EO</th>\n",
              "      <th>B000VIUJLG</th>\n",
              "      <th>B000YFSR5G</th>\n",
              "      <th>B0014F57YY</th>\n",
              "      <th>B0014F8TIU</th>\n",
              "      <th>B0017U1KBK</th>\n",
              "      <th>B0018N8CHQ</th>\n",
              "      <th>B001AXC4YG</th>\n",
              "      <th>B001F8LJ92</th>\n",
              "      <th>B001G7R0CC</th>\n",
              "      <th>B001GIO77C</th>\n",
              "      <th>B001IKJOLW</th>\n",
              "      <th>B001LFP0EO</th>\n",
              "      <th>B001T4MSU6</th>\n",
              "      <th>B0027L8RSW</th>\n",
              "      <th>B002B90VTI</th>\n",
              "      <th>B002QATOV8</th>\n",
              "      <th>B002RC6FWQ</th>\n",
              "      <th>B002Z3N1HE</th>\n",
              "      <th>B003950BDY</th>\n",
              "      <th>B003BRC73C</th>\n",
              "      <th>B003ESTRW2</th>\n",
              "      <th>B003GJZDGS</th>\n",
              "      <th>...</th>\n",
              "      <th>B01GZZIWKI</th>\n",
              "      <th>B01GZZOZ8G</th>\n",
              "      <th>B01H059U4Y</th>\n",
              "      <th>B01H0C5A9Q</th>\n",
              "      <th>B01H1LQMXO</th>\n",
              "      <th>B01H1P2YTG</th>\n",
              "      <th>B01H1WHBPG</th>\n",
              "      <th>B01H3D4MZK</th>\n",
              "      <th>B01H3DCZBI</th>\n",
              "      <th>B01H3H4EB8</th>\n",
              "      <th>B01H4DGICE</th>\n",
              "      <th>B01H4P97HA</th>\n",
              "      <th>B01H5A1WUO</th>\n",
              "      <th>B01H62UHX4</th>\n",
              "      <th>B01H6FTQRY</th>\n",
              "      <th>B01H6Z43A4</th>\n",
              "      <th>B01H79VTDS</th>\n",
              "      <th>B01H7KY678</th>\n",
              "      <th>B01H7N6240</th>\n",
              "      <th>B01H7RIHEO</th>\n",
              "      <th>B01HBI0KW6</th>\n",
              "      <th>B01HBJW7DU</th>\n",
              "      <th>B01HBLV3K6</th>\n",
              "      <th>B01HC7ZP1M</th>\n",
              "      <th>B01HCHY6AI</th>\n",
              "      <th>B01HCJMCU2</th>\n",
              "      <th>B01HCVAP5O</th>\n",
              "      <th>B01HCWVWF0</th>\n",
              "      <th>B01HD1C7PY</th>\n",
              "      <th>B01HE9KXKQ</th>\n",
              "      <th>B01HEGKFKM</th>\n",
              "      <th>B01HEISONU</th>\n",
              "      <th>B01HFKK1AG</th>\n",
              "      <th>B01HFKZ57K</th>\n",
              "      <th>B01HFZM5RS</th>\n",
              "      <th>B01HH5SFNO</th>\n",
              "      <th>B01HHUQEY6</th>\n",
              "      <th>B01HIA2Y80</th>\n",
              "      <th>B01HIVIU82</th>\n",
              "      <th>B01HJGJ9LS</th>\n",
              "    </tr>\n",
              "  </thead>\n",
              "  <tbody>\n",
              "    <tr>\n",
              "      <th>0</th>\n",
              "      <td>0.000609</td>\n",
              "      <td>0.000609</td>\n",
              "      <td>0.000610</td>\n",
              "      <td>0.000007</td>\n",
              "      <td>0.000007</td>\n",
              "      <td>6.090212e-04</td>\n",
              "      <td>0.000522</td>\n",
              "      <td>1.582164e-07</td>\n",
              "      <td>0.000609</td>\n",
              "      <td>-0.000007</td>\n",
              "      <td>0.000609</td>\n",
              "      <td>0.000609</td>\n",
              "      <td>0.000609</td>\n",
              "      <td>0.000609</td>\n",
              "      <td>0.000609</td>\n",
              "      <td>0.000609</td>\n",
              "      <td>-7.850251e-07</td>\n",
              "      <td>0.000609</td>\n",
              "      <td>6.090185e-04</td>\n",
              "      <td>-8.691209e-07</td>\n",
              "      <td>0.000609</td>\n",
              "      <td>0.000607</td>\n",
              "      <td>0.000610</td>\n",
              "      <td>0.000608</td>\n",
              "      <td>0.000609</td>\n",
              "      <td>0.000611</td>\n",
              "      <td>0.000609</td>\n",
              "      <td>0.000609</td>\n",
              "      <td>0.000017</td>\n",
              "      <td>0.000610</td>\n",
              "      <td>0.000610</td>\n",
              "      <td>0.000609</td>\n",
              "      <td>0.000609</td>\n",
              "      <td>0.000609</td>\n",
              "      <td>0.000609</td>\n",
              "      <td>0.000611</td>\n",
              "      <td>0.000609</td>\n",
              "      <td>0.000609</td>\n",
              "      <td>0.000609</td>\n",
              "      <td>0.000608</td>\n",
              "      <td>...</td>\n",
              "      <td>0.000609</td>\n",
              "      <td>0.000609</td>\n",
              "      <td>0.000609</td>\n",
              "      <td>0.000609</td>\n",
              "      <td>0.000609</td>\n",
              "      <td>0.000609</td>\n",
              "      <td>0.000609</td>\n",
              "      <td>0.000609</td>\n",
              "      <td>0.000609</td>\n",
              "      <td>0.000609</td>\n",
              "      <td>0.000609</td>\n",
              "      <td>0.000609</td>\n",
              "      <td>0.000609</td>\n",
              "      <td>0.000609</td>\n",
              "      <td>0.000609</td>\n",
              "      <td>0.000609</td>\n",
              "      <td>0.000609</td>\n",
              "      <td>0.000612</td>\n",
              "      <td>0.000609</td>\n",
              "      <td>0.000609</td>\n",
              "      <td>0.000609</td>\n",
              "      <td>0.000609</td>\n",
              "      <td>0.000609</td>\n",
              "      <td>0.000609</td>\n",
              "      <td>0.000609</td>\n",
              "      <td>0.000609</td>\n",
              "      <td>0.000609</td>\n",
              "      <td>0.000609</td>\n",
              "      <td>0.000609</td>\n",
              "      <td>0.000609</td>\n",
              "      <td>0.000609</td>\n",
              "      <td>0.000608</td>\n",
              "      <td>0.000609</td>\n",
              "      <td>0.000609</td>\n",
              "      <td>0.000609</td>\n",
              "      <td>0.000609</td>\n",
              "      <td>0.000609</td>\n",
              "      <td>0.000609</td>\n",
              "      <td>0.000609</td>\n",
              "      <td>6.090233e-04</td>\n",
              "    </tr>\n",
              "    <tr>\n",
              "      <th>1</th>\n",
              "      <td>0.003049</td>\n",
              "      <td>0.003049</td>\n",
              "      <td>0.003052</td>\n",
              "      <td>-0.000408</td>\n",
              "      <td>-0.000408</td>\n",
              "      <td>3.049179e-03</td>\n",
              "      <td>0.002518</td>\n",
              "      <td>-7.537585e-05</td>\n",
              "      <td>0.003050</td>\n",
              "      <td>-0.000296</td>\n",
              "      <td>0.003051</td>\n",
              "      <td>0.003051</td>\n",
              "      <td>0.003049</td>\n",
              "      <td>0.003050</td>\n",
              "      <td>0.003050</td>\n",
              "      <td>0.003051</td>\n",
              "      <td>-8.021608e-05</td>\n",
              "      <td>0.003052</td>\n",
              "      <td>3.049163e-03</td>\n",
              "      <td>-5.638569e-04</td>\n",
              "      <td>0.003049</td>\n",
              "      <td>0.003037</td>\n",
              "      <td>0.003053</td>\n",
              "      <td>0.003043</td>\n",
              "      <td>0.003049</td>\n",
              "      <td>0.003060</td>\n",
              "      <td>0.003051</td>\n",
              "      <td>0.003050</td>\n",
              "      <td>-0.000090</td>\n",
              "      <td>0.003055</td>\n",
              "      <td>0.003054</td>\n",
              "      <td>0.003049</td>\n",
              "      <td>0.003049</td>\n",
              "      <td>0.003049</td>\n",
              "      <td>0.003049</td>\n",
              "      <td>0.003058</td>\n",
              "      <td>0.003049</td>\n",
              "      <td>0.003049</td>\n",
              "      <td>0.003051</td>\n",
              "      <td>0.003045</td>\n",
              "      <td>...</td>\n",
              "      <td>0.003049</td>\n",
              "      <td>0.003049</td>\n",
              "      <td>0.003049</td>\n",
              "      <td>0.003049</td>\n",
              "      <td>0.003049</td>\n",
              "      <td>0.003049</td>\n",
              "      <td>0.003049</td>\n",
              "      <td>0.003049</td>\n",
              "      <td>0.003049</td>\n",
              "      <td>0.003049</td>\n",
              "      <td>0.003049</td>\n",
              "      <td>0.003049</td>\n",
              "      <td>0.003049</td>\n",
              "      <td>0.003049</td>\n",
              "      <td>0.003049</td>\n",
              "      <td>0.003049</td>\n",
              "      <td>0.003049</td>\n",
              "      <td>0.003068</td>\n",
              "      <td>0.003050</td>\n",
              "      <td>0.003049</td>\n",
              "      <td>0.003049</td>\n",
              "      <td>0.003049</td>\n",
              "      <td>0.003049</td>\n",
              "      <td>0.003052</td>\n",
              "      <td>0.003049</td>\n",
              "      <td>0.003049</td>\n",
              "      <td>0.003049</td>\n",
              "      <td>0.003049</td>\n",
              "      <td>0.003049</td>\n",
              "      <td>0.003049</td>\n",
              "      <td>0.003049</td>\n",
              "      <td>0.003044</td>\n",
              "      <td>0.003049</td>\n",
              "      <td>0.003049</td>\n",
              "      <td>0.003049</td>\n",
              "      <td>0.003049</td>\n",
              "      <td>0.003049</td>\n",
              "      <td>0.003049</td>\n",
              "      <td>0.003049</td>\n",
              "      <td>3.049191e-03</td>\n",
              "    </tr>\n",
              "    <tr>\n",
              "      <th>2</th>\n",
              "      <td>0.000002</td>\n",
              "      <td>0.003066</td>\n",
              "      <td>-0.000126</td>\n",
              "      <td>-0.000006</td>\n",
              "      <td>-0.000006</td>\n",
              "      <td>2.042801e-07</td>\n",
              "      <td>-0.001369</td>\n",
              "      <td>6.024872e-06</td>\n",
              "      <td>-0.000021</td>\n",
              "      <td>0.000005</td>\n",
              "      <td>-0.000125</td>\n",
              "      <td>-0.000129</td>\n",
              "      <td>-0.000010</td>\n",
              "      <td>-0.000022</td>\n",
              "      <td>-0.000017</td>\n",
              "      <td>-0.000100</td>\n",
              "      <td>-5.799176e-06</td>\n",
              "      <td>-0.000114</td>\n",
              "      <td>9.484652e-07</td>\n",
              "      <td>3.737479e-07</td>\n",
              "      <td>0.000008</td>\n",
              "      <td>-0.000199</td>\n",
              "      <td>0.004010</td>\n",
              "      <td>-0.000063</td>\n",
              "      <td>-0.000001</td>\n",
              "      <td>-0.000444</td>\n",
              "      <td>-0.000104</td>\n",
              "      <td>-0.000015</td>\n",
              "      <td>-0.000002</td>\n",
              "      <td>-0.000232</td>\n",
              "      <td>-0.000230</td>\n",
              "      <td>0.000010</td>\n",
              "      <td>0.000015</td>\n",
              "      <td>0.000018</td>\n",
              "      <td>-0.000007</td>\n",
              "      <td>-0.000355</td>\n",
              "      <td>0.000007</td>\n",
              "      <td>0.000015</td>\n",
              "      <td>-0.000083</td>\n",
              "      <td>0.000004</td>\n",
              "      <td>...</td>\n",
              "      <td>0.000008</td>\n",
              "      <td>-0.000001</td>\n",
              "      <td>0.000017</td>\n",
              "      <td>0.000020</td>\n",
              "      <td>0.000020</td>\n",
              "      <td>0.000016</td>\n",
              "      <td>0.000016</td>\n",
              "      <td>0.000017</td>\n",
              "      <td>0.001829</td>\n",
              "      <td>0.000018</td>\n",
              "      <td>0.000012</td>\n",
              "      <td>0.000018</td>\n",
              "      <td>0.000014</td>\n",
              "      <td>0.000018</td>\n",
              "      <td>0.000015</td>\n",
              "      <td>-0.000003</td>\n",
              "      <td>0.000016</td>\n",
              "      <td>-0.000669</td>\n",
              "      <td>-0.000044</td>\n",
              "      <td>-0.000002</td>\n",
              "      <td>0.000018</td>\n",
              "      <td>0.000007</td>\n",
              "      <td>0.000020</td>\n",
              "      <td>-0.000121</td>\n",
              "      <td>0.000018</td>\n",
              "      <td>0.000011</td>\n",
              "      <td>0.000017</td>\n",
              "      <td>0.000007</td>\n",
              "      <td>0.000020</td>\n",
              "      <td>0.000020</td>\n",
              "      <td>-0.000001</td>\n",
              "      <td>-0.000079</td>\n",
              "      <td>0.000012</td>\n",
              "      <td>0.000018</td>\n",
              "      <td>0.000016</td>\n",
              "      <td>0.000018</td>\n",
              "      <td>0.000007</td>\n",
              "      <td>0.000019</td>\n",
              "      <td>0.000014</td>\n",
              "      <td>-3.541013e-07</td>\n",
              "    </tr>\n",
              "    <tr>\n",
              "      <th>3</th>\n",
              "      <td>0.003046</td>\n",
              "      <td>0.003046</td>\n",
              "      <td>0.003049</td>\n",
              "      <td>-0.000106</td>\n",
              "      <td>-0.000106</td>\n",
              "      <td>3.046389e-03</td>\n",
              "      <td>0.002584</td>\n",
              "      <td>-2.500920e-05</td>\n",
              "      <td>0.003047</td>\n",
              "      <td>-0.000121</td>\n",
              "      <td>0.003048</td>\n",
              "      <td>0.003048</td>\n",
              "      <td>0.003047</td>\n",
              "      <td>0.003047</td>\n",
              "      <td>0.003047</td>\n",
              "      <td>0.003048</td>\n",
              "      <td>-2.976727e-05</td>\n",
              "      <td>0.003049</td>\n",
              "      <td>3.046375e-03</td>\n",
              "      <td>-1.765256e-04</td>\n",
              "      <td>0.003046</td>\n",
              "      <td>0.003035</td>\n",
              "      <td>0.003050</td>\n",
              "      <td>0.003041</td>\n",
              "      <td>0.003046</td>\n",
              "      <td>0.003057</td>\n",
              "      <td>0.003048</td>\n",
              "      <td>0.003047</td>\n",
              "      <td>0.000027</td>\n",
              "      <td>0.003051</td>\n",
              "      <td>0.003051</td>\n",
              "      <td>0.003046</td>\n",
              "      <td>0.003046</td>\n",
              "      <td>0.003046</td>\n",
              "      <td>0.003047</td>\n",
              "      <td>0.003054</td>\n",
              "      <td>0.003046</td>\n",
              "      <td>0.003046</td>\n",
              "      <td>0.003048</td>\n",
              "      <td>0.003043</td>\n",
              "      <td>...</td>\n",
              "      <td>0.003046</td>\n",
              "      <td>0.003046</td>\n",
              "      <td>0.003046</td>\n",
              "      <td>0.003046</td>\n",
              "      <td>0.003046</td>\n",
              "      <td>0.003046</td>\n",
              "      <td>0.003046</td>\n",
              "      <td>0.003046</td>\n",
              "      <td>0.003046</td>\n",
              "      <td>0.003046</td>\n",
              "      <td>0.003046</td>\n",
              "      <td>0.003046</td>\n",
              "      <td>0.003046</td>\n",
              "      <td>0.003046</td>\n",
              "      <td>0.003046</td>\n",
              "      <td>0.003047</td>\n",
              "      <td>0.003046</td>\n",
              "      <td>0.003063</td>\n",
              "      <td>0.003047</td>\n",
              "      <td>0.003046</td>\n",
              "      <td>0.003046</td>\n",
              "      <td>0.003046</td>\n",
              "      <td>0.003046</td>\n",
              "      <td>0.003049</td>\n",
              "      <td>0.003046</td>\n",
              "      <td>0.003046</td>\n",
              "      <td>0.003046</td>\n",
              "      <td>0.003046</td>\n",
              "      <td>0.003046</td>\n",
              "      <td>0.003046</td>\n",
              "      <td>0.003046</td>\n",
              "      <td>0.003042</td>\n",
              "      <td>0.003046</td>\n",
              "      <td>0.003046</td>\n",
              "      <td>0.003046</td>\n",
              "      <td>0.003046</td>\n",
              "      <td>0.003046</td>\n",
              "      <td>0.003046</td>\n",
              "      <td>0.003046</td>\n",
              "      <td>3.046400e-03</td>\n",
              "    </tr>\n",
              "    <tr>\n",
              "      <th>4</th>\n",
              "      <td>0.000609</td>\n",
              "      <td>0.000609</td>\n",
              "      <td>0.000609</td>\n",
              "      <td>0.000008</td>\n",
              "      <td>0.000008</td>\n",
              "      <td>6.090064e-04</td>\n",
              "      <td>0.000523</td>\n",
              "      <td>4.682479e-07</td>\n",
              "      <td>0.000609</td>\n",
              "      <td>-0.000006</td>\n",
              "      <td>0.000609</td>\n",
              "      <td>0.000609</td>\n",
              "      <td>0.000609</td>\n",
              "      <td>0.000609</td>\n",
              "      <td>0.000609</td>\n",
              "      <td>0.000609</td>\n",
              "      <td>-4.744914e-07</td>\n",
              "      <td>0.000609</td>\n",
              "      <td>6.090036e-04</td>\n",
              "      <td>1.100535e-06</td>\n",
              "      <td>0.000609</td>\n",
              "      <td>0.000607</td>\n",
              "      <td>0.000610</td>\n",
              "      <td>0.000608</td>\n",
              "      <td>0.000609</td>\n",
              "      <td>0.000611</td>\n",
              "      <td>0.000609</td>\n",
              "      <td>0.000609</td>\n",
              "      <td>0.000018</td>\n",
              "      <td>0.000610</td>\n",
              "      <td>0.000610</td>\n",
              "      <td>0.000609</td>\n",
              "      <td>0.000609</td>\n",
              "      <td>0.000609</td>\n",
              "      <td>0.000609</td>\n",
              "      <td>0.000611</td>\n",
              "      <td>0.000609</td>\n",
              "      <td>0.000609</td>\n",
              "      <td>0.000609</td>\n",
              "      <td>0.000608</td>\n",
              "      <td>...</td>\n",
              "      <td>0.000609</td>\n",
              "      <td>0.000609</td>\n",
              "      <td>0.000609</td>\n",
              "      <td>0.000609</td>\n",
              "      <td>0.000609</td>\n",
              "      <td>0.000609</td>\n",
              "      <td>0.000609</td>\n",
              "      <td>0.000609</td>\n",
              "      <td>0.000609</td>\n",
              "      <td>0.000609</td>\n",
              "      <td>0.000609</td>\n",
              "      <td>0.000609</td>\n",
              "      <td>0.000609</td>\n",
              "      <td>0.000609</td>\n",
              "      <td>0.000609</td>\n",
              "      <td>0.000609</td>\n",
              "      <td>0.000609</td>\n",
              "      <td>0.000612</td>\n",
              "      <td>0.000609</td>\n",
              "      <td>0.000609</td>\n",
              "      <td>0.000609</td>\n",
              "      <td>0.000609</td>\n",
              "      <td>0.000609</td>\n",
              "      <td>0.000609</td>\n",
              "      <td>0.000609</td>\n",
              "      <td>0.000609</td>\n",
              "      <td>0.000609</td>\n",
              "      <td>0.000609</td>\n",
              "      <td>0.000609</td>\n",
              "      <td>0.000609</td>\n",
              "      <td>0.000609</td>\n",
              "      <td>0.000608</td>\n",
              "      <td>0.000609</td>\n",
              "      <td>0.000609</td>\n",
              "      <td>0.000609</td>\n",
              "      <td>0.000609</td>\n",
              "      <td>0.000609</td>\n",
              "      <td>0.000609</td>\n",
              "      <td>0.000609</td>\n",
              "      <td>6.090084e-04</td>\n",
              "    </tr>\n",
              "  </tbody>\n",
              "</table>\n",
              "<p>5 rows × 1662 columns</p>\n",
              "</div>"
            ],
            "text/plain": [
              "item_id  B00008JVTT  B00066G516  ...  B01HIVIU82    B01HJGJ9LS\n",
              "0          0.000609    0.000609  ...    0.000609  6.090233e-04\n",
              "1          0.003049    0.003049  ...    0.003049  3.049191e-03\n",
              "2          0.000002    0.003066  ...    0.000014 -3.541013e-07\n",
              "3          0.003046    0.003046  ...    0.003046  3.046400e-03\n",
              "4          0.000609    0.000609  ...    0.000609  6.090084e-04\n",
              "\n",
              "[5 rows x 1662 columns]"
            ]
          },
          "metadata": {
            "tags": []
          },
          "execution_count": 56
        }
      ]
    },
    {
      "cell_type": "code",
      "metadata": {
        "colab": {
          "base_uri": "https://localhost:8080/"
        },
        "id": "_gSaGMDpY42X",
        "outputId": "6336f957-7641-48c6-c3ab-013a3e039acd"
      },
      "source": [
        "df_svd_preds.shape"
      ],
      "execution_count": null,
      "outputs": [
        {
          "output_type": "execute_result",
          "data": {
            "text/plain": [
              "(45330, 1662)"
            ]
          },
          "metadata": {
            "tags": []
          },
          "execution_count": 57
        }
      ]
    },
    {
      "cell_type": "markdown",
      "metadata": {
        "id": "ix6lyD1FZ_It"
      },
      "source": [
        "아래와 같은 기능의 함수를 만듭니다.\n",
        "\n",
        "- 인자로 사용자 아이디, 제품 정보 테이블, 평점 테이블 등을 받음\n",
        "- 사용자 아이디에 SVD로 나온 결과의 제품 평점이 가장 높은 데이터 순으로 정렬\n",
        "- 사용자가 본 데이터를 제외\n",
        "- 사용자가 안 본 제품에서 평점이 높은 것을 추천"
      ]
    },
    {
      "cell_type": "code",
      "metadata": {
        "id": "saAZgJmnZ9WK"
      },
      "source": [
        "def recommend_items(df_svd_preds, user_id, ori_items_df, ori_ratings_df, num_recommendations=5):\n",
        "    \n",
        "    #현재는 index로 적용이 되어있으므로 user_id - 1을 해야함.\n",
        "    user_row_number = user_id - 1\n",
        "    \n",
        "    # 최종적으로 만든 pred_df에서 사용자 index에 따라 제품 데이터 정렬 -> 제품 평점이 높은 순으로 정렬 됌\n",
        "    sorted_user_predictions = df_svd_preds.iloc[user_row_number].sort_values(ascending=False)\n",
        "    \n",
        "    # 원본 평점 데이터에서 user id에 해당하는 데이터를 뽑아낸다. \n",
        "    user_data = ori_ratings_df[ori_ratings_df.user_id == user_id]\n",
        "    \n",
        "    # 위에서 뽑은 user_data와 원본 제품 데이터를 합친다. \n",
        "    user_history = user_data.merge(ori_items_df, on = 'item_id').sort_values(['rating'], ascending=False)\n",
        "    \n",
        "    # 원본 제품 데이터에서 사용자가 본 제품 데이터를 제외한 데이터를 추출\n",
        "    recommendations = ori_items_df[~ori_items_df['item_id'].isin(user_history['item_id'])]\n",
        "    # 사용자의 제품 평점이 높은 순으로 정렬된 데이터와 위 recommendations을 합친다. \n",
        "    recommendations = recommendations.merge(pd.DataFrame(sorted_user_predictions).reset_index(), on = 'item_id')\n",
        "    # 컬럼 이름 바꾸고 정렬해서 return\n",
        "    recommendations = recommendations.rename(columns = {user_row_number: 'Predictions'}).sort_values('Predictions', ascending = False).iloc[:num_recommendations, :]\n",
        "                      \n",
        "\n",
        "    return user_history, recommendations"
      ],
      "execution_count": null,
      "outputs": []
    },
    {
      "cell_type": "code",
      "metadata": {
        "colab": {
          "base_uri": "https://localhost:8080/",
          "height": 185
        },
        "id": "c6ef8ZcVdFjl",
        "outputId": "a06883b5-34e2-40d1-e901-0fab702a697c"
      },
      "source": [
        "df_item = df5.copy()\n",
        "df_item.columns = ['title', 'image', 'brand', 'feature', 'rank', 'date', 'item_id',\n",
        "       'description', 'price', 'also_view', 'also_buy', 'fit', 'details',\n",
        "       'similar_item', 'tech1']\n",
        "\n",
        "df_item.head(1)"
      ],
      "execution_count": null,
      "outputs": [
        {
          "output_type": "execute_result",
          "data": {
            "text/html": [
              "<div>\n",
              "<style scoped>\n",
              "    .dataframe tbody tr th:only-of-type {\n",
              "        vertical-align: middle;\n",
              "    }\n",
              "\n",
              "    .dataframe tbody tr th {\n",
              "        vertical-align: top;\n",
              "    }\n",
              "\n",
              "    .dataframe thead th {\n",
              "        text-align: right;\n",
              "    }\n",
              "</style>\n",
              "<table border=\"1\" class=\"dataframe\">\n",
              "  <thead>\n",
              "    <tr style=\"text-align: right;\">\n",
              "      <th></th>\n",
              "      <th>title</th>\n",
              "      <th>image</th>\n",
              "      <th>brand</th>\n",
              "      <th>feature</th>\n",
              "      <th>rank</th>\n",
              "      <th>date</th>\n",
              "      <th>item_id</th>\n",
              "      <th>description</th>\n",
              "      <th>price</th>\n",
              "      <th>also_view</th>\n",
              "      <th>also_buy</th>\n",
              "      <th>fit</th>\n",
              "      <th>details</th>\n",
              "      <th>similar_item</th>\n",
              "      <th>tech1</th>\n",
              "    </tr>\n",
              "  </thead>\n",
              "  <tbody>\n",
              "    <tr>\n",
              "      <th>0</th>\n",
              "      <td>Slime Time Fall Fest [With CDROM and Collector...</td>\n",
              "      <td>[https://images-na.ssl-images-amazon.com/image...</td>\n",
              "      <td>Group Publishing (CO)</td>\n",
              "      <td>[Product Dimensions:\\n                    \\n8....</td>\n",
              "      <td>13,052,976inClothing,Shoesamp;Jewelry(</td>\n",
              "      <td>8.70 inches</td>\n",
              "      <td>0764443682</td>\n",
              "      <td></td>\n",
              "      <td></td>\n",
              "      <td></td>\n",
              "      <td></td>\n",
              "      <td></td>\n",
              "      <td></td>\n",
              "      <td></td>\n",
              "      <td></td>\n",
              "    </tr>\n",
              "  </tbody>\n",
              "</table>\n",
              "</div>"
            ],
            "text/plain": [
              "                                               title  ... tech1\n",
              "0  Slime Time Fall Fest [With CDROM and Collector...  ...      \n",
              "\n",
              "[1 rows x 15 columns]"
            ]
          },
          "metadata": {
            "tags": []
          },
          "execution_count": 63
        }
      ]
    },
    {
      "cell_type": "code",
      "metadata": {
        "id": "SxFVxkkVcUv7"
      },
      "source": [
        "already_rated, predictions = recommend_items(df_svd_preds, 201, df_item, df_fashion_review, 10)"
      ],
      "execution_count": null,
      "outputs": []
    },
    {
      "cell_type": "code",
      "metadata": {
        "colab": {
          "base_uri": "https://localhost:8080/",
          "height": 253
        },
        "id": "Zik3dFCj4ltn",
        "outputId": "1404844c-9735-4931-f32a-c66dde7dfe7a"
      },
      "source": [
        "re = df_user_fashion_ratings.reset_index()\n",
        "re.head()"
      ],
      "execution_count": null,
      "outputs": [
        {
          "output_type": "execute_result",
          "data": {
            "text/html": [
              "<div>\n",
              "<style scoped>\n",
              "    .dataframe tbody tr th:only-of-type {\n",
              "        vertical-align: middle;\n",
              "    }\n",
              "\n",
              "    .dataframe tbody tr th {\n",
              "        vertical-align: top;\n",
              "    }\n",
              "\n",
              "    .dataframe thead th {\n",
              "        text-align: right;\n",
              "    }\n",
              "</style>\n",
              "<table border=\"1\" class=\"dataframe\">\n",
              "  <thead>\n",
              "    <tr style=\"text-align: right;\">\n",
              "      <th>item_id</th>\n",
              "      <th>user_id</th>\n",
              "      <th>B00008JVTT</th>\n",
              "      <th>B00066G516</th>\n",
              "      <th>B000ER9V68</th>\n",
              "      <th>B000GHMRLW</th>\n",
              "      <th>B000GHRZN2</th>\n",
              "      <th>B000HQ4P9O</th>\n",
              "      <th>B000JOOR7O</th>\n",
              "      <th>B000KPIHQ4</th>\n",
              "      <th>B000NGJ41W</th>\n",
              "      <th>B000PHANNM</th>\n",
              "      <th>B000PMNS3E</th>\n",
              "      <th>B000PMPTF4</th>\n",
              "      <th>B000PMPTGI</th>\n",
              "      <th>B000POJKMU</th>\n",
              "      <th>B000POL05U</th>\n",
              "      <th>B000PQJQUY</th>\n",
              "      <th>B000V0IBDM</th>\n",
              "      <th>B000V588EO</th>\n",
              "      <th>B000VIUJLG</th>\n",
              "      <th>B000YFSR5G</th>\n",
              "      <th>B0014F57YY</th>\n",
              "      <th>B0014F8TIU</th>\n",
              "      <th>B0017U1KBK</th>\n",
              "      <th>B0018N8CHQ</th>\n",
              "      <th>B001AXC4YG</th>\n",
              "      <th>B001F8LJ92</th>\n",
              "      <th>B001G7R0CC</th>\n",
              "      <th>B001GIO77C</th>\n",
              "      <th>B001IKJOLW</th>\n",
              "      <th>B001LFP0EO</th>\n",
              "      <th>B001T4MSU6</th>\n",
              "      <th>B0027L8RSW</th>\n",
              "      <th>B002B90VTI</th>\n",
              "      <th>B002QATOV8</th>\n",
              "      <th>B002RC6FWQ</th>\n",
              "      <th>B002Z3N1HE</th>\n",
              "      <th>B003950BDY</th>\n",
              "      <th>B003BRC73C</th>\n",
              "      <th>B003ESTRW2</th>\n",
              "      <th>...</th>\n",
              "      <th>B01GZZIWKI</th>\n",
              "      <th>B01GZZOZ8G</th>\n",
              "      <th>B01H059U4Y</th>\n",
              "      <th>B01H0C5A9Q</th>\n",
              "      <th>B01H1LQMXO</th>\n",
              "      <th>B01H1P2YTG</th>\n",
              "      <th>B01H1WHBPG</th>\n",
              "      <th>B01H3D4MZK</th>\n",
              "      <th>B01H3DCZBI</th>\n",
              "      <th>B01H3H4EB8</th>\n",
              "      <th>B01H4DGICE</th>\n",
              "      <th>B01H4P97HA</th>\n",
              "      <th>B01H5A1WUO</th>\n",
              "      <th>B01H62UHX4</th>\n",
              "      <th>B01H6FTQRY</th>\n",
              "      <th>B01H6Z43A4</th>\n",
              "      <th>B01H79VTDS</th>\n",
              "      <th>B01H7KY678</th>\n",
              "      <th>B01H7N6240</th>\n",
              "      <th>B01H7RIHEO</th>\n",
              "      <th>B01HBI0KW6</th>\n",
              "      <th>B01HBJW7DU</th>\n",
              "      <th>B01HBLV3K6</th>\n",
              "      <th>B01HC7ZP1M</th>\n",
              "      <th>B01HCHY6AI</th>\n",
              "      <th>B01HCJMCU2</th>\n",
              "      <th>B01HCVAP5O</th>\n",
              "      <th>B01HCWVWF0</th>\n",
              "      <th>B01HD1C7PY</th>\n",
              "      <th>B01HE9KXKQ</th>\n",
              "      <th>B01HEGKFKM</th>\n",
              "      <th>B01HEISONU</th>\n",
              "      <th>B01HFKK1AG</th>\n",
              "      <th>B01HFKZ57K</th>\n",
              "      <th>B01HFZM5RS</th>\n",
              "      <th>B01HH5SFNO</th>\n",
              "      <th>B01HHUQEY6</th>\n",
              "      <th>B01HIA2Y80</th>\n",
              "      <th>B01HIVIU82</th>\n",
              "      <th>B01HJGJ9LS</th>\n",
              "    </tr>\n",
              "  </thead>\n",
              "  <tbody>\n",
              "    <tr>\n",
              "      <th>0</th>\n",
              "      <td>A0010606488RW7ZH6EP7</td>\n",
              "      <td>0.0</td>\n",
              "      <td>0.0</td>\n",
              "      <td>0.0</td>\n",
              "      <td>0.0</td>\n",
              "      <td>0.0</td>\n",
              "      <td>0.0</td>\n",
              "      <td>0.0</td>\n",
              "      <td>0.0</td>\n",
              "      <td>0.0</td>\n",
              "      <td>0.0</td>\n",
              "      <td>0.0</td>\n",
              "      <td>0.0</td>\n",
              "      <td>0.0</td>\n",
              "      <td>0.0</td>\n",
              "      <td>0.0</td>\n",
              "      <td>0.0</td>\n",
              "      <td>0.0</td>\n",
              "      <td>0.0</td>\n",
              "      <td>0.0</td>\n",
              "      <td>0.0</td>\n",
              "      <td>0.0</td>\n",
              "      <td>0.0</td>\n",
              "      <td>0.0</td>\n",
              "      <td>0.0</td>\n",
              "      <td>0.0</td>\n",
              "      <td>0.0</td>\n",
              "      <td>0.0</td>\n",
              "      <td>0.0</td>\n",
              "      <td>0.0</td>\n",
              "      <td>0.0</td>\n",
              "      <td>0.0</td>\n",
              "      <td>0.0</td>\n",
              "      <td>0.0</td>\n",
              "      <td>0.0</td>\n",
              "      <td>0.0</td>\n",
              "      <td>0.0</td>\n",
              "      <td>0.0</td>\n",
              "      <td>0.0</td>\n",
              "      <td>0.0</td>\n",
              "      <td>...</td>\n",
              "      <td>0.0</td>\n",
              "      <td>0.0</td>\n",
              "      <td>0.0</td>\n",
              "      <td>0.0</td>\n",
              "      <td>0.0</td>\n",
              "      <td>0.0</td>\n",
              "      <td>0.0</td>\n",
              "      <td>0.0</td>\n",
              "      <td>0.0</td>\n",
              "      <td>0.0</td>\n",
              "      <td>0.0</td>\n",
              "      <td>0.0</td>\n",
              "      <td>0.0</td>\n",
              "      <td>0.0</td>\n",
              "      <td>0.0</td>\n",
              "      <td>0.0</td>\n",
              "      <td>0.0</td>\n",
              "      <td>0.0</td>\n",
              "      <td>0.0</td>\n",
              "      <td>0.0</td>\n",
              "      <td>0.0</td>\n",
              "      <td>0.0</td>\n",
              "      <td>0.0</td>\n",
              "      <td>0.0</td>\n",
              "      <td>0.0</td>\n",
              "      <td>0.0</td>\n",
              "      <td>0.0</td>\n",
              "      <td>0.0</td>\n",
              "      <td>0.0</td>\n",
              "      <td>0.0</td>\n",
              "      <td>0.0</td>\n",
              "      <td>0.0</td>\n",
              "      <td>0.0</td>\n",
              "      <td>0.0</td>\n",
              "      <td>0.0</td>\n",
              "      <td>0.0</td>\n",
              "      <td>0.0</td>\n",
              "      <td>0.0</td>\n",
              "      <td>0.0</td>\n",
              "      <td>0.0</td>\n",
              "    </tr>\n",
              "    <tr>\n",
              "      <th>1</th>\n",
              "      <td>A0254933A6GXCEJ2WU0K</td>\n",
              "      <td>0.0</td>\n",
              "      <td>0.0</td>\n",
              "      <td>0.0</td>\n",
              "      <td>0.0</td>\n",
              "      <td>0.0</td>\n",
              "      <td>0.0</td>\n",
              "      <td>0.0</td>\n",
              "      <td>0.0</td>\n",
              "      <td>0.0</td>\n",
              "      <td>0.0</td>\n",
              "      <td>0.0</td>\n",
              "      <td>0.0</td>\n",
              "      <td>0.0</td>\n",
              "      <td>0.0</td>\n",
              "      <td>0.0</td>\n",
              "      <td>0.0</td>\n",
              "      <td>0.0</td>\n",
              "      <td>0.0</td>\n",
              "      <td>0.0</td>\n",
              "      <td>0.0</td>\n",
              "      <td>0.0</td>\n",
              "      <td>0.0</td>\n",
              "      <td>0.0</td>\n",
              "      <td>0.0</td>\n",
              "      <td>0.0</td>\n",
              "      <td>0.0</td>\n",
              "      <td>0.0</td>\n",
              "      <td>0.0</td>\n",
              "      <td>0.0</td>\n",
              "      <td>0.0</td>\n",
              "      <td>0.0</td>\n",
              "      <td>0.0</td>\n",
              "      <td>0.0</td>\n",
              "      <td>0.0</td>\n",
              "      <td>0.0</td>\n",
              "      <td>0.0</td>\n",
              "      <td>0.0</td>\n",
              "      <td>0.0</td>\n",
              "      <td>0.0</td>\n",
              "      <td>...</td>\n",
              "      <td>0.0</td>\n",
              "      <td>0.0</td>\n",
              "      <td>0.0</td>\n",
              "      <td>0.0</td>\n",
              "      <td>0.0</td>\n",
              "      <td>0.0</td>\n",
              "      <td>0.0</td>\n",
              "      <td>0.0</td>\n",
              "      <td>0.0</td>\n",
              "      <td>0.0</td>\n",
              "      <td>0.0</td>\n",
              "      <td>0.0</td>\n",
              "      <td>0.0</td>\n",
              "      <td>0.0</td>\n",
              "      <td>0.0</td>\n",
              "      <td>0.0</td>\n",
              "      <td>0.0</td>\n",
              "      <td>0.0</td>\n",
              "      <td>0.0</td>\n",
              "      <td>0.0</td>\n",
              "      <td>0.0</td>\n",
              "      <td>0.0</td>\n",
              "      <td>0.0</td>\n",
              "      <td>0.0</td>\n",
              "      <td>0.0</td>\n",
              "      <td>0.0</td>\n",
              "      <td>0.0</td>\n",
              "      <td>0.0</td>\n",
              "      <td>0.0</td>\n",
              "      <td>0.0</td>\n",
              "      <td>0.0</td>\n",
              "      <td>0.0</td>\n",
              "      <td>0.0</td>\n",
              "      <td>0.0</td>\n",
              "      <td>0.0</td>\n",
              "      <td>0.0</td>\n",
              "      <td>0.0</td>\n",
              "      <td>0.0</td>\n",
              "      <td>0.0</td>\n",
              "      <td>0.0</td>\n",
              "    </tr>\n",
              "    <tr>\n",
              "      <th>2</th>\n",
              "      <td>A02624829WK3PDCDC0XY</td>\n",
              "      <td>0.0</td>\n",
              "      <td>0.0</td>\n",
              "      <td>0.0</td>\n",
              "      <td>0.0</td>\n",
              "      <td>0.0</td>\n",
              "      <td>0.0</td>\n",
              "      <td>0.0</td>\n",
              "      <td>0.0</td>\n",
              "      <td>0.0</td>\n",
              "      <td>0.0</td>\n",
              "      <td>0.0</td>\n",
              "      <td>0.0</td>\n",
              "      <td>0.0</td>\n",
              "      <td>0.0</td>\n",
              "      <td>0.0</td>\n",
              "      <td>0.0</td>\n",
              "      <td>0.0</td>\n",
              "      <td>0.0</td>\n",
              "      <td>0.0</td>\n",
              "      <td>0.0</td>\n",
              "      <td>0.0</td>\n",
              "      <td>0.0</td>\n",
              "      <td>0.0</td>\n",
              "      <td>0.0</td>\n",
              "      <td>0.0</td>\n",
              "      <td>0.0</td>\n",
              "      <td>0.0</td>\n",
              "      <td>0.0</td>\n",
              "      <td>0.0</td>\n",
              "      <td>0.0</td>\n",
              "      <td>0.0</td>\n",
              "      <td>0.0</td>\n",
              "      <td>0.0</td>\n",
              "      <td>0.0</td>\n",
              "      <td>0.0</td>\n",
              "      <td>0.0</td>\n",
              "      <td>0.0</td>\n",
              "      <td>0.0</td>\n",
              "      <td>0.0</td>\n",
              "      <td>...</td>\n",
              "      <td>0.0</td>\n",
              "      <td>0.0</td>\n",
              "      <td>0.0</td>\n",
              "      <td>0.0</td>\n",
              "      <td>0.0</td>\n",
              "      <td>0.0</td>\n",
              "      <td>0.0</td>\n",
              "      <td>0.0</td>\n",
              "      <td>0.0</td>\n",
              "      <td>0.0</td>\n",
              "      <td>0.0</td>\n",
              "      <td>0.0</td>\n",
              "      <td>0.0</td>\n",
              "      <td>0.0</td>\n",
              "      <td>0.0</td>\n",
              "      <td>0.0</td>\n",
              "      <td>0.0</td>\n",
              "      <td>0.0</td>\n",
              "      <td>0.0</td>\n",
              "      <td>0.0</td>\n",
              "      <td>0.0</td>\n",
              "      <td>0.0</td>\n",
              "      <td>0.0</td>\n",
              "      <td>0.0</td>\n",
              "      <td>0.0</td>\n",
              "      <td>0.0</td>\n",
              "      <td>0.0</td>\n",
              "      <td>0.0</td>\n",
              "      <td>0.0</td>\n",
              "      <td>0.0</td>\n",
              "      <td>0.0</td>\n",
              "      <td>0.0</td>\n",
              "      <td>0.0</td>\n",
              "      <td>0.0</td>\n",
              "      <td>0.0</td>\n",
              "      <td>0.0</td>\n",
              "      <td>0.0</td>\n",
              "      <td>0.0</td>\n",
              "      <td>0.0</td>\n",
              "      <td>0.0</td>\n",
              "    </tr>\n",
              "    <tr>\n",
              "      <th>3</th>\n",
              "      <td>A0315527BAKOZY6T8TX2</td>\n",
              "      <td>0.0</td>\n",
              "      <td>0.0</td>\n",
              "      <td>0.0</td>\n",
              "      <td>0.0</td>\n",
              "      <td>0.0</td>\n",
              "      <td>0.0</td>\n",
              "      <td>0.0</td>\n",
              "      <td>0.0</td>\n",
              "      <td>0.0</td>\n",
              "      <td>0.0</td>\n",
              "      <td>0.0</td>\n",
              "      <td>0.0</td>\n",
              "      <td>0.0</td>\n",
              "      <td>0.0</td>\n",
              "      <td>0.0</td>\n",
              "      <td>0.0</td>\n",
              "      <td>0.0</td>\n",
              "      <td>0.0</td>\n",
              "      <td>0.0</td>\n",
              "      <td>0.0</td>\n",
              "      <td>0.0</td>\n",
              "      <td>0.0</td>\n",
              "      <td>0.0</td>\n",
              "      <td>0.0</td>\n",
              "      <td>0.0</td>\n",
              "      <td>0.0</td>\n",
              "      <td>0.0</td>\n",
              "      <td>0.0</td>\n",
              "      <td>0.0</td>\n",
              "      <td>0.0</td>\n",
              "      <td>0.0</td>\n",
              "      <td>0.0</td>\n",
              "      <td>0.0</td>\n",
              "      <td>0.0</td>\n",
              "      <td>0.0</td>\n",
              "      <td>0.0</td>\n",
              "      <td>0.0</td>\n",
              "      <td>0.0</td>\n",
              "      <td>0.0</td>\n",
              "      <td>...</td>\n",
              "      <td>0.0</td>\n",
              "      <td>0.0</td>\n",
              "      <td>0.0</td>\n",
              "      <td>0.0</td>\n",
              "      <td>0.0</td>\n",
              "      <td>0.0</td>\n",
              "      <td>0.0</td>\n",
              "      <td>0.0</td>\n",
              "      <td>0.0</td>\n",
              "      <td>0.0</td>\n",
              "      <td>0.0</td>\n",
              "      <td>0.0</td>\n",
              "      <td>0.0</td>\n",
              "      <td>0.0</td>\n",
              "      <td>0.0</td>\n",
              "      <td>0.0</td>\n",
              "      <td>0.0</td>\n",
              "      <td>0.0</td>\n",
              "      <td>0.0</td>\n",
              "      <td>0.0</td>\n",
              "      <td>0.0</td>\n",
              "      <td>0.0</td>\n",
              "      <td>0.0</td>\n",
              "      <td>0.0</td>\n",
              "      <td>0.0</td>\n",
              "      <td>0.0</td>\n",
              "      <td>0.0</td>\n",
              "      <td>0.0</td>\n",
              "      <td>0.0</td>\n",
              "      <td>0.0</td>\n",
              "      <td>0.0</td>\n",
              "      <td>0.0</td>\n",
              "      <td>0.0</td>\n",
              "      <td>0.0</td>\n",
              "      <td>0.0</td>\n",
              "      <td>0.0</td>\n",
              "      <td>0.0</td>\n",
              "      <td>0.0</td>\n",
              "      <td>0.0</td>\n",
              "      <td>0.0</td>\n",
              "    </tr>\n",
              "    <tr>\n",
              "      <th>4</th>\n",
              "      <td>A06191098432NALLJUET</td>\n",
              "      <td>0.0</td>\n",
              "      <td>0.0</td>\n",
              "      <td>0.0</td>\n",
              "      <td>0.0</td>\n",
              "      <td>0.0</td>\n",
              "      <td>0.0</td>\n",
              "      <td>0.0</td>\n",
              "      <td>0.0</td>\n",
              "      <td>0.0</td>\n",
              "      <td>0.0</td>\n",
              "      <td>0.0</td>\n",
              "      <td>0.0</td>\n",
              "      <td>0.0</td>\n",
              "      <td>0.0</td>\n",
              "      <td>0.0</td>\n",
              "      <td>0.0</td>\n",
              "      <td>0.0</td>\n",
              "      <td>0.0</td>\n",
              "      <td>0.0</td>\n",
              "      <td>0.0</td>\n",
              "      <td>0.0</td>\n",
              "      <td>0.0</td>\n",
              "      <td>0.0</td>\n",
              "      <td>0.0</td>\n",
              "      <td>0.0</td>\n",
              "      <td>0.0</td>\n",
              "      <td>0.0</td>\n",
              "      <td>0.0</td>\n",
              "      <td>0.0</td>\n",
              "      <td>0.0</td>\n",
              "      <td>0.0</td>\n",
              "      <td>0.0</td>\n",
              "      <td>0.0</td>\n",
              "      <td>0.0</td>\n",
              "      <td>0.0</td>\n",
              "      <td>0.0</td>\n",
              "      <td>0.0</td>\n",
              "      <td>0.0</td>\n",
              "      <td>0.0</td>\n",
              "      <td>...</td>\n",
              "      <td>0.0</td>\n",
              "      <td>0.0</td>\n",
              "      <td>0.0</td>\n",
              "      <td>0.0</td>\n",
              "      <td>0.0</td>\n",
              "      <td>0.0</td>\n",
              "      <td>0.0</td>\n",
              "      <td>0.0</td>\n",
              "      <td>0.0</td>\n",
              "      <td>0.0</td>\n",
              "      <td>0.0</td>\n",
              "      <td>0.0</td>\n",
              "      <td>0.0</td>\n",
              "      <td>0.0</td>\n",
              "      <td>0.0</td>\n",
              "      <td>0.0</td>\n",
              "      <td>0.0</td>\n",
              "      <td>0.0</td>\n",
              "      <td>0.0</td>\n",
              "      <td>0.0</td>\n",
              "      <td>0.0</td>\n",
              "      <td>0.0</td>\n",
              "      <td>0.0</td>\n",
              "      <td>0.0</td>\n",
              "      <td>0.0</td>\n",
              "      <td>0.0</td>\n",
              "      <td>0.0</td>\n",
              "      <td>0.0</td>\n",
              "      <td>0.0</td>\n",
              "      <td>0.0</td>\n",
              "      <td>0.0</td>\n",
              "      <td>0.0</td>\n",
              "      <td>0.0</td>\n",
              "      <td>0.0</td>\n",
              "      <td>0.0</td>\n",
              "      <td>0.0</td>\n",
              "      <td>0.0</td>\n",
              "      <td>0.0</td>\n",
              "      <td>0.0</td>\n",
              "      <td>0.0</td>\n",
              "    </tr>\n",
              "  </tbody>\n",
              "</table>\n",
              "<p>5 rows × 1663 columns</p>\n",
              "</div>"
            ],
            "text/plain": [
              "item_id               user_id  B00008JVTT  ...  B01HIVIU82  B01HJGJ9LS\n",
              "0        A0010606488RW7ZH6EP7         0.0  ...         0.0         0.0\n",
              "1        A0254933A6GXCEJ2WU0K         0.0  ...         0.0         0.0\n",
              "2        A02624829WK3PDCDC0XY         0.0  ...         0.0         0.0\n",
              "3        A0315527BAKOZY6T8TX2         0.0  ...         0.0         0.0\n",
              "4        A06191098432NALLJUET         0.0  ...         0.0         0.0\n",
              "\n",
              "[5 rows x 1663 columns]"
            ]
          },
          "metadata": {
            "tags": []
          },
          "execution_count": 65
        }
      ]
    },
    {
      "cell_type": "code",
      "metadata": {
        "colab": {
          "base_uri": "https://localhost:8080/",
          "height": 238
        },
        "id": "n7L4p9eF5KGW",
        "outputId": "45d99eee-b908-48e9-f89c-dd0b87795851"
      },
      "source": [
        "df_fashion_review.head()"
      ],
      "execution_count": null,
      "outputs": [
        {
          "output_type": "execute_result",
          "data": {
            "text/html": [
              "<div>\n",
              "<style scoped>\n",
              "    .dataframe tbody tr th:only-of-type {\n",
              "        vertical-align: middle;\n",
              "    }\n",
              "\n",
              "    .dataframe tbody tr th {\n",
              "        vertical-align: top;\n",
              "    }\n",
              "\n",
              "    .dataframe thead th {\n",
              "        text-align: right;\n",
              "    }\n",
              "</style>\n",
              "<table border=\"1\" class=\"dataframe\">\n",
              "  <thead>\n",
              "    <tr style=\"text-align: right;\">\n",
              "      <th></th>\n",
              "      <th>rating</th>\n",
              "      <th>user_id</th>\n",
              "      <th>item_id</th>\n",
              "      <th>review</th>\n",
              "    </tr>\n",
              "  </thead>\n",
              "  <tbody>\n",
              "    <tr>\n",
              "      <th>603360</th>\n",
              "      <td>1.0</td>\n",
              "      <td>A2D9XU6VBGO4HU</td>\n",
              "      <td>B01DBMTFA4</td>\n",
              "      <td>Sad</td>\n",
              "    </tr>\n",
              "    <tr>\n",
              "      <th>603361</th>\n",
              "      <td>5.0</td>\n",
              "      <td>A1TQIXB48V40T7</td>\n",
              "      <td>B019NQ5Q14</td>\n",
              "      <td>Thick and cozy, just as pictured. The tag is m...</td>\n",
              "    </tr>\n",
              "    <tr>\n",
              "      <th>603362</th>\n",
              "      <td>1.0</td>\n",
              "      <td>AF7241JYDTI8A</td>\n",
              "      <td>B01HD1C7PY</td>\n",
              "      <td>I ordered a 2xx and it was soooooo small it fi...</td>\n",
              "    </tr>\n",
              "    <tr>\n",
              "      <th>603363</th>\n",
              "      <td>5.0</td>\n",
              "      <td>AKHU2R9PJP22D</td>\n",
              "      <td>B017UVT3F4</td>\n",
              "      <td>Granddaughter loves it.</td>\n",
              "    </tr>\n",
              "    <tr>\n",
              "      <th>603364</th>\n",
              "      <td>5.0</td>\n",
              "      <td>A3BJHX7M023ZBI</td>\n",
              "      <td>B018W8N7EW</td>\n",
              "      <td>Nice tee for shorts and capris.</td>\n",
              "    </tr>\n",
              "  </tbody>\n",
              "</table>\n",
              "</div>"
            ],
            "text/plain": [
              "        rating  ...                                             review\n",
              "603360     1.0  ...                                                Sad\n",
              "603361     5.0  ...  Thick and cozy, just as pictured. The tag is m...\n",
              "603362     1.0  ...  I ordered a 2xx and it was soooooo small it fi...\n",
              "603363     5.0  ...                            Granddaughter loves it.\n",
              "603364     5.0  ...                    Nice tee for shorts and capris.\n",
              "\n",
              "[5 rows x 4 columns]"
            ]
          },
          "metadata": {
            "tags": []
          },
          "execution_count": 66
        }
      ]
    },
    {
      "cell_type": "code",
      "metadata": {
        "colab": {
          "base_uri": "https://localhost:8080/"
        },
        "id": "eIkcHDYG5V1w",
        "outputId": "9b35a52f-a5b8-4041-9693-d805e8080f65"
      },
      "source": [
        "df_fashion_review[\"user_id\"]"
      ],
      "execution_count": null,
      "outputs": [
        {
          "output_type": "execute_result",
          "data": {
            "text/plain": [
              "603360    A2D9XU6VBGO4HU\n",
              "603361    A1TQIXB48V40T7\n",
              "603362     AF7241JYDTI8A\n",
              "603363     AKHU2R9PJP22D\n",
              "603364    A3BJHX7M023ZBI\n",
              "               ...      \n",
              "828694    A32M1OZKT7IC43\n",
              "828695    A1FKS778XITHK6\n",
              "828696     AQTT6V6MSMYC8\n",
              "828697    A2P6021FB6L6T6\n",
              "828698    A2FDKSBXCJJQ26\n",
              "Name: user_id, Length: 225339, dtype: object"
            ]
          },
          "metadata": {
            "tags": []
          },
          "execution_count": 67
        }
      ]
    },
    {
      "cell_type": "code",
      "metadata": {
        "colab": {
          "base_uri": "https://localhost:8080/"
        },
        "id": "afP0Up2Z5ce2",
        "outputId": "ea1d95eb-6faf-4e3b-c8ac-278a299d3170"
      },
      "source": [
        "re[re.index==200]['user_id'].values"
      ],
      "execution_count": null,
      "outputs": [
        {
          "output_type": "execute_result",
          "data": {
            "text/plain": [
              "array(['A10JMZDDFI314F'], dtype=object)"
            ]
          },
          "metadata": {
            "tags": []
          },
          "execution_count": 68
        }
      ]
    },
    {
      "cell_type": "code",
      "metadata": {
        "colab": {
          "base_uri": "https://localhost:8080/",
          "height": 97
        },
        "id": "0Ta-10wj401L",
        "outputId": "5b06309f-9063-45b7-caef-f3125434d9c9"
      },
      "source": [
        "df_fashion_review[df_fashion_review[\"user_id\"]== 'A10JMZDDFI314F']"
      ],
      "execution_count": null,
      "outputs": [
        {
          "output_type": "execute_result",
          "data": {
            "text/html": [
              "<div>\n",
              "<style scoped>\n",
              "    .dataframe tbody tr th:only-of-type {\n",
              "        vertical-align: middle;\n",
              "    }\n",
              "\n",
              "    .dataframe tbody tr th {\n",
              "        vertical-align: top;\n",
              "    }\n",
              "\n",
              "    .dataframe thead th {\n",
              "        text-align: right;\n",
              "    }\n",
              "</style>\n",
              "<table border=\"1\" class=\"dataframe\">\n",
              "  <thead>\n",
              "    <tr style=\"text-align: right;\">\n",
              "      <th></th>\n",
              "      <th>rating</th>\n",
              "      <th>user_id</th>\n",
              "      <th>item_id</th>\n",
              "      <th>review</th>\n",
              "    </tr>\n",
              "  </thead>\n",
              "  <tbody>\n",
              "    <tr>\n",
              "      <th>647261</th>\n",
              "      <td>4.0</td>\n",
              "      <td>A10JMZDDFI314F</td>\n",
              "      <td>B00ZOWJI7A</td>\n",
              "      <td>Instruction sheet lacking info concerning amou...</td>\n",
              "    </tr>\n",
              "  </tbody>\n",
              "</table>\n",
              "</div>"
            ],
            "text/plain": [
              "        rating  ...                                             review\n",
              "647261     4.0  ...  Instruction sheet lacking info concerning amou...\n",
              "\n",
              "[1 rows x 4 columns]"
            ]
          },
          "metadata": {
            "tags": []
          },
          "execution_count": 69
        }
      ]
    },
    {
      "cell_type": "code",
      "metadata": {
        "colab": {
          "base_uri": "https://localhost:8080/"
        },
        "id": "wJ7w99fI59tC",
        "outputId": "2e8ad02f-2436-4f2a-b3a9-4f04cf3cef8d"
      },
      "source": [
        "data = []\n",
        "with gzip.open('AMAZON_FASHION.json.gz') as f:\n",
        "    for l in f:\n",
        "        data.append(json.loads(l.strip()))\n",
        "\n",
        "print(len(data))\n",
        "print(data[0])\n",
        "\n",
        "df = pd.DataFrame.from_dict(data)\n"
      ],
      "execution_count": null,
      "outputs": [
        {
          "output_type": "stream",
          "text": [
            "883636\n",
            "{'overall': 5.0, 'verified': True, 'reviewTime': '10 20, 2014', 'reviewerID': 'A1D4G1SNUZWQOT', 'asin': '7106116521', 'reviewerName': 'Tracy', 'reviewText': 'Exactly what I needed.', 'summary': 'perfect replacements!!', 'unixReviewTime': 1413763200}\n"
          ],
          "name": "stdout"
        }
      ]
    },
    {
      "cell_type": "code",
      "metadata": {
        "colab": {
          "base_uri": "https://localhost:8080/",
          "height": 185
        },
        "id": "UQ9aK4dZ6CIm",
        "outputId": "d526be4f-79f2-4839-ee8e-c2ba25d35e91"
      },
      "source": [
        "df[df[\"reviewerID\"]== 'A10JMZDDFI314F']"
      ],
      "execution_count": null,
      "outputs": [
        {
          "output_type": "execute_result",
          "data": {
            "text/html": [
              "<div>\n",
              "<style scoped>\n",
              "    .dataframe tbody tr th:only-of-type {\n",
              "        vertical-align: middle;\n",
              "    }\n",
              "\n",
              "    .dataframe tbody tr th {\n",
              "        vertical-align: top;\n",
              "    }\n",
              "\n",
              "    .dataframe thead th {\n",
              "        text-align: right;\n",
              "    }\n",
              "</style>\n",
              "<table border=\"1\" class=\"dataframe\">\n",
              "  <thead>\n",
              "    <tr style=\"text-align: right;\">\n",
              "      <th></th>\n",
              "      <th>overall</th>\n",
              "      <th>verified</th>\n",
              "      <th>reviewTime</th>\n",
              "      <th>reviewerID</th>\n",
              "      <th>asin</th>\n",
              "      <th>reviewerName</th>\n",
              "      <th>reviewText</th>\n",
              "      <th>summary</th>\n",
              "      <th>unixReviewTime</th>\n",
              "      <th>vote</th>\n",
              "      <th>style</th>\n",
              "      <th>image</th>\n",
              "    </tr>\n",
              "  </thead>\n",
              "  <tbody>\n",
              "    <tr>\n",
              "      <th>286828</th>\n",
              "      <td>4.0</td>\n",
              "      <td>True</td>\n",
              "      <td>03 5, 2017</td>\n",
              "      <td>A10JMZDDFI314F</td>\n",
              "      <td>B00ZOWJI7A</td>\n",
              "      <td>MMI</td>\n",
              "      <td>Instruction sheet lacking info concerning amou...</td>\n",
              "      <td>\"SOLAR\" generates some  heat - cooler then inc...</td>\n",
              "      <td>1488672000</td>\n",
              "      <td>NaN</td>\n",
              "      <td>NaN</td>\n",
              "      <td>NaN</td>\n",
              "    </tr>\n",
              "  </tbody>\n",
              "</table>\n",
              "</div>"
            ],
            "text/plain": [
              "        overall  verified  reviewTime  ... vote style image\n",
              "286828      4.0      True  03 5, 2017  ...  NaN   NaN   NaN\n",
              "\n",
              "[1 rows x 12 columns]"
            ]
          },
          "metadata": {
            "tags": []
          },
          "execution_count": 71
        }
      ]
    },
    {
      "cell_type": "code",
      "metadata": {
        "colab": {
          "base_uri": "https://localhost:8080/",
          "height": 1000
        },
        "id": "_685mU2WdqD-",
        "outputId": "3d29012a-7154-4bd9-ea98-826fcd4ef11c"
      },
      "source": [
        "predictions"
      ],
      "execution_count": null,
      "outputs": [
        {
          "output_type": "execute_result",
          "data": {
            "text/html": [
              "<div>\n",
              "<style scoped>\n",
              "    .dataframe tbody tr th:only-of-type {\n",
              "        vertical-align: middle;\n",
              "    }\n",
              "\n",
              "    .dataframe tbody tr th {\n",
              "        vertical-align: top;\n",
              "    }\n",
              "\n",
              "    .dataframe thead th {\n",
              "        text-align: right;\n",
              "    }\n",
              "</style>\n",
              "<table border=\"1\" class=\"dataframe\">\n",
              "  <thead>\n",
              "    <tr style=\"text-align: right;\">\n",
              "      <th></th>\n",
              "      <th>title</th>\n",
              "      <th>image</th>\n",
              "      <th>brand</th>\n",
              "      <th>feature</th>\n",
              "      <th>rank</th>\n",
              "      <th>date</th>\n",
              "      <th>item_id</th>\n",
              "      <th>description</th>\n",
              "      <th>price</th>\n",
              "      <th>also_view</th>\n",
              "      <th>also_buy</th>\n",
              "      <th>fit</th>\n",
              "      <th>details</th>\n",
              "      <th>similar_item</th>\n",
              "      <th>tech1</th>\n",
              "      <th>Predictions</th>\n",
              "    </tr>\n",
              "  </thead>\n",
              "  <tbody>\n",
              "    <tr>\n",
              "      <th>584</th>\n",
              "      <td>CoolFire Solar Watch Fast Charger (compatible ...</td>\n",
              "      <td>[https://images-na.ssl-images-amazon.com/image...</td>\n",
              "      <td>Timechant</td>\n",
              "      <td>[Charge your sophisticated solar watch much fa...</td>\n",
              "      <td>13,475inClothing,ShoesJewelry(</td>\n",
              "      <td>Timechant</td>\n",
              "      <td>B00ZOWJI7A</td>\n",
              "      <td>[CoolFire Solar Watch Charger is compatible wi...</td>\n",
              "      <td>$3.99</td>\n",
              "      <td>[B00DBUVKP0, B07DCBZ8N3, B0091N5BJC, B01EFF8J0...</td>\n",
              "      <td>[B074YJ9T4P, B07FWTMWP5, B07LHB398Q, B00DBUVKP...</td>\n",
              "      <td></td>\n",
              "      <td></td>\n",
              "      <td></td>\n",
              "      <td></td>\n",
              "      <td>3.919898</td>\n",
              "    </tr>\n",
              "    <tr>\n",
              "      <th>7</th>\n",
              "      <td>Vans Adult Classic Slip-On, (Checkerboard) Bla...</td>\n",
              "      <td>[https://images-na.ssl-images-amazon.com/image...</td>\n",
              "      <td>Vans</td>\n",
              "      <td>[Shipping Information:\\n                    \\n...</td>\n",
              "      <td>42,109inClothing,ShoesJewelry(</td>\n",
              "      <td>5 star</td>\n",
              "      <td>B000JOOR7O</td>\n",
              "      <td>[The shoe that started it all. The iconic Vans...</td>\n",
              "      <td>$48.99 - $150.00</td>\n",
              "      <td></td>\n",
              "      <td></td>\n",
              "      <td>class=\"a-normal a-align-center a-spacing-smal...</td>\n",
              "      <td></td>\n",
              "      <td></td>\n",
              "      <td></td>\n",
              "      <td>0.558697</td>\n",
              "    </tr>\n",
              "    <tr>\n",
              "      <th>978</th>\n",
              "      <td>SAYFUT Women's Butt Lifter Shaper Seamless Tum...</td>\n",
              "      <td>[https://images-na.ssl-images-amazon.com/image...</td>\n",
              "      <td>SAYFUT</td>\n",
              "      <td>[Size:S,M/L,XL/XXL,3XL(Details, please see our...</td>\n",
              "      <td>9,299inClothing,ShoesJewelry(</td>\n",
              "      <td>5 star</td>\n",
              "      <td>B0183JQHCO</td>\n",
              "      <td></td>\n",
              "      <td>$7.99 - $12.98</td>\n",
              "      <td>[B07FYBLPRP, B06XNQ9Z7K, B01H8KRF5C, B071S4DTY...</td>\n",
              "      <td>[B06XNQ9Z7K, B07FYBLPRP, B01H8KRF5C, B07FC1F4B...</td>\n",
              "      <td>class=\"a-normal a-align-center a-spacing-smal...</td>\n",
              "      <td></td>\n",
              "      <td></td>\n",
              "      <td></td>\n",
              "      <td>0.002904</td>\n",
              "    </tr>\n",
              "    <tr>\n",
              "      <th>475</th>\n",
              "      <td>OAKI Kids Rubber Rain Boots with Easy-On Handl...</td>\n",
              "      <td>[https://images-na.ssl-images-amazon.com/image...</td>\n",
              "      <td>OAKI</td>\n",
              "      <td>[BREATHABLE PROTECTION: Oakiwear Kids Rubber R...</td>\n",
              "      <td>7,402inClothing,ShoesJewelry(</td>\n",
              "      <td>5 star</td>\n",
              "      <td>B00UPN42RY</td>\n",
              "      <td>[Oakiwear Kids Rubber Rain Boots with Easy-On ...</td>\n",
              "      <td>$16.00 - $22.77</td>\n",
              "      <td></td>\n",
              "      <td></td>\n",
              "      <td>class=\"a-normal a-align-center a-spacing-smal...</td>\n",
              "      <td></td>\n",
              "      <td></td>\n",
              "      <td></td>\n",
              "      <td>0.001628</td>\n",
              "    </tr>\n",
              "    <tr>\n",
              "      <th>20</th>\n",
              "      <td>Hanes Mens EcoSmart Fleece Sweatpant</td>\n",
              "      <td>[https://images-na.ssl-images-amazon.com/image...</td>\n",
              "      <td></td>\n",
              "      <td>[50% Cotton, 50% Polyester, Imported, Drawstri...</td>\n",
              "      <td>13,395inClothing,Shoesamp;Jewelry(</td>\n",
              "      <td>5 star</td>\n",
              "      <td>B000YFSR5G</td>\n",
              "      <td>[The Hanes men's comfort blend EcoSmart sweatp...</td>\n",
              "      <td>$7.73 - $31.69</td>\n",
              "      <td>[B07KCRJFR9, B01L8JJ174, B00JULWE5O, B06XCQSPF...</td>\n",
              "      <td>[B01L8JJ174, B07KCRJFR9, B01L8JJ1GK, B00T7TU14...</td>\n",
              "      <td>class=\"a-normal a-align-center a-spacing-smal...</td>\n",
              "      <td></td>\n",
              "      <td></td>\n",
              "      <td></td>\n",
              "      <td>0.001568</td>\n",
              "    </tr>\n",
              "    <tr>\n",
              "      <th>1385</th>\n",
              "      <td>Lux Accessories Womens Extra Large Zip Up Beac...</td>\n",
              "      <td>[https://images-na.ssl-images-amazon.com/image...</td>\n",
              "      <td></td>\n",
              "      <td>[Premium Canvas Exterior - Lined Interior, Upp...</td>\n",
              "      <td>1,132,587inClothing,ShoesJewelry(</td>\n",
              "      <td>5 star</td>\n",
              "      <td>B01E989MZM</td>\n",
              "      <td></td>\n",
              "      <td>$9.95</td>\n",
              "      <td>[B01NBI49YD, B071WDYR32, B07BH222HK]</td>\n",
              "      <td>[B0716HYJVV]</td>\n",
              "      <td></td>\n",
              "      <td></td>\n",
              "      <td></td>\n",
              "      <td></td>\n",
              "      <td>0.001035</td>\n",
              "    </tr>\n",
              "    <tr>\n",
              "      <th>1026</th>\n",
              "      <td>Vans Kids' Classic Slip-On-K</td>\n",
              "      <td>[https://images-na.ssl-images-amazon.com/image...</td>\n",
              "      <td>Vans</td>\n",
              "      <td>[100% Textile, Imported, Rubber sole, Easy On^...</td>\n",
              "      <td>30,181inClothing,ShoesJewelry(</td>\n",
              "      <td>5 star</td>\n",
              "      <td>B018WJY1RI</td>\n",
              "      <td>[Introduced in 1979, the slip on is the \"go to...</td>\n",
              "      <td>$26.64 - $79.99</td>\n",
              "      <td>[B01GJR7ADW, B01MDPT4DO, B01NC0DM1K, B01N0YZF0...</td>\n",
              "      <td>[B01GJR7ADW, B01MDPT4DO, B01LXSD1TW, B01BWML0F...</td>\n",
              "      <td>class=\"a-normal a-align-center a-spacing-smal...</td>\n",
              "      <td></td>\n",
              "      <td></td>\n",
              "      <td></td>\n",
              "      <td>0.000950</td>\n",
              "    </tr>\n",
              "    <tr>\n",
              "      <th>306</th>\n",
              "      <td>Senchanting Women Winter Warm Ski Knitted Croc...</td>\n",
              "      <td>[https://images-na.ssl-images-amazon.com/image...</td>\n",
              "      <td>Senchanting</td>\n",
              "      <td>[100% Guarantee with high quality;Material:kni...</td>\n",
              "      <td>65,738inClothing,ShoesJewelry(</td>\n",
              "      <td>5 star</td>\n",
              "      <td>B00MLYE8PQ</td>\n",
              "      <td>[Features:  Popular and classic knitted baggy ...</td>\n",
              "      <td>$7.99</td>\n",
              "      <td>[B01N2KJHS9, B07GXGHNR5, B01M60QHJL, B00NZVHHT...</td>\n",
              "      <td>[B00NZVHHTI, B01N2KJHS9, B01M60QHJL, B00OZ8PW8...</td>\n",
              "      <td>class=\"a-normal a-align-center a-spacing-smal...</td>\n",
              "      <td></td>\n",
              "      <td></td>\n",
              "      <td></td>\n",
              "      <td>0.000903</td>\n",
              "    </tr>\n",
              "    <tr>\n",
              "      <th>85</th>\n",
              "      <td>swimsuitsforall Women's Loose Short 10 Black</td>\n",
              "      <td>[https://images-na.ssl-images-amazon.com/image...</td>\n",
              "      <td>Beach Belle</td>\n",
              "      <td>[Product Dimensions:\\n                    \\n8....</td>\n",
              "      <td>1,418,268inClothing,ShoesJewelry(</td>\n",
              "      <td>5 star</td>\n",
              "      <td>B009046YFW</td>\n",
              "      <td></td>\n",
              "      <td></td>\n",
              "      <td></td>\n",
              "      <td>[B07415T676, B01N57FCGG, B01F8P75DQ]</td>\n",
              "      <td></td>\n",
              "      <td></td>\n",
              "      <td></td>\n",
              "      <td></td>\n",
              "      <td>0.000867</td>\n",
              "    </tr>\n",
              "    <tr>\n",
              "      <th>549</th>\n",
              "      <td>WearMe Pro - Classic Half Frame Polarized Semi...</td>\n",
              "      <td>[https://images-na.ssl-images-amazon.com/image...</td>\n",
              "      <td>WearMe Pro</td>\n",
              "      <td>[Plastic frame, Plastic lens, polarized, Lens ...</td>\n",
              "      <td>15,542inClothing,ShoesJewelry(</td>\n",
              "      <td>5 star</td>\n",
              "      <td>B00XTM0ZPG</td>\n",
              "      <td></td>\n",
              "      <td>$9.99</td>\n",
              "      <td>[B01M4O32OW, B07BMQYJKY, B0776GXNFD, B010A83KG...</td>\n",
              "      <td>[B06WLLJSN7, B01M4O32OW, B0108UJZ0M, B07BMQYJK...</td>\n",
              "      <td></td>\n",
              "      <td></td>\n",
              "      <td></td>\n",
              "      <td></td>\n",
              "      <td>0.000807</td>\n",
              "    </tr>\n",
              "  </tbody>\n",
              "</table>\n",
              "</div>"
            ],
            "text/plain": [
              "                                                  title  ... Predictions\n",
              "584   CoolFire Solar Watch Fast Charger (compatible ...  ...    3.919898\n",
              "7     Vans Adult Classic Slip-On, (Checkerboard) Bla...  ...    0.558697\n",
              "978   SAYFUT Women's Butt Lifter Shaper Seamless Tum...  ...    0.002904\n",
              "475   OAKI Kids Rubber Rain Boots with Easy-On Handl...  ...    0.001628\n",
              "20                 Hanes Mens EcoSmart Fleece Sweatpant  ...    0.001568\n",
              "1385  Lux Accessories Womens Extra Large Zip Up Beac...  ...    0.001035\n",
              "1026                       Vans Kids' Classic Slip-On-K  ...    0.000950\n",
              "306   Senchanting Women Winter Warm Ski Knitted Croc...  ...    0.000903\n",
              "85         swimsuitsforall Women's Loose Short 10 Black  ...    0.000867\n",
              "549   WearMe Pro - Classic Half Frame Polarized Semi...  ...    0.000807\n",
              "\n",
              "[10 rows x 16 columns]"
            ]
          },
          "metadata": {
            "tags": []
          },
          "execution_count": 72
        }
      ]
    }
  ]
}